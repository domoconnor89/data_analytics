{
 "cells": [
  {
   "cell_type": "markdown",
   "id": "6c3ecbdf",
   "metadata": {},
   "source": [
    "# GENDER AMBIGUOUS NAMES - VISUALIZATION"
   ]
  },
  {
   "cell_type": "markdown",
   "id": "df589e85",
   "metadata": {},
   "source": [
    "### WHEN FRIENDS OF MINE WERE EXPECTING THEIR FIRST BORN, WE INEVITABLY SPOKE ABOUT NAMES... \n",
    "_WHERE WOULD YOU FIND INSPIRATION? WOULD IT  NEED TO BE SOMETHING UNIQUE? ARE THERE NAMES YOU'D WANT TO AVOID?_ \n",
    "\n",
    "#### IT TURNED OUT THEY WANTED A NAME WHICH WOULD WORK REGARDLESS OF WHETHER THEY WERE TO HAVE A BOY OR GIRL. I KNEW ABOUT THE USA'S SOCIAL SECURITY DATABASE AND THOUGHT THAT IT COULD COME IN HANDY FOR SOMETHING LIKE THIS...\n",
    "\n",
    "#### Below, we have a scatter graph which allows the user to plot a number of random names, define how modern the names will be by selecting a year range, and how ambiguous the gender of the name would be having given it an ambiguity factor from 0-100..."
   ]
  },
  {
   "cell_type": "code",
   "execution_count": 1,
   "id": "3a7e805c",
   "metadata": {},
   "outputs": [],
   "source": [
    "import pandas as pd\n",
    "import plotly.express as px\n",
    "import streamlit as st\n",
    "import matplotlib.pyplot as plt\n",
    "import seaborn as sns\n",
    "import numpy as np"
   ]
  },
  {
   "cell_type": "code",
   "execution_count": 29,
   "id": "a07756d7",
   "metadata": {},
   "outputs": [],
   "source": [
    "def random_name_viz(min_year, max_year, min_ambig_scr, max_ambig_scr, smpl_size):\n",
    "    \n",
    "## Import File and Sort\n",
    "    all_df = pd.read_csv('../data/baby_names_all_years.csv')\n",
    "    all_df.sort_values(by=['year', 'name', 'gender'], ascending=[False, True, False], inplace=True)\n",
    "    \n",
    "## Pivot to reduce name & year to one row, with female and male quantities as new values\n",
    "    pivot_df = all_df.pivot_table(index=['name', 'year'], \n",
    "                              columns='gender', values='frequency', \n",
    "                              aggfunc='sum').reset_index()\n",
    "\n",
    "    pivot_df.sort_values(by=['year', 'name'], ascending=[False, True],inplace=True)\n",
    "    pivot_df.reset_index(drop=True,inplace=True)\n",
    "    pivot_df.fillna(0,inplace=True)\n",
    "    pivot_df.rename(columns={'M': 'male_freq', 'F': 'feme_freq'}, inplace=True)\n",
    "    \n",
    "    pivot_df['ttl_freq'] = pivot_df['feme_freq'] + pivot_df['male_freq']\n",
    "\n",
    "    pivot_df['feme_pc'] = round((pivot_df['feme_freq'] / pivot_df['ttl_freq'])*100,2)\n",
    "    pivot_df['male_pc'] = round((pivot_df['male_freq'] / pivot_df['ttl_freq'])*100,2)\n",
    "\n",
    "    pivot_df = pivot_df[['year','name','ttl_freq',\n",
    "                         'feme_freq','feme_pc','male_freq','male_pc']]\n",
    "    \n",
    "## Add the ambiguity score for each name per year\n",
    "\n",
    "    def calc_ambig_scr(row):\n",
    "        male_pc = row['male_pc']\n",
    "        feme_pc = row['feme_pc']\n",
    "        if feme_pc < 50:\n",
    "            return feme_pc * 2\n",
    "        else:\n",
    "            return male_pc * 2\n",
    "\n",
    "    pivot_df['ambig_scr'] = pivot_df.apply(lambda row: calc_ambig_scr(row), axis=1)\n",
    "    pivot_df['weblink'] = pivot_df['name'].apply(lambda x: f'<a href=\"https://babynames.com/name/{x}\">{x}</a>')\n",
    "    \n",
    "## Create a Function to make these variable sample dataframes\n",
    "    def sample_df(min_year, max_year, min_ambig_scr, max_ambig_scr, smpl_size):\n",
    "        sample_df = pivot_df[(pivot_df['year'] >= min_year) & \n",
    "                             (pivot_df['year'] <= max_year) &\n",
    "                             (pivot_df['ambig_scr'] >= min_ambig_scr) &\n",
    "                             (pivot_df['ambig_scr'] <= max_ambig_scr)]\n",
    "    \n",
    "        sample_df = sample_df.pivot_table(index='name', \n",
    "                              values=['ttl_freq', 'feme_freq', 'male_freq',\n",
    "                                      'feme_pc','male_pc', 'ambig_scr', 'weblink'], \n",
    "                              aggfunc={'ttl_freq': 'sum', 'feme_freq': 'sum', 'male_freq': 'sum', \n",
    "                                       'feme_pc': 'mean', 'male_pc': 'mean', 'ambig_scr': 'mean', \n",
    "                                       'weblink': 'min'})\n",
    "    \n",
    "        sample_df = sample_df.round(2)\n",
    "        \n",
    "        ranking = sample_df['ttl_freq'].rank(ascending=False, method='dense')\n",
    "        amount = len(sample_df)\n",
    "        sample_df['ranking'] = ranking.astype(int).astype(str) + ' of ' + str(amount)\n",
    "                                     \n",
    "        df = sample_df.sample(smpl_size)\n",
    "        return df.reset_index()\n",
    "    \n",
    "## Visualisation\n",
    "\n",
    "    data = sample_df(min_year, max_year, min_ambig_scr, max_ambig_scr, smpl_size)\n",
    "\n",
    "    fig = px.scatter(data, x='ambig_scr', y='name', \n",
    "                     color='male_pc', size='ttl_freq',\n",
    "                     hover_name='name', \n",
    "                     hover_data={'ambig_scr': True, 'ttl_freq': True, 'ranking':True,\n",
    "                                 'male_pc': True, 'feme_pc': True,\n",
    "                                 'weblink':True},\n",
    "                     color_continuous_scale='RdBu', range_color=[0, 100], \n",
    "                     labels={'name': 'Name','ambig_scr': 'Ambiguity Score', \n",
    "                             'ttl_freq': 'Count', 'ranking':'Ranking',\n",
    "                             'male_pc': '% as Male',\n",
    "                             'feme_pc': '% as Female',\n",
    "                             'weblink':'More Info'})\n",
    "\n",
    "    fig.update_traces(marker=dict(size=data['ttl_freq']*3, line=dict(color='black', width=1)))\n",
    "\n",
    "    fig.update_layout(title='Random Name Genrator',\n",
    "                      xaxis_title='Gender Ambiguity Score',\n",
    "                      yaxis_title='Names',\n",
    "                      coloraxis_colorbar=dict(title='Male %'),\n",
    "                      height=600,\n",
    "                      plot_bgcolor='#f3f4f4',\n",
    "                      clickmode='event+select')\n",
    "\n",
    "    fig.update_xaxes(range=[0, 100])\n",
    "\n",
    "    fig.show(renderer='notebook_connected')"
   ]
  },
  {
   "cell_type": "markdown",
   "id": "c711f2c9",
   "metadata": {},
   "source": [
    "### In the parentheses below, input... \n",
    "- Year Start, \n",
    "- Year End, \n",
    "- Min. Ambiguity, \n",
    "- Max. Ambiguity, \n",
    "- Number of Names to Output"
   ]
  },
  {
   "cell_type": "code",
   "execution_count": 30,
   "id": "44ca7b3a",
   "metadata": {
    "scrolled": false
   },
   "outputs": [
    {
     "data": {
      "text/html": [
       "        <script type=\"text/javascript\">\n",
       "        window.PlotlyConfig = {MathJaxConfig: 'local'};\n",
       "        if (window.MathJax && window.MathJax.Hub && window.MathJax.Hub.Config) {window.MathJax.Hub.Config({SVG: {font: \"STIX-Web\"}});}\n",
       "        if (typeof require !== 'undefined') {\n",
       "        require.undef(\"plotly\");\n",
       "        requirejs.config({\n",
       "            paths: {\n",
       "                'plotly': ['https://cdn.plot.ly/plotly-2.12.1.min']\n",
       "            }\n",
       "        });\n",
       "        require(['plotly'], function(Plotly) {\n",
       "            window._Plotly = Plotly;\n",
       "        });\n",
       "        }\n",
       "        </script>\n",
       "        "
      ]
     },
     "metadata": {},
     "output_type": "display_data"
    },
    {
     "data": {
      "text/html": [
       "<div>                            <div id=\"1925f61f-f80f-4785-97a5-56161e1df07e\" class=\"plotly-graph-div\" style=\"height:600px; width:100%;\"></div>            <script type=\"text/javascript\">                require([\"plotly\"], function(Plotly) {                    window.PLOTLYENV=window.PLOTLYENV || {};                                    if (document.getElementById(\"1925f61f-f80f-4785-97a5-56161e1df07e\")) {                    Plotly.newPlot(                        \"1925f61f-f80f-4785-97a5-56161e1df07e\",                        [{\"customdata\":[[97.0,\"106 of 533\",70.98,29.02,\"<a href=\\\"https://babynames.com/name/Mearl\\\">Mearl</a>\"],[14.0,\"181 of 533\",64.29,35.71,\"<a href=\\\"https://babynames.com/name/Othello\\\">Othello</a>\"],[40.0,\"155 of 533\",38.0,62.0,\"<a href=\\\"https://babynames.com/name/Mackie\\\">Mackie</a>\"],[151.0,\"74 of 533\",61.11,38.89,\"<a href=\\\"https://babynames.com/name/Marlyn\\\">Marlyn</a>\"],[15.0,\"180 of 533\",60.0,40.0,\"<a href=\\\"https://babynames.com/name/Haley\\\">Haley</a>\"],[21.0,\"174 of 533\",76.19,23.81,\"<a href=\\\"https://babynames.com/name/Atlee\\\">Atlee</a>\"],[119.0,\"93 of 533\",70.7,29.3,\"<a href=\\\"https://babynames.com/name/Robin\\\">Robin</a>\"],[43.0,\"152 of 533\",35.89,64.11,\"<a href=\\\"https://babynames.com/name/Lattie\\\">Lattie</a>\"]],\"hovertemplate\":\"<b>%{hovertext}</b><br><br>Ambiguity Score=%{x}<br>Name=%{y}<br>Count=%{customdata[0]}<br>Ranking=%{customdata[1]}<br>% as Male=%{marker.color}<br>% as Female=%{customdata[3]}<br>More Info=%{customdata[4]}<extra></extra>\",\"hovertext\":[\"Mearl\",\"Othello\",\"Mackie\",\"Marlyn\",\"Haley\",\"Atlee\",\"Robin\",\"Lattie\"],\"legendgroup\":\"\",\"marker\":{\"color\":[70.98,64.29,38.0,61.11,60.0,76.19,70.7,35.89],\"coloraxis\":\"coloraxis\",\"size\":[291.0,42.0,120.0,453.0,45.0,63.0,357.0,129.0],\"sizemode\":\"area\",\"sizeref\":0.3775,\"symbol\":\"circle\",\"line\":{\"color\":\"black\",\"width\":1}},\"mode\":\"markers\",\"name\":\"\",\"orientation\":\"h\",\"showlegend\":false,\"x\":[58.04,71.42,76.0,77.78,80.0,47.62,58.6,71.78],\"xaxis\":\"x\",\"y\":[\"Mearl\",\"Othello\",\"Mackie\",\"Marlyn\",\"Haley\",\"Atlee\",\"Robin\",\"Lattie\"],\"yaxis\":\"y\",\"type\":\"scatter\"}],                        {\"template\":{\"data\":{\"candlestick\":[{\"decreasing\":{\"line\":{\"color\":\"#000033\"}},\"increasing\":{\"line\":{\"color\":\"#000032\"}},\"type\":\"candlestick\"}],\"contourcarpet\":[{\"colorscale\":[[0.0,\"#000011\"],[0.1111111111111111,\"#000012\"],[0.2222222222222222,\"#000013\"],[0.3333333333333333,\"#000014\"],[0.4444444444444444,\"#000015\"],[0.5555555555555556,\"#000016\"],[0.6666666666666666,\"#000017\"],[0.7777777777777778,\"#000018\"],[0.8888888888888888,\"#000019\"],[1.0,\"#000020\"]],\"type\":\"contourcarpet\"}],\"contour\":[{\"colorscale\":[[0.0,\"#000011\"],[0.1111111111111111,\"#000012\"],[0.2222222222222222,\"#000013\"],[0.3333333333333333,\"#000014\"],[0.4444444444444444,\"#000015\"],[0.5555555555555556,\"#000016\"],[0.6666666666666666,\"#000017\"],[0.7777777777777778,\"#000018\"],[0.8888888888888888,\"#000019\"],[1.0,\"#000020\"]],\"type\":\"contour\"}],\"heatmap\":[{\"colorscale\":[[0.0,\"#000011\"],[0.1111111111111111,\"#000012\"],[0.2222222222222222,\"#000013\"],[0.3333333333333333,\"#000014\"],[0.4444444444444444,\"#000015\"],[0.5555555555555556,\"#000016\"],[0.6666666666666666,\"#000017\"],[0.7777777777777778,\"#000018\"],[0.8888888888888888,\"#000019\"],[1.0,\"#000020\"]],\"type\":\"heatmap\"}],\"histogram2d\":[{\"colorscale\":[[0.0,\"#000011\"],[0.1111111111111111,\"#000012\"],[0.2222222222222222,\"#000013\"],[0.3333333333333333,\"#000014\"],[0.4444444444444444,\"#000015\"],[0.5555555555555556,\"#000016\"],[0.6666666666666666,\"#000017\"],[0.7777777777777778,\"#000018\"],[0.8888888888888888,\"#000019\"],[1.0,\"#000020\"]],\"type\":\"histogram2d\"}],\"icicle\":[{\"textfont\":{\"color\":\"white\"},\"type\":\"icicle\"}],\"sankey\":[{\"textfont\":{\"color\":\"#000036\"},\"type\":\"sankey\"}],\"scatter\":[{\"marker\":{\"line\":{\"width\":0}},\"type\":\"scatter\"}],\"table\":[{\"cells\":{\"fill\":{\"color\":\"#000038\"},\"font\":{\"color\":\"#000037\"},\"line\":{\"color\":\"#000039\"}},\"header\":{\"fill\":{\"color\":\"#000040\"},\"font\":{\"color\":\"#000036\"},\"line\":{\"color\":\"#000039\"}},\"type\":\"table\"}],\"waterfall\":[{\"connector\":{\"line\":{\"color\":\"#000036\",\"width\":2}},\"decreasing\":{\"marker\":{\"color\":\"#000033\"}},\"increasing\":{\"marker\":{\"color\":\"#000032\"}},\"totals\":{\"marker\":{\"color\":\"#000034\"}},\"type\":\"waterfall\"}]},\"layout\":{\"coloraxis\":{\"colorscale\":[[0.0,\"#000011\"],[0.1111111111111111,\"#000012\"],[0.2222222222222222,\"#000013\"],[0.3333333333333333,\"#000014\"],[0.4444444444444444,\"#000015\"],[0.5555555555555556,\"#000016\"],[0.6666666666666666,\"#000017\"],[0.7777777777777778,\"#000018\"],[0.8888888888888888,\"#000019\"],[1.0,\"#000020\"]]},\"colorscale\":{\"diverging\":[[0.0,\"#000021\"],[0.1,\"#000022\"],[0.2,\"#000023\"],[0.3,\"#000024\"],[0.4,\"#000025\"],[0.5,\"#000026\"],[0.6,\"#000027\"],[0.7,\"#000028\"],[0.8,\"#000029\"],[0.9,\"#000030\"],[1.0,\"#000031\"]],\"sequential\":[[0.0,\"#000011\"],[0.1111111111111111,\"#000012\"],[0.2222222222222222,\"#000013\"],[0.3333333333333333,\"#000014\"],[0.4444444444444444,\"#000015\"],[0.5555555555555556,\"#000016\"],[0.6666666666666666,\"#000017\"],[0.7777777777777778,\"#000018\"],[0.8888888888888888,\"#000019\"],[1.0,\"#000020\"]],\"sequentialminus\":[[0.0,\"#000011\"],[0.1111111111111111,\"#000012\"],[0.2222222222222222,\"#000013\"],[0.3333333333333333,\"#000014\"],[0.4444444444444444,\"#000015\"],[0.5555555555555556,\"#000016\"],[0.6666666666666666,\"#000017\"],[0.7777777777777778,\"#000018\"],[0.8888888888888888,\"#000019\"],[1.0,\"#000020\"]]},\"colorway\":[\"#000001\",\"#000002\",\"#000003\",\"#000004\",\"#000005\",\"#000006\",\"#000007\",\"#000008\",\"#000009\",\"#000010\"]}},\"xaxis\":{\"anchor\":\"y\",\"domain\":[0.0,1.0],\"title\":{\"text\":\"Gender Ambiguity Score\"},\"range\":[0,100]},\"yaxis\":{\"anchor\":\"x\",\"domain\":[0.0,1.0],\"title\":{\"text\":\"Names\"}},\"coloraxis\":{\"colorbar\":{\"title\":{\"text\":\"Male %\"}},\"colorscale\":[[0.0,\"rgb(103,0,31)\"],[0.1,\"rgb(178,24,43)\"],[0.2,\"rgb(214,96,77)\"],[0.3,\"rgb(244,165,130)\"],[0.4,\"rgb(253,219,199)\"],[0.5,\"rgb(247,247,247)\"],[0.6,\"rgb(209,229,240)\"],[0.7,\"rgb(146,197,222)\"],[0.8,\"rgb(67,147,195)\"],[0.9,\"rgb(33,102,172)\"],[1.0,\"rgb(5,48,97)\"]],\"cmin\":0,\"cmax\":100},\"legend\":{\"tracegroupgap\":0,\"itemsizing\":\"constant\"},\"margin\":{\"t\":60},\"title\":{\"text\":\"Random Name Genrator\"},\"height\":600,\"plot_bgcolor\":\"#f3f4f4\",\"clickmode\":\"event+select\"},                        {\"responsive\": true}                    ).then(function(){\n",
       "                            \n",
       "var gd = document.getElementById('1925f61f-f80f-4785-97a5-56161e1df07e');\n",
       "var x = new MutationObserver(function (mutations, observer) {{\n",
       "        var display = window.getComputedStyle(gd).display;\n",
       "        if (!display || display === 'none') {{\n",
       "            console.log([gd, 'removed!']);\n",
       "            Plotly.purge(gd);\n",
       "            observer.disconnect();\n",
       "        }}\n",
       "}});\n",
       "\n",
       "// Listen for the removal of the full notebook cells\n",
       "var notebookContainer = gd.closest('#notebook-container');\n",
       "if (notebookContainer) {{\n",
       "    x.observe(notebookContainer, {childList: true});\n",
       "}}\n",
       "\n",
       "// Listen for the clearing of the current output cell\n",
       "var outputEl = gd.closest('.output');\n",
       "if (outputEl) {{\n",
       "    x.observe(outputEl, {childList: true});\n",
       "}}\n",
       "\n",
       "                        })                };                });            </script>        </div>"
      ]
     },
     "metadata": {},
     "output_type": "display_data"
    }
   ],
   "source": [
    "random_name_viz(1920, 1922, 46, 92, 8)"
   ]
  }
 ],
 "metadata": {
  "kernelspec": {
   "display_name": "Python 3 (ipykernel)",
   "language": "python",
   "name": "python3"
  },
  "language_info": {
   "codemirror_mode": {
    "name": "ipython",
    "version": 3
   },
   "file_extension": ".py",
   "mimetype": "text/x-python",
   "name": "python",
   "nbconvert_exporter": "python",
   "pygments_lexer": "ipython3",
   "version": "3.11.3"
  }
 },
 "nbformat": 4,
 "nbformat_minor": 5
}
