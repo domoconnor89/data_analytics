{
 "cells": [
  {
   "cell_type": "code",
   "execution_count": 1,
   "id": "1e6d632b",
   "metadata": {},
   "outputs": [],
   "source": [
    "import numpy as np\n",
    "import pandas as pd\n",
    "from matplotlib import pyplot as plt\n",
    "import seaborn as sns"
   ]
  },
  {
   "cell_type": "markdown",
   "id": "e91dbaa3",
   "metadata": {},
   "source": [
    "First, improve your plot with the new features you learned during the encounter:\n",
    "\n",
    "Rotate the x-ticks by 45 degrees\n",
    "Color each point according to continent\n",
    "Annotate 2 to 4 countries\n",
    "Add grid-lines\n",
    "Adjust the opacity of the points\n",
    "Try out different plotting themes\n",
    "To create an animated scatterplot showing the correlation between life expectancy and fertility, create one plot for each year between 1960 and 2015 (before that, the data contains too many gaps).\n",
    "\n",
    "### Step 1\n",
    "Write a for loop that goes through each year\n",
    "\n",
    "### Step 2\n",
    "In each iteration produce a scatterplot like the one you have made in the previous challenges\n",
    "\n",
    "### Step 3\n",
    "Save each scatterplot to a separate file containing the year in the filename, e.g. plot_1999.png.\n",
    "\n",
    "### Step 4\n",
    "After saving the plot call plt.close() to remove the plot before plotting the next year.\n",
    "\n",
    "### Step 5\n",
    "To generate a gif file from the individual pictures, adjust the following code example and execute it:\n",
    "\n",
    "```python\n",
    "import imageio\n",
    "\n",
    "images = []\n",
    "\n",
    "for year in range(___, ___):\n",
    "    filename = f'___'\n",
    "    images.append(imageio.imread(___))\n",
    "\n",
    "imageio.mimsave(___, images, fps=20)\n",
    "````\n",
    "\n",
    "**Tips**\n",
    "+ make the size of the plot larger\n",
    "+ set axis ranges for the complete story\n",
    "+ use hue to color the points according to a column\n",
    "+ use size to emphasize the difference in point dependent on a column value\n",
    "+ try other things to tell your story to the fullest\n",
    "+ use the function plt.axis(xmin, xmax, ymin, ymax) to fix the coordinates of the plot."
   ]
  },
  {
   "cell_type": "code",
   "execution_count": 3,
   "id": "1fbb69b6",
   "metadata": {},
   "outputs": [
    {
     "data": {
      "text/html": [
       "<div>\n",
       "<style scoped>\n",
       "    .dataframe tbody tr th:only-of-type {\n",
       "        vertical-align: middle;\n",
       "    }\n",
       "\n",
       "    .dataframe tbody tr th {\n",
       "        vertical-align: top;\n",
       "    }\n",
       "\n",
       "    .dataframe thead th {\n",
       "        text-align: right;\n",
       "    }\n",
       "</style>\n",
       "<table border=\"1\" class=\"dataframe\">\n",
       "  <thead>\n",
       "    <tr style=\"text-align: right;\">\n",
       "      <th></th>\n",
       "      <th>year</th>\n",
       "      <th>country</th>\n",
       "      <th>continent</th>\n",
       "      <th>population</th>\n",
       "      <th>fertility</th>\n",
       "      <th>life expectancy</th>\n",
       "    </tr>\n",
       "  </thead>\n",
       "  <tbody>\n",
       "    <tr>\n",
       "      <th>13063</th>\n",
       "      <td>2015</td>\n",
       "      <td>Afghanistan</td>\n",
       "      <td>Asia</td>\n",
       "      <td>32526562.0</td>\n",
       "      <td>4.47</td>\n",
       "      <td>53.8</td>\n",
       "    </tr>\n",
       "    <tr>\n",
       "      <th>13064</th>\n",
       "      <td>2015</td>\n",
       "      <td>Albania</td>\n",
       "      <td>Europe</td>\n",
       "      <td>2896679.0</td>\n",
       "      <td>1.78</td>\n",
       "      <td>78.0</td>\n",
       "    </tr>\n",
       "    <tr>\n",
       "      <th>13065</th>\n",
       "      <td>2015</td>\n",
       "      <td>Algeria</td>\n",
       "      <td>Africa</td>\n",
       "      <td>39666519.0</td>\n",
       "      <td>2.71</td>\n",
       "      <td>76.4</td>\n",
       "    </tr>\n",
       "    <tr>\n",
       "      <th>13066</th>\n",
       "      <td>2015</td>\n",
       "      <td>Angola</td>\n",
       "      <td>Africa</td>\n",
       "      <td>25021974.0</td>\n",
       "      <td>5.65</td>\n",
       "      <td>59.6</td>\n",
       "    </tr>\n",
       "    <tr>\n",
       "      <th>13067</th>\n",
       "      <td>2015</td>\n",
       "      <td>Antigua and Barbuda</td>\n",
       "      <td>North America</td>\n",
       "      <td>91818.0</td>\n",
       "      <td>2.06</td>\n",
       "      <td>76.4</td>\n",
       "    </tr>\n",
       "    <tr>\n",
       "      <th>...</th>\n",
       "      <td>...</td>\n",
       "      <td>...</td>\n",
       "      <td>...</td>\n",
       "      <td>...</td>\n",
       "      <td>...</td>\n",
       "      <td>...</td>\n",
       "    </tr>\n",
       "    <tr>\n",
       "      <th>16739</th>\n",
       "      <td>2015</td>\n",
       "      <td>Wallis et Futuna</td>\n",
       "      <td>NaN</td>\n",
       "      <td>13151.0</td>\n",
       "      <td>NaN</td>\n",
       "      <td>NaN</td>\n",
       "    </tr>\n",
       "    <tr>\n",
       "      <th>16740</th>\n",
       "      <td>2015</td>\n",
       "      <td>South Sudan</td>\n",
       "      <td>Africa</td>\n",
       "      <td>12339812.0</td>\n",
       "      <td>NaN</td>\n",
       "      <td>56.1</td>\n",
       "    </tr>\n",
       "    <tr>\n",
       "      <th>16741</th>\n",
       "      <td>2015</td>\n",
       "      <td>Curaçao</td>\n",
       "      <td>NaN</td>\n",
       "      <td>157203.0</td>\n",
       "      <td>NaN</td>\n",
       "      <td>NaN</td>\n",
       "    </tr>\n",
       "    <tr>\n",
       "      <th>16742</th>\n",
       "      <td>2015</td>\n",
       "      <td>Sint Maarten (Dutch part)</td>\n",
       "      <td>NaN</td>\n",
       "      <td>38745.0</td>\n",
       "      <td>NaN</td>\n",
       "      <td>NaN</td>\n",
       "    </tr>\n",
       "    <tr>\n",
       "      <th>16744</th>\n",
       "      <td>2015</td>\n",
       "      <td>Taiwan</td>\n",
       "      <td>NaN</td>\n",
       "      <td>NaN</td>\n",
       "      <td>NaN</td>\n",
       "      <td>79.5</td>\n",
       "    </tr>\n",
       "  </tbody>\n",
       "</table>\n",
       "<p>233 rows × 6 columns</p>\n",
       "</div>"
      ],
      "text/plain": [
       "       year                    country      continent  population  fertility  \\\n",
       "13063  2015                Afghanistan           Asia  32526562.0       4.47   \n",
       "13064  2015                    Albania         Europe   2896679.0       1.78   \n",
       "13065  2015                    Algeria         Africa  39666519.0       2.71   \n",
       "13066  2015                     Angola         Africa  25021974.0       5.65   \n",
       "13067  2015        Antigua and Barbuda  North America     91818.0       2.06   \n",
       "...     ...                        ...            ...         ...        ...   \n",
       "16739  2015           Wallis et Futuna            NaN     13151.0        NaN   \n",
       "16740  2015                South Sudan         Africa  12339812.0        NaN   \n",
       "16741  2015                    Curaçao            NaN    157203.0        NaN   \n",
       "16742  2015  Sint Maarten (Dutch part)            NaN     38745.0        NaN   \n",
       "16744  2015                     Taiwan            NaN         NaN        NaN   \n",
       "\n",
       "       life expectancy  \n",
       "13063             53.8  \n",
       "13064             78.0  \n",
       "13065             76.4  \n",
       "13066             59.6  \n",
       "13067             76.4  \n",
       "...                ...  \n",
       "16739              NaN  \n",
       "16740             56.1  \n",
       "16741              NaN  \n",
       "16742              NaN  \n",
       "16744             79.5  \n",
       "\n",
       "[233 rows x 6 columns]"
      ]
     },
     "execution_count": 3,
     "metadata": {},
     "output_type": "execute_result"
    }
   ],
   "source": [
    "df = pd.read_csv('../data/gapminder_total.csv', index_col=0)\n",
    "\n",
    "df_2015 = df[df['year'] == 2015]\n",
    "df_2015"
   ]
  },
  {
   "cell_type": "code",
   "execution_count": 257,
   "id": "9880c9d1",
   "metadata": {},
   "outputs": [
    {
     "data": {
      "image/png": "[encoded data removed]",
      "text/plain": [
       "<Figure size 1000x600 with 1 Axes>"
      ]
     },
     "metadata": {},
     "output_type": "display_data"
    }
   ],
   "source": [
    "high_pop = df_2015.sort_values(by=\"population\",ascending=False).groupby('continent').first().reset_index()\n",
    "country = high_pop['country']\n",
    "\n",
    "weighting = df_2015['population']/100_000_00\n",
    "\n",
    "plt.figure(figsize=(10,6),layout='constrained')\n",
    "sns.set_style('whitegrid')\n",
    "plt.ylabel('Fertility') \n",
    "plt.xlabel('Life Expectancy')\n",
    "plt.axis([0, 95, 0, 10.5])\n",
    "plt.xticks(rotation=45)\n",
    "\n",
    "yr = sns.scatterplot(data=df_2015, \n",
    "                x='life expectancy',\n",
    "                y='fertility', \n",
    "                size=weighting,\n",
    "                sizes=(5, 1100),\n",
    "                style='continent',\n",
    "                alpha = 0.6, \n",
    "                palette= 'tab10',\n",
    "                hue='continent').set(title='Life Expectancy vs Fertility Rate (2015)');\n",
    "\n",
    "for i in country:\n",
    "    x_cor = (high_pop.loc[high_pop['country']== i, ['life expectancy']].values[0])\n",
    "    y_cor = (high_pop.loc[high_pop['country']== i, ['fertility']].values[0])\n",
    "    plt.text(s = i, x = x_cor, y = y_cor, fontsize =9, weight = 'bold')\n",
    "\n",
    "plt.legend(bbox_to_anchor=(1, 1.05), frameon=False, fontsize=10,labelspacing=2.2);"
   ]
  },
  {
   "cell_type": "code",
   "execution_count": 113,
   "id": "05602f2b",
   "metadata": {
    "scrolled": true
   },
   "outputs": [],
   "source": [
    "def yr_df(year):\n",
    "    yr_df = df[df['year'] == (year)]\n",
    "    high_pop = yr_df.sort_values(by=\"population\",ascending=False).groupby('continent').first().reset_index()\n",
    "    country = high_pop['country']\n",
    "    \n",
    "    weighting = yr_df['population']/100_000_00\n",
    "    \n",
    "    plt.figure(figsize=(10,6),layout='constrained')\n",
    "    sns.set_style('whitegrid')\n",
    "    plt.ylabel('Fertility') \n",
    "    plt.xlabel('Life Expectancy')\n",
    "    plt.axis([0, 95, 0, 10.5])\n",
    "    plt.xticks(rotation=45)\n",
    "    \n",
    "    sns.scatterplot(data=yr_df, \n",
    "                x='life expectancy',\n",
    "                y='fertility', \n",
    "                size=weighting,\n",
    "                sizes=(5, 1100),\n",
    "                style='continent',\n",
    "                alpha = 0.6, \n",
    "                palette= 'tab10',\n",
    "                hue='continent').set(title=f'Life Expectancy vs Fertility Rate {year}');\n",
    "    \n",
    "    for i in country:\n",
    "        x_cor = (high_pop.loc[high_pop['country']== i, ['life expectancy']].values[0])\n",
    "        y_cor = (high_pop.loc[high_pop['country']== i, ['fertility']].values[0])\n",
    "        plt.text(s = i, x = x_cor, y = y_cor, fontsize =9, weight = 'bold')\n",
    "    \n",
    "    plt.legend(bbox_to_anchor=(1, 1.05), frameon=False, fontsize=10,labelspacing=2.25)\n",
    "    \n",
    "    plt.savefig(f'./{year}_life_expec_fert_rt')\n",
    "    plt.close()\n"
   ]
  },
  {
   "cell_type": "code",
   "execution_count": 114,
   "id": "4379647a",
   "metadata": {
    "scrolled": false
   },
   "outputs": [],
   "source": [
    "yr_df(1951)"
   ]
  },
  {
   "cell_type": "code",
   "execution_count": 117,
   "id": "fb771520",
   "metadata": {
    "scrolled": true
   },
   "outputs": [],
   "source": [
    "for year in range (1950,2016):\n",
    "    yr_df(year)"
   ]
  },
  {
   "cell_type": "code",
   "execution_count": 118,
   "id": "7d4092b6",
   "metadata": {},
   "outputs": [],
   "source": [
    "import imageio"
   ]
  },
  {
   "cell_type": "code",
   "execution_count": 124,
   "id": "3d7b6116",
   "metadata": {},
   "outputs": [
    {
     "name": "stderr",
     "output_type": "stream",
     "text": [
      "/var/folders/zf/w4lxv8m15z9442k97fpp97ch0000gn/T/ipykernel_25884/4191141924.py:5: DeprecationWarning: Starting with ImageIO v3 the behavior of this function will switch to that of iio.v3.imread. To keep the current behavior (and make this warning disappear) use `import imageio.v2 as imageio` or call `imageio.v2.imread` directly.\n",
      "  images.append(imageio.imread(filename))\n"
     ]
    }
   ],
   "source": [
    "images = []\n",
    "\n",
    "for year in range(1950,2016):\n",
    "    filename = f'./life_expec_fert_png/{year}_life_expec_fert_rt.png'\n",
    "    images.append(imageio.imread(filename))\n",
    "\n",
    "imageio.mimsave('./life_expec_fert.gif', images, duration=100)"
   ]
  },
  {
   "cell_type": "code",
   "execution_count": 125,
   "id": "babfd968",
   "metadata": {},
   "outputs": [
    {
     "data": {
      "text/html": [
       "<div>\n",
       "<style scoped>\n",
       "    .dataframe tbody tr th:only-of-type {\n",
       "        vertical-align: middle;\n",
       "    }\n",
       "\n",
       "    .dataframe tbody tr th {\n",
       "        vertical-align: top;\n",
       "    }\n",
       "\n",
       "    .dataframe thead th {\n",
       "        text-align: right;\n",
       "    }\n",
       "</style>\n",
       "<table border=\"1\" class=\"dataframe\">\n",
       "  <thead>\n",
       "    <tr style=\"text-align: right;\">\n",
       "      <th></th>\n",
       "      <th>year</th>\n",
       "      <th>country</th>\n",
       "      <th>continent</th>\n",
       "      <th>population</th>\n",
       "      <th>fertility</th>\n",
       "      <th>life expectancy</th>\n",
       "    </tr>\n",
       "  </thead>\n",
       "  <tbody>\n",
       "    <tr>\n",
       "      <th>0</th>\n",
       "      <td>1950</td>\n",
       "      <td>Afghanistan</td>\n",
       "      <td>Asia</td>\n",
       "      <td>7752118.0</td>\n",
       "      <td>7.67</td>\n",
       "      <td>26.85</td>\n",
       "    </tr>\n",
       "    <tr>\n",
       "      <th>1</th>\n",
       "      <td>1950</td>\n",
       "      <td>Albania</td>\n",
       "      <td>Europe</td>\n",
       "      <td>1263171.0</td>\n",
       "      <td>5.80</td>\n",
       "      <td>54.48</td>\n",
       "    </tr>\n",
       "    <tr>\n",
       "      <th>2</th>\n",
       "      <td>1950</td>\n",
       "      <td>Algeria</td>\n",
       "      <td>Africa</td>\n",
       "      <td>8872247.0</td>\n",
       "      <td>7.65</td>\n",
       "      <td>42.77</td>\n",
       "    </tr>\n",
       "    <tr>\n",
       "      <th>3</th>\n",
       "      <td>1950</td>\n",
       "      <td>Angola</td>\n",
       "      <td>Africa</td>\n",
       "      <td>4354882.0</td>\n",
       "      <td>6.93</td>\n",
       "      <td>30.70</td>\n",
       "    </tr>\n",
       "    <tr>\n",
       "      <th>4</th>\n",
       "      <td>1950</td>\n",
       "      <td>Antigua and Barbuda</td>\n",
       "      <td>North America</td>\n",
       "      <td>46301.0</td>\n",
       "      <td>4.45</td>\n",
       "      <td>57.97</td>\n",
       "    </tr>\n",
       "  </tbody>\n",
       "</table>\n",
       "</div>"
      ],
      "text/plain": [
       "   year              country      continent  population  fertility  \\\n",
       "0  1950          Afghanistan           Asia   7752118.0       7.67   \n",
       "1  1950              Albania         Europe   1263171.0       5.80   \n",
       "2  1950              Algeria         Africa   8872247.0       7.65   \n",
       "3  1950               Angola         Africa   4354882.0       6.93   \n",
       "4  1950  Antigua and Barbuda  North America     46301.0       4.45   \n",
       "\n",
       "   life expectancy  \n",
       "0            26.85  \n",
       "1            54.48  \n",
       "2            42.77  \n",
       "3            30.70  \n",
       "4            57.97  "
      ]
     },
     "execution_count": 125,
     "metadata": {},
     "output_type": "execute_result"
    }
   ],
   "source": [
    "df.head()"
   ]
  },
  {
   "cell_type": "code",
   "execution_count": 137,
   "id": "64bc9e1d",
   "metadata": {},
   "outputs": [],
   "source": [
    "df_yrly_avg = df.groupby(['year','continent']).mean(numeric_only=True).reset_index().dropna(axis=0)\n",
    "df1950_avg = df_yrly_avg[df_yrly_avg['year']==1950]"
   ]
  },
  {
   "cell_type": "code",
   "execution_count": 172,
   "id": "39e67949",
   "metadata": {},
   "outputs": [],
   "source": [
    "def yr_avg(year):\n",
    "    df_yrly_avg = df.groupby(['year','continent']).mean(numeric_only=True).reset_index().dropna(axis=0)\n",
    "    yr_avg = df_yrly_avg[df_yrly_avg['year']==(year)]\n",
    "    return yr_avg"
   ]
  },
  {
   "cell_type": "code",
   "execution_count": 176,
   "id": "a96594f7",
   "metadata": {
    "scrolled": true
   },
   "outputs": [
    {
     "data": {
      "text/html": [
       "<div>\n",
       "<style scoped>\n",
       "    .dataframe tbody tr th:only-of-type {\n",
       "        vertical-align: middle;\n",
       "    }\n",
       "\n",
       "    .dataframe tbody tr th {\n",
       "        vertical-align: top;\n",
       "    }\n",
       "\n",
       "    .dataframe thead th {\n",
       "        text-align: right;\n",
       "    }\n",
       "</style>\n",
       "<table border=\"1\" class=\"dataframe\">\n",
       "  <thead>\n",
       "    <tr style=\"text-align: right;\">\n",
       "      <th></th>\n",
       "      <th>year</th>\n",
       "      <th>continent</th>\n",
       "      <th>population</th>\n",
       "      <th>fertility</th>\n",
       "      <th>life expectancy</th>\n",
       "    </tr>\n",
       "  </thead>\n",
       "  <tbody>\n",
       "    <tr>\n",
       "      <th>282</th>\n",
       "      <td>1997</td>\n",
       "      <td>Africa</td>\n",
       "      <td>1.364956e+07</td>\n",
       "      <td>5.321429</td>\n",
       "      <td>57.100000</td>\n",
       "    </tr>\n",
       "    <tr>\n",
       "      <th>283</th>\n",
       "      <td>1997</td>\n",
       "      <td>Asia</td>\n",
       "      <td>8.894557e+07</td>\n",
       "      <td>3.377179</td>\n",
       "      <td>68.835897</td>\n",
       "    </tr>\n",
       "    <tr>\n",
       "      <th>284</th>\n",
       "      <td>1997</td>\n",
       "      <td>Australia and Oceania</td>\n",
       "      <td>2.232307e+06</td>\n",
       "      <td>3.830000</td>\n",
       "      <td>66.500000</td>\n",
       "    </tr>\n",
       "    <tr>\n",
       "      <th>285</th>\n",
       "      <td>1997</td>\n",
       "      <td>Europe</td>\n",
       "      <td>1.338779e+07</td>\n",
       "      <td>1.593000</td>\n",
       "      <td>74.658537</td>\n",
       "    </tr>\n",
       "    <tr>\n",
       "      <th>286</th>\n",
       "      <td>1997</td>\n",
       "      <td>North America</td>\n",
       "      <td>2.332568e+07</td>\n",
       "      <td>2.909474</td>\n",
       "      <td>72.285000</td>\n",
       "    </tr>\n",
       "    <tr>\n",
       "      <th>287</th>\n",
       "      <td>1997</td>\n",
       "      <td>South America</td>\n",
       "      <td>2.784544e+07</td>\n",
       "      <td>2.947500</td>\n",
       "      <td>71.575000</td>\n",
       "    </tr>\n",
       "  </tbody>\n",
       "</table>\n",
       "</div>"
      ],
      "text/plain": [
       "     year              continent    population  fertility  life expectancy\n",
       "282  1997                 Africa  1.364956e+07   5.321429        57.100000\n",
       "283  1997                   Asia  8.894557e+07   3.377179        68.835897\n",
       "284  1997  Australia and Oceania  2.232307e+06   3.830000        66.500000\n",
       "285  1997                 Europe  1.338779e+07   1.593000        74.658537\n",
       "286  1997          North America  2.332568e+07   2.909474        72.285000\n",
       "287  1997          South America  2.784544e+07   2.947500        71.575000"
      ]
     },
     "execution_count": 176,
     "metadata": {},
     "output_type": "execute_result"
    }
   ],
   "source": [
    "yr_avg(1997)"
   ]
  },
  {
   "cell_type": "code",
   "execution_count": 182,
   "id": "ba813029",
   "metadata": {
    "scrolled": false
   },
   "outputs": [
    {
     "data": {
      "image/png": "[encoded data removed]",
      "text/plain": [
       "<Figure size 640x480 with 1 Axes>"
      ]
     },
     "metadata": {},
     "output_type": "display_data"
    }
   ],
   "source": [
    "yr_avg(1997).plot(x='continent', y=['population', 'fertility', 'life expectancy'], kind=\"bar\",rot=45, log=True);\n"
   ]
  },
  {
   "cell_type": "code",
   "execution_count": 291,
   "id": "57b516b4",
   "metadata": {},
   "outputs": [
    {
     "data": {
      "image/png": "[encoded data removed]",
      "text/plain": [
       "<Figure size 1000x600 with 1 Axes>"
      ]
     },
     "metadata": {},
     "output_type": "display_data"
    }
   ],
   "source": [
    "year = 2015\n",
    "\n",
    "plt.figure(figsize=(10,6),layout='constrained')\n",
    "sns.set_style('whitegrid')\n",
    "#plt.ylabel() \n",
    "plt.xlabel('Life Expectancy')\n",
    "plt.axis([0, 86, 0, 30])\n",
    "\n",
    "sns.histplot(\n",
    "    data=df_2015,\n",
    "    x='life expectancy',\n",
    "    hue='continent', \n",
    "    multiple='dodge',\n",
    "    stat='count',\n",
    "    bins=7).set(title=f'Histogram: Life Expectancy {year}');\n",
    "\n",
    "#plt.legend(loc=1, frameon=False, fontsize=10,labelspacing=2.25)"
   ]
  },
  {
   "cell_type": "code",
   "execution_count": 243,
   "id": "45f368b8",
   "metadata": {},
   "outputs": [
    {
     "data": {
      "text/plain": [
       "84.8"
      ]
     },
     "execution_count": 243,
     "metadata": {},
     "output_type": "execute_result"
    }
   ],
   "source": [
    "df['life expectancy'].max()"
   ]
  },
  {
   "cell_type": "code",
   "execution_count": 292,
   "id": "ec425471",
   "metadata": {},
   "outputs": [],
   "source": [
    "def life_expec_hist(year):\n",
    "    yr_df = df[df['year'] == (year)]\n",
    "    \n",
    "    plt.figure(figsize=(10,6),layout='constrained')\n",
    "\n",
    "    sns.set_style('whitegrid')\n",
    "    plt.xlabel('Life Expectancy')\n",
    "    plt.axis([0, 86, 0, 42])\n",
    "\n",
    "    sns.histplot(data=yr_df, x='life expectancy', hue='continent', multiple='dodge', stat='count',bins=7).set(title=f'Histogram: Life Expectancy {year}');\n",
    "    \n",
    "    plt.savefig(f'./{year}_life_expec_hist')\n",
    "    plt.close()\n"
   ]
  },
  {
   "cell_type": "code",
   "execution_count": 295,
   "id": "60b308ce",
   "metadata": {},
   "outputs": [],
   "source": [
    "range1=range(1950,1993)\n",
    "range2=range(1995,2016)\n",
    "\n",
    "for year in range (1950,2016):\n",
    "    life_expec_hist(year)"
   ]
  },
  {
   "cell_type": "code",
   "execution_count": 296,
   "id": "f3d26c4d",
   "metadata": {},
   "outputs": [
    {
     "name": "stderr",
     "output_type": "stream",
     "text": [
      "/var/folders/zf/w4lxv8m15z9442k97fpp97ch0000gn/T/ipykernel_25884/1992780527.py:5: DeprecationWarning: Starting with ImageIO v3 the behavior of this function will switch to that of iio.v3.imread. To keep the current behavior (and make this warning disappear) use `import imageio.v2 as imageio` or call `imageio.v2.imread` directly.\n",
      "  images.append(imageio.imread(filename))\n"
     ]
    }
   ],
   "source": [
    "images = []\n",
    "\n",
    "for year in range(1950,2016):\n",
    "    filename = f'./fert_count_hist/{year}_fert_count_hist.png'\n",
    "    images.append(imageio.imread(filename))\n",
    "\n",
    "imageio.mimsave('./fert_hist.gif', images, duration=100)"
   ]
  },
  {
   "cell_type": "code",
   "execution_count": 324,
   "id": "031b2385",
   "metadata": {},
   "outputs": [
    {
     "data": {
      "text/html": [
       "<div>\n",
       "<style scoped>\n",
       "    .dataframe tbody tr th:only-of-type {\n",
       "        vertical-align: middle;\n",
       "    }\n",
       "\n",
       "    .dataframe tbody tr th {\n",
       "        vertical-align: top;\n",
       "    }\n",
       "\n",
       "    .dataframe thead th {\n",
       "        text-align: right;\n",
       "    }\n",
       "</style>\n",
       "<table border=\"1\" class=\"dataframe\">\n",
       "  <thead>\n",
       "    <tr style=\"text-align: right;\">\n",
       "      <th></th>\n",
       "      <th>year</th>\n",
       "      <th>country</th>\n",
       "      <th>continent</th>\n",
       "      <th>population</th>\n",
       "      <th>fertility</th>\n",
       "      <th>life expectancy</th>\n",
       "    </tr>\n",
       "  </thead>\n",
       "  <tbody>\n",
       "    <tr>\n",
       "      <th>5201</th>\n",
       "      <td>1975</td>\n",
       "      <td>Tanzania</td>\n",
       "      <td>Africa</td>\n",
       "      <td>15980265.0</td>\n",
       "      <td>6.75</td>\n",
       "      <td>52.19</td>\n",
       "    </tr>\n",
       "    <tr>\n",
       "      <th>7482</th>\n",
       "      <td>1987</td>\n",
       "      <td>Cyprus</td>\n",
       "      <td>Europe</td>\n",
       "      <td>723380.0</td>\n",
       "      <td>2.45</td>\n",
       "      <td>76.30</td>\n",
       "    </tr>\n",
       "    <tr>\n",
       "      <th>8257</th>\n",
       "      <td>1991</td>\n",
       "      <td>Belgium</td>\n",
       "      <td>Europe</td>\n",
       "      <td>10011217.0</td>\n",
       "      <td>1.59</td>\n",
       "      <td>76.20</td>\n",
       "    </tr>\n",
       "    <tr>\n",
       "      <th>11820</th>\n",
       "      <td>2008</td>\n",
       "      <td>Slovenia</td>\n",
       "      <td>Europe</td>\n",
       "      <td>2030599.0</td>\n",
       "      <td>1.43</td>\n",
       "      <td>78.70</td>\n",
       "    </tr>\n",
       "    <tr>\n",
       "      <th>8220</th>\n",
       "      <td>1990</td>\n",
       "      <td>Tonga</td>\n",
       "      <td>Australia and Oceania</td>\n",
       "      <td>95152.0</td>\n",
       "      <td>4.64</td>\n",
       "      <td>69.10</td>\n",
       "    </tr>\n",
       "  </tbody>\n",
       "</table>\n",
       "</div>"
      ],
      "text/plain": [
       "       year   country              continent  population  fertility  \\\n",
       "5201   1975  Tanzania                 Africa  15980265.0       6.75   \n",
       "7482   1987    Cyprus                 Europe    723380.0       2.45   \n",
       "8257   1991   Belgium                 Europe  10011217.0       1.59   \n",
       "11820  2008  Slovenia                 Europe   2030599.0       1.43   \n",
       "8220   1990     Tonga  Australia and Oceania     95152.0       4.64   \n",
       "\n",
       "       life expectancy  \n",
       "5201             52.19  \n",
       "7482             76.30  \n",
       "8257             76.20  \n",
       "11820            78.70  \n",
       "8220             69.10  "
      ]
     },
     "execution_count": 324,
     "metadata": {},
     "output_type": "execute_result"
    }
   ],
   "source": [
    "df.sample(5)"
   ]
  },
  {
   "cell_type": "code",
   "execution_count": 301,
   "id": "d75eb867",
   "metadata": {},
   "outputs": [
    {
     "data": {
      "text/html": [
       "<div>\n",
       "<style scoped>\n",
       "    .dataframe tbody tr th:only-of-type {\n",
       "        vertical-align: middle;\n",
       "    }\n",
       "\n",
       "    .dataframe tbody tr th {\n",
       "        vertical-align: top;\n",
       "    }\n",
       "\n",
       "    .dataframe thead th {\n",
       "        text-align: right;\n",
       "    }\n",
       "</style>\n",
       "<table border=\"1\" class=\"dataframe\">\n",
       "  <thead>\n",
       "    <tr style=\"text-align: right;\">\n",
       "      <th></th>\n",
       "      <th>population</th>\n",
       "      <th>fertility</th>\n",
       "      <th>life expectancy</th>\n",
       "    </tr>\n",
       "  </thead>\n",
       "  <tbody>\n",
       "    <tr>\n",
       "      <th>population</th>\n",
       "      <td>1.000000</td>\n",
       "      <td>-0.098195</td>\n",
       "      <td>0.027980</td>\n",
       "    </tr>\n",
       "    <tr>\n",
       "      <th>fertility</th>\n",
       "      <td>-0.098195</td>\n",
       "      <td>1.000000</td>\n",
       "      <td>-0.805608</td>\n",
       "    </tr>\n",
       "    <tr>\n",
       "      <th>life expectancy</th>\n",
       "      <td>0.027980</td>\n",
       "      <td>-0.805608</td>\n",
       "      <td>1.000000</td>\n",
       "    </tr>\n",
       "  </tbody>\n",
       "</table>\n",
       "</div>"
      ],
      "text/plain": [
       "                 population  fertility  life expectancy\n",
       "population         1.000000  -0.098195         0.027980\n",
       "fertility         -0.098195   1.000000        -0.805608\n",
       "life expectancy    0.027980  -0.805608         1.000000"
      ]
     },
     "execution_count": 301,
     "metadata": {},
     "output_type": "execute_result"
    }
   ],
   "source": [
    "numerical_variables = ['population', 'fertility', 'life expectancy']\n",
    "df_num=df[numerical_variables]\n",
    "df_num.corr()"
   ]
  },
  {
   "cell_type": "code",
   "execution_count": 427,
   "id": "b96df0c9",
   "metadata": {},
   "outputs": [],
   "source": [
    "afghanistan = df[df['country']=='Afghanistan']\n",
    "japan = df[df['country']=='Japan']\n",
    "vietnam = df[df['country']=='Vietnam']\n",
    "australia = df[df['country']=='Australia']\n",
    "chile = df[df['country']=='Chile']\n",
    "china = df[df['country']=='China']"
   ]
  },
  {
   "cell_type": "code",
   "execution_count": 433,
   "id": "4e0af97c",
   "metadata": {},
   "outputs": [
    {
     "data": {
      "text/html": [
       "<div>\n",
       "<style scoped>\n",
       "    .dataframe tbody tr th:only-of-type {\n",
       "        vertical-align: middle;\n",
       "    }\n",
       "\n",
       "    .dataframe tbody tr th {\n",
       "        vertical-align: top;\n",
       "    }\n",
       "\n",
       "    .dataframe thead th {\n",
       "        text-align: right;\n",
       "    }\n",
       "</style>\n",
       "<table border=\"1\" class=\"dataframe\">\n",
       "  <thead>\n",
       "    <tr style=\"text-align: right;\">\n",
       "      <th></th>\n",
       "      <th>population</th>\n",
       "      <th>fertility</th>\n",
       "      <th>life expectancy</th>\n",
       "    </tr>\n",
       "  </thead>\n",
       "  <tbody>\n",
       "    <tr>\n",
       "      <th>2046</th>\n",
       "      <td>644450173.0</td>\n",
       "      <td>3.99</td>\n",
       "      <td>30.53</td>\n",
       "    </tr>\n",
       "  </tbody>\n",
       "</table>\n",
       "</div>"
      ],
      "text/plain": [
       "       population  fertility  life expectancy\n",
       "2046  644450173.0       3.99            30.53"
      ]
     },
     "execution_count": 433,
     "metadata": {},
     "output_type": "execute_result"
    }
   ],
   "source": [
    "year = 1960\n",
    "country = 'China'\n",
    "\n",
    "numerical_variables = ['population', 'fertility', 'life expectancy']\n",
    "\n",
    "cntry_df = df[df['country']== (country)]\n",
    "\n",
    "cntry_yr = cntry_df[cntry_df['year']==(year)]\n",
    "\n",
    "cntry_yr_num = cntry_yr[numerical_variables]\n",
    "\n",
    "cntry_yr_num\n",
    "\n",
    "#cntry_yr_corr=china_yr_num.corr()\n",
    "\n",
    "#sns.heatmap(cntry_yr_corr,\n",
    "#            annot=True,\n",
    "#            cmap='coolwarm',\n",
    "#            vmin=-1,\n",
    "#            vmax=+1\n",
    "#           );"
   ]
  },
  {
   "cell_type": "code",
   "execution_count": 313,
   "id": "bfd50468",
   "metadata": {},
   "outputs": [
    {
     "data": {
      "text/html": [
       "<div>\n",
       "<style scoped>\n",
       "    .dataframe tbody tr th:only-of-type {\n",
       "        vertical-align: middle;\n",
       "    }\n",
       "\n",
       "    .dataframe tbody tr th {\n",
       "        vertical-align: top;\n",
       "    }\n",
       "\n",
       "    .dataframe thead th {\n",
       "        text-align: right;\n",
       "    }\n",
       "</style>\n",
       "<table border=\"1\" class=\"dataframe\">\n",
       "  <thead>\n",
       "    <tr style=\"text-align: right;\">\n",
       "      <th></th>\n",
       "      <th>population</th>\n",
       "      <th>fertility</th>\n",
       "      <th>life expectancy</th>\n",
       "    </tr>\n",
       "  </thead>\n",
       "  <tbody>\n",
       "    <tr>\n",
       "      <th>population</th>\n",
       "      <td>1.000000</td>\n",
       "      <td>-0.897766</td>\n",
       "      <td>0.988684</td>\n",
       "    </tr>\n",
       "    <tr>\n",
       "      <th>fertility</th>\n",
       "      <td>-0.897766</td>\n",
       "      <td>1.000000</td>\n",
       "      <td>-0.934570</td>\n",
       "    </tr>\n",
       "    <tr>\n",
       "      <th>life expectancy</th>\n",
       "      <td>0.988684</td>\n",
       "      <td>-0.934570</td>\n",
       "      <td>1.000000</td>\n",
       "    </tr>\n",
       "  </tbody>\n",
       "</table>\n",
       "</div>"
      ],
      "text/plain": [
       "                 population  fertility  life expectancy\n",
       "population         1.000000  -0.897766         0.988684\n",
       "fertility         -0.897766   1.000000        -0.934570\n",
       "life expectancy    0.988684  -0.934570         1.000000"
      ]
     },
     "execution_count": 313,
     "metadata": {},
     "output_type": "execute_result"
    }
   ],
   "source": [
    "japan_num=japan[numerical_variables]\n",
    "japan_num.corr()"
   ]
  },
  {
   "cell_type": "code",
   "execution_count": 314,
   "id": "2065f658",
   "metadata": {
    "scrolled": true
   },
   "outputs": [
    {
     "data": {
      "text/html": [
       "<div>\n",
       "<style scoped>\n",
       "    .dataframe tbody tr th:only-of-type {\n",
       "        vertical-align: middle;\n",
       "    }\n",
       "\n",
       "    .dataframe tbody tr th {\n",
       "        vertical-align: top;\n",
       "    }\n",
       "\n",
       "    .dataframe thead th {\n",
       "        text-align: right;\n",
       "    }\n",
       "</style>\n",
       "<table border=\"1\" class=\"dataframe\">\n",
       "  <thead>\n",
       "    <tr style=\"text-align: right;\">\n",
       "      <th></th>\n",
       "      <th>population</th>\n",
       "      <th>fertility</th>\n",
       "      <th>life expectancy</th>\n",
       "    </tr>\n",
       "  </thead>\n",
       "  <tbody>\n",
       "    <tr>\n",
       "      <th>population</th>\n",
       "      <td>1.000000</td>\n",
       "      <td>-0.839768</td>\n",
       "      <td>0.838186</td>\n",
       "    </tr>\n",
       "    <tr>\n",
       "      <th>fertility</th>\n",
       "      <td>-0.839768</td>\n",
       "      <td>1.000000</td>\n",
       "      <td>-0.528764</td>\n",
       "    </tr>\n",
       "    <tr>\n",
       "      <th>life expectancy</th>\n",
       "      <td>0.838186</td>\n",
       "      <td>-0.528764</td>\n",
       "      <td>1.000000</td>\n",
       "    </tr>\n",
       "  </tbody>\n",
       "</table>\n",
       "</div>"
      ],
      "text/plain": [
       "                 population  fertility  life expectancy\n",
       "population         1.000000  -0.839768         0.838186\n",
       "fertility         -0.839768   1.000000        -0.528764\n",
       "life expectancy    0.838186  -0.528764         1.000000"
      ]
     },
     "execution_count": 314,
     "metadata": {},
     "output_type": "execute_result"
    }
   ],
   "source": [
    "afghanistan_num=afghanistan[numerical_variables]\n",
    "afghanistan_num.corr()"
   ]
  },
  {
   "cell_type": "code",
   "execution_count": 425,
   "id": "fa40f42e",
   "metadata": {},
   "outputs": [],
   "source": [
    "chile_num=chile[numerical_variables]\n",
    "chile_corr=chile_num.corr()"
   ]
  },
  {
   "cell_type": "code",
   "execution_count": 426,
   "id": "4468c164",
   "metadata": {},
   "outputs": [
    {
     "data": {
      "image/png": "[encoded data removed]",
      "text/plain": [
       "<Figure size 640x480 with 2 Axes>"
      ]
     },
     "metadata": {},
     "output_type": "display_data"
    }
   ],
   "source": [
    "sns.heatmap(chile_corr,\n",
    "            annot=True,\n",
    "            cmap='coolwarm',\n",
    "            vmin=-1,\n",
    "            vmax=+1\n",
    "           );"
   ]
  },
  {
   "cell_type": "code",
   "execution_count": 420,
   "id": "64e9aa8b",
   "metadata": {
    "scrolled": true
   },
   "outputs": [],
   "source": [
    "australia_num=australia[numerical_variables]\n",
    "aus_corr = australia_num.corr()"
   ]
  },
  {
   "cell_type": "code",
   "execution_count": 421,
   "id": "d51ef508",
   "metadata": {},
   "outputs": [
    {
     "data": {
      "image/png": "[encoded data removed]",
      "text/plain": [
       "<Figure size 640x480 with 2 Axes>"
      ]
     },
     "metadata": {},
     "output_type": "display_data"
    }
   ],
   "source": [
    "sns.heatmap(aus_corr,\n",
    "            annot=True,\n",
    "            cmap='coolwarm',\n",
    "            vmin=-1,\n",
    "            vmax=+1\n",
    "           );"
   ]
  },
  {
   "cell_type": "code",
   "execution_count": 337,
   "id": "9ba97cc7",
   "metadata": {},
   "outputs": [
    {
     "data": {
      "text/html": [
       "<div>\n",
       "<style scoped>\n",
       "    .dataframe tbody tr th:only-of-type {\n",
       "        vertical-align: middle;\n",
       "    }\n",
       "\n",
       "    .dataframe tbody tr th {\n",
       "        vertical-align: top;\n",
       "    }\n",
       "\n",
       "    .dataframe thead th {\n",
       "        text-align: right;\n",
       "    }\n",
       "</style>\n",
       "<table border=\"1\" class=\"dataframe\">\n",
       "  <thead>\n",
       "    <tr style=\"text-align: right;\">\n",
       "      <th></th>\n",
       "      <th>year</th>\n",
       "      <th>country</th>\n",
       "      <th>continent</th>\n",
       "      <th>population</th>\n",
       "      <th>fertility</th>\n",
       "      <th>life expectancy</th>\n",
       "    </tr>\n",
       "  </thead>\n",
       "  <tbody>\n",
       "    <tr>\n",
       "      <th>5061</th>\n",
       "      <td>1975</td>\n",
       "      <td>China</td>\n",
       "      <td>Asia</td>\n",
       "      <td>905580445.0</td>\n",
       "      <td>3.58</td>\n",
       "      <td>60.78</td>\n",
       "    </tr>\n",
       "  </tbody>\n",
       "</table>\n",
       "</div>"
      ],
      "text/plain": [
       "      year country continent   population  fertility  life expectancy\n",
       "5061  1975   China      Asia  905580445.0       3.58            60.78"
      ]
     },
     "execution_count": 337,
     "metadata": {},
     "output_type": "execute_result"
    }
   ],
   "source": [
    "china = df[df['country']=='China']\n",
    "china[china['year']==1975]"
   ]
  },
  {
   "cell_type": "code",
   "execution_count": 351,
   "id": "43de257c",
   "metadata": {},
   "outputs": [],
   "source": [
    "df = pd.read_csv('../data/gapminder_total.csv', index_col=0)"
   ]
  },
  {
   "cell_type": "code",
   "execution_count": 352,
   "id": "ac895e57",
   "metadata": {},
   "outputs": [],
   "source": [
    "def df_(year):\n",
    "    year_df=df[df['year']==(year)]\n",
    "    return year_df"
   ]
  },
  {
   "cell_type": "code",
   "execution_count": 353,
   "id": "fc3cf5b9",
   "metadata": {},
   "outputs": [
    {
     "data": {
      "text/html": [
       "<div>\n",
       "<style scoped>\n",
       "    .dataframe tbody tr th:only-of-type {\n",
       "        vertical-align: middle;\n",
       "    }\n",
       "\n",
       "    .dataframe tbody tr th {\n",
       "        vertical-align: top;\n",
       "    }\n",
       "\n",
       "    .dataframe thead th {\n",
       "        text-align: right;\n",
       "    }\n",
       "</style>\n",
       "<table border=\"1\" class=\"dataframe\">\n",
       "  <thead>\n",
       "    <tr style=\"text-align: right;\">\n",
       "      <th></th>\n",
       "      <th>year</th>\n",
       "      <th>country</th>\n",
       "      <th>continent</th>\n",
       "      <th>population</th>\n",
       "      <th>fertility</th>\n",
       "      <th>life expectancy</th>\n",
       "    </tr>\n",
       "  </thead>\n",
       "  <tbody>\n",
       "    <tr>\n",
       "      <th>9447</th>\n",
       "      <td>1997</td>\n",
       "      <td>Afghanistan</td>\n",
       "      <td>Asia</td>\n",
       "      <td>18034130.0</td>\n",
       "      <td>7.87</td>\n",
       "      <td>49.5</td>\n",
       "    </tr>\n",
       "    <tr>\n",
       "      <th>9448</th>\n",
       "      <td>1997</td>\n",
       "      <td>Albania</td>\n",
       "      <td>Europe</td>\n",
       "      <td>3092471.0</td>\n",
       "      <td>2.61</td>\n",
       "      <td>74.1</td>\n",
       "    </tr>\n",
       "    <tr>\n",
       "      <th>9449</th>\n",
       "      <td>1997</td>\n",
       "      <td>Algeria</td>\n",
       "      <td>Africa</td>\n",
       "      <td>29887717.0</td>\n",
       "      <td>2.99</td>\n",
       "      <td>72.4</td>\n",
       "    </tr>\n",
       "    <tr>\n",
       "      <th>9450</th>\n",
       "      <td>1997</td>\n",
       "      <td>Angola</td>\n",
       "      <td>Africa</td>\n",
       "      <td>13801868.0</td>\n",
       "      <td>6.95</td>\n",
       "      <td>51.7</td>\n",
       "    </tr>\n",
       "    <tr>\n",
       "      <th>9451</th>\n",
       "      <td>1997</td>\n",
       "      <td>Antigua and Barbuda</td>\n",
       "      <td>North America</td>\n",
       "      <td>72232.0</td>\n",
       "      <td>2.28</td>\n",
       "      <td>73.9</td>\n",
       "    </tr>\n",
       "    <tr>\n",
       "      <th>...</th>\n",
       "      <td>...</td>\n",
       "      <td>...</td>\n",
       "      <td>...</td>\n",
       "      <td>...</td>\n",
       "      <td>...</td>\n",
       "      <td>...</td>\n",
       "    </tr>\n",
       "    <tr>\n",
       "      <th>15897</th>\n",
       "      <td>1997</td>\n",
       "      <td>Yugoslavia</td>\n",
       "      <td>NaN</td>\n",
       "      <td>23123738.0</td>\n",
       "      <td>NaN</td>\n",
       "      <td>NaN</td>\n",
       "    </tr>\n",
       "    <tr>\n",
       "      <th>15898</th>\n",
       "      <td>1997</td>\n",
       "      <td>Åland</td>\n",
       "      <td>NaN</td>\n",
       "      <td>25419.0</td>\n",
       "      <td>NaN</td>\n",
       "      <td>78.9</td>\n",
       "    </tr>\n",
       "    <tr>\n",
       "      <th>15899</th>\n",
       "      <td>1997</td>\n",
       "      <td>South Sudan</td>\n",
       "      <td>Africa</td>\n",
       "      <td>5806951.0</td>\n",
       "      <td>NaN</td>\n",
       "      <td>53.4</td>\n",
       "    </tr>\n",
       "    <tr>\n",
       "      <th>15900</th>\n",
       "      <td>1997</td>\n",
       "      <td>Curaçao</td>\n",
       "      <td>NaN</td>\n",
       "      <td>139568.0</td>\n",
       "      <td>NaN</td>\n",
       "      <td>NaN</td>\n",
       "    </tr>\n",
       "    <tr>\n",
       "      <th>15901</th>\n",
       "      <td>1997</td>\n",
       "      <td>Sint Maarten (Dutch part)</td>\n",
       "      <td>NaN</td>\n",
       "      <td>31106.0</td>\n",
       "      <td>NaN</td>\n",
       "      <td>NaN</td>\n",
       "    </tr>\n",
       "  </tbody>\n",
       "</table>\n",
       "<p>256 rows × 6 columns</p>\n",
       "</div>"
      ],
      "text/plain": [
       "       year                    country      continent  population  fertility  \\\n",
       "9447   1997                Afghanistan           Asia  18034130.0       7.87   \n",
       "9448   1997                    Albania         Europe   3092471.0       2.61   \n",
       "9449   1997                    Algeria         Africa  29887717.0       2.99   \n",
       "9450   1997                     Angola         Africa  13801868.0       6.95   \n",
       "9451   1997        Antigua and Barbuda  North America     72232.0       2.28   \n",
       "...     ...                        ...            ...         ...        ...   \n",
       "15897  1997                 Yugoslavia            NaN  23123738.0        NaN   \n",
       "15898  1997                      Åland            NaN     25419.0        NaN   \n",
       "15899  1997                South Sudan         Africa   5806951.0        NaN   \n",
       "15900  1997                    Curaçao            NaN    139568.0        NaN   \n",
       "15901  1997  Sint Maarten (Dutch part)            NaN     31106.0        NaN   \n",
       "\n",
       "       life expectancy  \n",
       "9447              49.5  \n",
       "9448              74.1  \n",
       "9449              72.4  \n",
       "9450              51.7  \n",
       "9451              73.9  \n",
       "...                ...  \n",
       "15897              NaN  \n",
       "15898             78.9  \n",
       "15899             53.4  \n",
       "15900              NaN  \n",
       "15901              NaN  \n",
       "\n",
       "[256 rows x 6 columns]"
      ]
     },
     "execution_count": 353,
     "metadata": {},
     "output_type": "execute_result"
    }
   ],
   "source": [
    "df_(1997)"
   ]
  },
  {
   "cell_type": "code",
   "execution_count": null,
   "id": "02d58e7c",
   "metadata": {},
   "outputs": [],
   "source": [
    "sns.boxplot(\n",
    "    data=df_(1997),\n",
    "    x='continent',\n",
    "    y='fertility',\n",
    "    hue='bill_measurement'\n",
    ");"
   ]
  },
  {
   "cell_type": "code",
   "execution_count": 416,
   "id": "600d2f06",
   "metadata": {},
   "outputs": [],
   "source": [
    "def fert_bar(year):\n",
    "    plt.figure(figsize=(10,10),layout='constrained')\n",
    "    sns.set_style('whitegrid')\n",
    "    plt.ylabel('Fertility') \n",
    "    plt.xlabel('Continent')\n",
    "    plt.axis([0, 10.5, 0, 10.5])\n",
    "    #plt.xticks(rotation=45)\n",
    "    \n",
    "    sns.boxplot(\n",
    "        data=df_(year),\n",
    "        x='continent',\n",
    "        y='fertility',\n",
    "        palette= 'tab10').set(title=f'Box Plot: Fertility by Continent {year}');\n",
    "    \n",
    "    plt.savefig(f'./{year}_fert_bar')\n",
    "    plt.close()\n"
   ]
  },
  {
   "cell_type": "code",
   "execution_count": 409,
   "id": "d32e8bb2",
   "metadata": {},
   "outputs": [],
   "source": [
    "life_expec_bar(1994)"
   ]
  },
  {
   "cell_type": "code",
   "execution_count": 417,
   "id": "ea9c89eb",
   "metadata": {},
   "outputs": [],
   "source": [
    "for year in range (1950,2016):\n",
    "    fert_bar(year)"
   ]
  },
  {
   "cell_type": "code",
   "execution_count": 419,
   "id": "4e12f6e3",
   "metadata": {},
   "outputs": [
    {
     "name": "stderr",
     "output_type": "stream",
     "text": [
      "/var/folders/zf/w4lxv8m15z9442k97fpp97ch0000gn/T/ipykernel_25884/3534460474.py:5: DeprecationWarning: Starting with ImageIO v3 the behavior of this function will switch to that of iio.v3.imread. To keep the current behavior (and make this warning disappear) use `import imageio.v2 as imageio` or call `imageio.v2.imread` directly.\n",
      "  images.append(imageio.imread(filename))\n"
     ]
    }
   ],
   "source": [
    "images = []\n",
    "\n",
    "for year in range(1950,2016):\n",
    "    filename = f'./fert_bars/{year}_fert_bar.png'\n",
    "    images.append(imageio.imread(filename))\n",
    "\n",
    "imageio.mimsave('./fert_bar.gif', images, duration=100)"
   ]
  },
  {
   "cell_type": "code",
   "execution_count": null,
   "id": "f5b968cd",
   "metadata": {},
   "outputs": [],
   "source": []
  }
 ],
 "metadata": {
  "kernelspec": {
   "display_name": "Python 3 (ipykernel)",
   "language": "python",
   "name": "python3"
  },
  "language_info": {
   "codemirror_mode": {
    "name": "ipython",
    "version": 3
   },
   "file_extension": ".py",
   "mimetype": "text/x-python",
   "name": "python",
   "nbconvert_exporter": "python",
   "pygments_lexer": "ipython3",
   "version": "3.11.3"
  }
 },
 "nbformat": 4,
 "nbformat_minor": 5
}
