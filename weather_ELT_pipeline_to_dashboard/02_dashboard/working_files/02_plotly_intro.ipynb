{
 "cells": [
  {
   "cell_type": "markdown",
   "id": "1b7519ad",
   "metadata": {},
   "source": [
    "# Solve with SQLalchemy, pandas and plotly\n",
    "\n",
    "+ Import your table with average temperatures into a Python DataFrame\n",
    "+ Create interactive temperature bar plots for Berlin and other locations (if you have them) using plotly\n",
    "+ Experiment with other visualization types (e.g. line charts) and choose a preferable one for showing this data\n",
    "+ If you created more tables last week, create more visualizations for them"
   ]
  },
  {
   "cell_type": "code",
   "execution_count": 1,
   "id": "68f8ae7f",
   "metadata": {},
   "outputs": [],
   "source": [
    "import os\n",
    "from dotenv import load_dotenv\n",
    "\n",
    "import pandas as pd\n",
    "from sqlalchemy import create_engine, types, text\n",
    "\n",
    "import plotly.express as px\n",
    "import plotly.graph_objects as go\n",
    "import matplotlib.pyplot as plt\n",
    "import seaborn as sns"
   ]
  },
  {
   "cell_type": "raw",
   "id": "2d9f36f8",
   "metadata": {
    "scrolled": true
   },
   "source": [
    "pip install --upgrade pandas"
   ]
  },
  {
   "cell_type": "code",
   "execution_count": 2,
   "id": "4334258f",
   "metadata": {},
   "outputs": [
    {
     "data": {
      "text/plain": [
       "True"
      ]
     },
     "execution_count": 2,
     "metadata": {},
     "output_type": "execute_result"
    }
   ],
   "source": [
    "import os\n",
    "from dotenv import load_dotenv\n",
    "\n",
    "load_dotenv()"
   ]
  },
  {
   "cell_type": "raw",
   "id": "d5925b71",
   "metadata": {},
   "source": [
    "import os\n",
    "from dotenv import load_dotenv\n",
    "\n",
    "load_dotenv()\n",
    "\n",
    "username = os.getenv('POSTGRES_USER')\n",
    "password = os.getenv('POSTGRES_PW')\n",
    "host = os.getenv('POSTGRES_HOST')\n",
    "port = os.getenv('POSTGRES_PORT')\n",
    "database = os.getenv('DB_CLIMATE')"
   ]
  },
  {
   "cell_type": "raw",
   "id": "9157a94b",
   "metadata": {},
   "source": [
    "url = f'postgresql://{username}:{password}@{host}:{port}/{database}'"
   ]
  },
  {
   "cell_type": "raw",
   "id": "b85afd1e",
   "metadata": {},
   "source": [
    "engine = create_engine(url, echo=False)"
   ]
  },
  {
   "cell_type": "raw",
   "id": "ac2c1cbb",
   "metadata": {},
   "source": [
    "engine.url # password is hidden"
   ]
  },
  {
   "cell_type": "raw",
   "id": "f3393bf7",
   "metadata": {},
   "source": [
    "with engine.begin() as conn:\n",
    "    conn.execute(text(\"\"\"DROP TABLE IF EXISTS combined_climate_data;\n",
    "CREATE TABLE combined_climate_data AS (SELECT *\n",
    "\t\t\tFROM prep_temp\n",
    "\tLEFT JOIN wkly_avg_precip_by_city USING (city, region, country, lat, lon, year, week)\n",
    "\tLEFT JOIN mnthly_avg_precip_by_city USING (city, region, country, lat, lon, year, month)\n",
    "\tLEFT JOIN wkly_avg_temps_by_city USING (city, region, country, lat, lon, year, week)\n",
    "\tLEFT JOIN mnthly_avg_temps_by_city USING (city, region, country, lat, lon, year, month)\n",
    "\tLEFT JOIN wkly_avg_visibility_by_city USING (city, region, country, lat, lon, year, week)\n",
    "\tLEFT JOIN mnthly_avg_visibility_by_city USING (city, region, country, lat, lon, year, month))\n",
    "\tORDER BY city, date;\"\"\"))"
   ]
  },
  {
   "cell_type": "raw",
   "id": "9e6f3a12",
   "metadata": {},
   "source": [
    "df = pd.read_sql(sql=text('SELECT * FROM combined_climate_data;'), con=engine)"
   ]
  },
  {
   "cell_type": "raw",
   "id": "c7fa0cb7",
   "metadata": {},
   "source": [
    "df_new = pd.read_sql(sql=text('SELECT * FROM total_averages;'), con=engine)"
   ]
  },
  {
   "cell_type": "raw",
   "id": "58b78133",
   "metadata": {},
   "source": [
    "df['date'] = pd.to_datetime(df['date'])\n",
    "df['sunrise_24hr'] = pd.to_datetime(df['sunrise_24hr'], format='%H:%M').dt.time\n",
    "df['sunset_24hr'] = pd.to_datetime(df['sunset_24hr'], format='%H:%M').dt.time\n",
    "df['moonrise_24hr'] = pd.to_datetime(df['moonrise_24hr'], format='%H:%M').dt.time\n",
    "df['moonset_24hr']= pd.to_datetime(df['moonset_24hr'], format='%H:%M').dt.time"
   ]
  },
  {
   "cell_type": "raw",
   "id": "82802295",
   "metadata": {},
   "source": [
    "df.to_csv('./climate_df.csv', index=False)"
   ]
  },
  {
   "cell_type": "raw",
   "id": "bea852ad",
   "metadata": {},
   "source": [
    "df_new.to_csv('./totals_df.csv', index=False)"
   ]
  },
  {
   "cell_type": "raw",
   "id": "9e80a005",
   "metadata": {},
   "source": [
    "fig = px.line(lerwick_precip23, x='week', y='wkly_totalprecip', title='Combined Line and Scatter Plot')\n",
    "fig.add_scatter(\n",
    "    x=lerwick_precip23['week'],\n",
    "    y=lerwick_precip23['wkly_totalprecip'],\n",
    "    mode='markers',\n",
    "    marker=dict(size=lerwick_precip23['wkly_rainfall_spread'] * 30),\n",
    "    name='Scatter Plot'\n",
    ")\n",
    "\n",
    "fig.update_layout(title='Combined Line and Scatter Plot', xaxis_title='X-axis', yaxis_title='Y-axis')\n",
    "\n",
    "fig.show(renderer='notebook_connected')"
   ]
  },
  {
   "cell_type": "code",
   "execution_count": 3,
   "id": "59b14ea7",
   "metadata": {},
   "outputs": [],
   "source": [
    "df = pd.read_csv('./climate_df.csv')"
   ]
  },
  {
   "cell_type": "code",
   "execution_count": 4,
   "id": "60c2ba2a",
   "metadata": {},
   "outputs": [],
   "source": [
    "df_new = pd.read_csv('./totals_df.csv')"
   ]
  },
  {
   "cell_type": "code",
   "execution_count": 5,
   "id": "29477ba1",
   "metadata": {},
   "outputs": [],
   "source": [
    "df['non_lume'] = 100-(df['moon_illumination_num'])"
   ]
  },
  {
   "cell_type": "code",
   "execution_count": null,
   "id": "736ff505",
   "metadata": {},
   "outputs": [],
   "source": [
    "fig = px.bar(df[df['city']=='Dao'], \n",
    "             x=['moon_illumination_num','non_lume'], \n",
    "             y='city',\n",
    "             color_discrete_sequence=['#fbf5d7', '#afb9c5'],\n",
    "             hover_name=\"moon_phase\",\n",
    "             hover_data={},\n",
    "             animation_frame='date',\n",
    "             labels={'value': 'Illumination (%)'},\n",
    "             title='Moon Illumination Through The Year',\n",
    "             height=350, width=800)\n",
    "\n",
    "fig.update_layout(plot_bgcolor= '#afb9c5',barmode='stack', showlegend=False)\n",
    "fig.update_xaxes(showgrid=False)\n",
    "fig.update_yaxes(showgrid=False)\n",
    "fig.update_traces(marker_line_width=0)\n",
    "\n",
    "fig.show(renderer='notebook_connected')\n",
    "#fig.write_html('moon_illumination_yr.html')"
   ]
  },
  {
   "cell_type": "code",
   "execution_count": null,
   "id": "83610f10",
   "metadata": {},
   "outputs": [],
   "source": [
    "fig=px.bar(df[df['city']=='Dao'], \n",
    "                     x='date', \n",
    "                     y='moon_illumination_num',\n",
    "                     color_discrete_sequence=['#fbf5d7'],\n",
    "                     hover_name='moon_phase',\n",
    "                     height=600, width=800)\n",
    "\n",
    "fig.add_trace(px.line(df[df['city']=='Dao'], \n",
    "                      x='date', \n",
    "                      y='moon_illumination_num',\n",
    "                      color_discrete_sequence=['#fbf5d7']).data[0])\n",
    "\n",
    "fig.update_layout(plot_bgcolor= '#afb9c5', showlegend=False)\n",
    "fig.update_yaxes(showgrid=False)\n",
    "fig.update_traces(marker_line_width=0)\n",
    "\n",
    "\n",
    "fig.show(renderer='notebook_connected')"
   ]
  },
  {
   "cell_type": "code",
   "execution_count": null,
   "id": "f4ac9b1f",
   "metadata": {},
   "outputs": [],
   "source": [
    "\n",
    "fig = px.line(df, x='date', y='totalprecip_mm', color='city')\n",
    "fig.show(renderer='notebook_connected');"
   ]
  },
  {
   "cell_type": "code",
   "execution_count": 6,
   "id": "b9d79c5f",
   "metadata": {},
   "outputs": [
    {
     "name": "stderr",
     "output_type": "stream",
     "text": [
      "/Users/Dom/anaconda3/lib/python3.11/site-packages/sklearn/utils/validation.py:767: FutureWarning: is_sparse is deprecated and will be removed in a future version. Check `isinstance(dtype, pd.SparseDtype)` instead.\n",
      "  if not hasattr(array, \"sparse\") and array.dtypes.apply(is_sparse).any():\n",
      "/Users/Dom/anaconda3/lib/python3.11/site-packages/sklearn/utils/validation.py:605: FutureWarning: is_sparse is deprecated and will be removed in a future version. Check `isinstance(dtype, pd.SparseDtype)` instead.\n",
      "  if is_sparse(pd_dtype):\n",
      "/Users/Dom/anaconda3/lib/python3.11/site-packages/sklearn/utils/validation.py:614: FutureWarning: is_sparse is deprecated and will be removed in a future version. Check `isinstance(dtype, pd.SparseDtype)` instead.\n",
      "  if is_sparse(pd_dtype) or not is_extension_array_dtype(pd_dtype):\n",
      "/Users/Dom/anaconda3/lib/python3.11/site-packages/sklearn/utils/validation.py:767: FutureWarning: is_sparse is deprecated and will be removed in a future version. Check `isinstance(dtype, pd.SparseDtype)` instead.\n",
      "  if not hasattr(array, \"sparse\") and array.dtypes.apply(is_sparse).any():\n",
      "/Users/Dom/anaconda3/lib/python3.11/site-packages/sklearn/utils/validation.py:605: FutureWarning: is_sparse is deprecated and will be removed in a future version. Check `isinstance(dtype, pd.SparseDtype)` instead.\n",
      "  if is_sparse(pd_dtype):\n",
      "/Users/Dom/anaconda3/lib/python3.11/site-packages/sklearn/utils/validation.py:614: FutureWarning: is_sparse is deprecated and will be removed in a future version. Check `isinstance(dtype, pd.SparseDtype)` instead.\n",
      "  if is_sparse(pd_dtype) or not is_extension_array_dtype(pd_dtype):\n"
     ]
    }
   ],
   "source": [
    "from sklearn.preprocessing import MinMaxScaler\n",
    "\n",
    "scaler = MinMaxScaler()\n",
    "\n",
    "df_new['scaled_precip'] = scaler.fit_transform(df_new[['overall_precip_mm']])\n",
    "df_new['scaled_precip'] = round(df_new['scaled_precip'],2)"
   ]
  },
  {
   "cell_type": "code",
   "execution_count": 12,
   "id": "932ec4c8",
   "metadata": {},
   "outputs": [],
   "source": [
    "alpha = df_new['scaled_precip']\n",
    "\n",
    "fig = px.scatter_mapbox(df_new, \n",
    "                        lat=\"lat\", lon=\"lon\", \n",
    "                        hover_name=\"city\",\n",
    "                        hover_data=[\"total_precip_days\",'overall_precip_mm','lat','lon'],\n",
    "                        text = 'city',\n",
    "                        size=\"total_precip_days\",\n",
    "                        color=\"overall_precip_mm\",\n",
    "                        color_continuous_scale='Burg', \n",
    "                        opacity=alpha,\n",
    "                        labels='city',\n",
    "                        zoom=1, center={'lat': 40.910000, 'lon': 3.831000},\n",
    "                        mapbox_style='carto-positron')\n",
    "fig.update_layout(\n",
    "    title=\"Precipitation Days and Volume (Nov'22 - Nov'23) All Locations\"\n",
    ")\n",
    "\n",
    "fig.write_html('precip_avgs_map.html')"
   ]
  },
  {
   "cell_type": "code",
   "execution_count": null,
   "id": "50262e1b",
   "metadata": {},
   "outputs": [],
   "source": [
    "pamir_stripes = df[df['city']=='Pamir Post']\n",
    "pamir_stripes = pd.pivot_table(pamir_stripes, values='avgtemp_c', index=['date'])"
   ]
  },
  {
   "cell_type": "code",
   "execution_count": null,
   "id": "f6f8304f",
   "metadata": {},
   "outputs": [],
   "source": [
    "fig = px.imshow(\n",
    "    pamir_stripes.T,  # Transpose the DataFrame for proper orientation\n",
    "    labels=dict(x=\"Date\", y='Avg Daily Temperature', color=\"Temperature\"),\n",
    "    color_continuous_scale='RdBu_r',  # Choose a diverging color scale\n",
    "    color_continuous_midpoint=0,\n",
    ")\n",
    "\n",
    "# Customize the layout\n",
    "fig.update_layout(\n",
    "    title=\"Pamir Post Temperature; Nov'22 - Nov'23\",\n",
    "    yaxis_title=''\n",
    ")\n",
    "\n",
    "fig.write_html('pamir_stripes.html', include_plotlyjs='cdn')\n",
    "fig.show(renderer='notebook_connected')"
   ]
  },
  {
   "cell_type": "code",
   "execution_count": null,
   "id": "b2bc19cc",
   "metadata": {},
   "outputs": [],
   "source": [
    "df[df['city']=='Window Rock']"
   ]
  },
  {
   "cell_type": "code",
   "execution_count": null,
   "id": "bf207f2f",
   "metadata": {},
   "outputs": [],
   "source": [
    "window_stripes = df[df['city']=='Window Rock']\n",
    "window_stripes = pd.pivot_table(window_stripes, values='avgtemp_c', index=['date'])\n",
    "\n",
    "fig = px.imshow(\n",
    "    window_stripes.T,  # Transpose the DataFrame for proper orientation\n",
    "    labels=dict(x=\"Date\", y='Avg Daily Temperature', color=\"Temperature\"),\n",
    "    color_continuous_scale='RdBu_r',  # Choose a diverging color scale\n",
    "    color_continuous_midpoint=0,\n",
    ")\n",
    "fig.update_layout(\n",
    "    title=\"Window Rock Temperature\",\n",
    "    yaxis_title=''\n",
    ")\n",
    "\n",
    "fig.show(renderer='notebook_connected')"
   ]
  },
  {
   "cell_type": "code",
   "execution_count": null,
   "id": "2beb1b1a",
   "metadata": {},
   "outputs": [],
   "source": [
    "fig = px.imshow(\n",
    "    window_stripes.T,\n",
    "    labels=dict(x=\"Date\", y='Avg Daily Temperature', color=\"Temperature\"),\n",
    "    color_continuous_scale='RdBu_r',\n",
    "    color_continuous_midpoint=8,\n",
    ")\n",
    "\n",
    "# Set the color range\n",
    "fig.update_layout(\n",
    "    title=\"Temperature\",\n",
    "    yaxis_title='',\n",
    "    coloraxis_colorbar=dict(\n",
    "        tickvals=[-40, -20, 0, 20, 45],\n",
    "        ticktext=[-40, -20, 0, 20, 45]\n",
    "    )\n",
    ")\n",
    "\n",
    "# Show the plot\n",
    "fig.show(renderer='notebook_connected')\n"
   ]
  },
  {
   "cell_type": "code",
   "execution_count": null,
   "id": "bc84b347",
   "metadata": {},
   "outputs": [],
   "source": [
    "df_new.sort_values(by='overall_precip_mm')"
   ]
  },
  {
   "cell_type": "code",
   "execution_count": null,
   "id": "4c5d9a65",
   "metadata": {},
   "outputs": [],
   "source": [
    "cities =df['city'].unique().tolist() \n",
    "cities"
   ]
  },
  {
   "cell_type": "code",
   "execution_count": null,
   "id": "5eaa946f",
   "metadata": {},
   "outputs": [],
   "source": [
    "df.head()"
   ]
  },
  {
   "cell_type": "code",
   "execution_count": null,
   "id": "fd0afbf4",
   "metadata": {},
   "outputs": [],
   "source": [
    "ansbach_df = df[df['city']=='Ansbach']\n",
    "\n",
    "fig = go.Figure()\n",
    "fig.add_trace(go.Bar(\n",
    "    x=ansbach_df['date'],\n",
    "    y=ansbach_df['wk_maxvis_day'] - ansbach_df['wk_minvis_day'],\n",
    "    base=ansbach_df['wk_minvis_day'],\n",
    "    name='Visibility Range',\n",
    "    marker_color= '#fbf5d7',\n",
    "    opacity=0.8),\n",
    "    )\n",
    "fig.update_layout(plot_bgcolor= '#c2c9d4')\n",
    "fig.update_yaxes(showgrid=False)\n",
    "fig.update_traces(marker_line_width=0)\n",
    "\n",
    "fig.add_trace(go.Scatter(\n",
    "        x=ansbach_df['date'],\n",
    "        y=ansbach_df['avgvis_km'],\n",
    "        mode='lines+markers',\n",
    "        name='Daily Visibility',\n",
    "        line=dict(color='#d8c073', width=1.6),\n",
    "        marker=dict(color='#d8c073', size=2),\n",
    "        hoverinfo='y+name'\n",
    "    ))\n",
    "fig.update_layout(\n",
    "    title=\"Annual Visibility\",\n",
    "    xaxis_title='Date',\n",
    "    yaxis_title='Visibility in km'\n",
    ")"
   ]
  },
  {
   "cell_type": "code",
   "execution_count": null,
   "id": "8c69a3f8",
   "metadata": {},
   "outputs": [],
   "source": []
  },
  {
   "cell_type": "code",
   "execution_count": null,
   "id": "4c90d406",
   "metadata": {},
   "outputs": [],
   "source": []
  },
  {
   "cell_type": "code",
   "execution_count": null,
   "id": "6021406a",
   "metadata": {},
   "outputs": [],
   "source": [
    "df_vis = df_new.sort_values(by='overall_avg_vis_km')[['city','country','maxvis_day_km',\n",
    "                                                   'overall_avg_vis_km', 'mnth_minvis_day_km']]\n",
    "df_vis['max. daily vis (km)'] = round(df_vis['maxvis_day_km'],2)\n",
    "df_vis['avg. vis (km)'] = round(df_vis['overall_avg_vis_km'],2)\n",
    "df_vis['min. daily vis (km)'] = round(df_vis['mnth_minvis_day_km'],2)\n",
    "\n",
    "df_vis = df_vis[['city','country','max. daily vis (km)', 'avg. vis (km)', 'min. daily vis (km)']]\n"
   ]
  },
  {
   "cell_type": "code",
   "execution_count": null,
   "id": "0a2c0861",
   "metadata": {},
   "outputs": [],
   "source": [
    "df_new.columns"
   ]
  },
  {
   "cell_type": "code",
   "execution_count": null,
   "id": "8ea63805",
   "metadata": {},
   "outputs": [],
   "source": []
  }
 ],
 "metadata": {
  "kernelspec": {
   "display_name": "Python 3 (ipykernel)",
   "language": "python",
   "name": "python3"
  },
  "language_info": {
   "codemirror_mode": {
    "name": "ipython",
    "version": 3
   },
   "file_extension": ".py",
   "mimetype": "text/x-python",
   "name": "python",
   "nbconvert_exporter": "python",
   "pygments_lexer": "ipython3",
   "version": "3.11.3"
  }
 },
 "nbformat": 4,
 "nbformat_minor": 5
}
