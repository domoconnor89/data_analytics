{
 "cells": [
  {
   "cell_type": "code",
   "execution_count": 26,
   "id": "582d5cc4",
   "metadata": {},
   "outputs": [],
   "source": [
    "import pandas as pd\n",
    "import numpy as np\n",
    "import json\n",
    "import seaborn as sns\n",
    "\n",
    "from sklearn.preprocessing import MinMaxScaler, Normalizer\n",
    "\n",
    "# accessing data library\n",
    "from statsbombpy import sb\n",
    "\n",
    "# opening the libraries as DF's\n",
    "from mplsoccer import Sbopen\n",
    "parser = Sbopen()\n",
    "\n",
    "# plotting\n",
    "import os\n",
    "import pathlib\n",
    "import warnings\n",
    "import statsmodels.api as sm\n",
    "import statsmodels.formula.api as smf\n",
    "from mplsoccer import Pitch, VerticalPitch\n",
    "import matplotlib.pyplot as plt\n",
    "\n",
    "pd.options.mode.chained_assignment = None\n",
    "warnings.filterwarnings('ignore')"
   ]
  },
  {
   "cell_type": "code",
   "execution_count": 56,
   "id": "d486ea4f",
   "metadata": {},
   "outputs": [],
   "source": [
    "season = '2018_19'\n",
    "ssn = '1819'"
   ]
  },
  {
   "cell_type": "code",
   "execution_count": 57,
   "id": "a2fad92a",
   "metadata": {},
   "outputs": [
    {
     "data": {
      "text/plain": [
       "Index(['team', 'season', 'total_GKs', 'short_GKs', 'long_GKs',\n",
       "       'GKs_distnce_std', 'avg_GK_dist', 'all_scsfl_GKs', 'shrt_scsfl_GKs',\n",
       "       'lng_scsfl_GKs', 'shortGK_avg_xkick_lft', 'shortGK_avg_ykick_lft',\n",
       "       'shortGK_avg_xkick_cntr', 'shortGK_avg_ykick_cntr',\n",
       "       'shortGK_avg_xkick_rght', 'shortGK_avg_ykick_rght',\n",
       "       'longGK_avg_xkick_lft', 'longGK_avg_ykick_lft', 'longGK_avg_xkick_cntr',\n",
       "       'longGK_avg_ykick_cntr', 'longGK_avg_xkick_rght',\n",
       "       'longGK_avg_ykick_rght', 'ttl_avg_num_passes', 'ttl_avg_chain_speed',\n",
       "       'scsfl_prgpass_pcnt', 'scsfl_prgpass_avg_dist', 'ttl_prgpass_pcnt',\n",
       "       'ttl_prgpass_avg_dist', 'short_avg_num_passes', 'shrt_all_prgpass_pcnt',\n",
       "       'shrt_all_prgpass_avg_dist', 'shrt_scsfl_prgpass_pcnt',\n",
       "       'shrt_scsfl_prgpass_avg_dist', 'long_avg_num_passes',\n",
       "       'long_all_prgpass_pcnt', 'long_all_prgpass_avg_dist',\n",
       "       'long_scsfl_prgpass_pcnt', 'long_scsfl_prgpass_avg_dist',\n",
       "       'short_end_shot', 'short_end_goal', 'short_avg_xg', 'long_end_shot',\n",
       "       'long_end_goal', 'long_avg_xg', 'short_avg_x_prog', 'fllw_shrt_x_rtrn',\n",
       "       'fllw_shrt_shots_rtrn', 'fllw_shrt_goals_rtrn', 'fllw_shrt_avg_xg_rtrn',\n",
       "       'long_avg_x_prog', 'fllw_long_x_rtrn', 'fllw_long_shots_rtrn',\n",
       "       'fllw_long_goals_rtrn', 'fllw_long_avg_xg_rtrn'],\n",
       "      dtype='object')"
      ]
     },
     "execution_count": 57,
     "metadata": {},
     "output_type": "execute_result"
    }
   ],
   "source": [
    "KPIs = pd.read_csv(f'../data/KPIs_{ssn}.csv')\n",
    "KPIs.columns"
   ]
  },
  {
   "cell_type": "code",
   "execution_count": null,
   "id": "a98984c7",
   "metadata": {},
   "outputs": [],
   "source": []
  },
  {
   "cell_type": "code",
   "execution_count": null,
   "id": "3db17a85",
   "metadata": {},
   "outputs": [],
   "source": []
  },
  {
   "cell_type": "code",
   "execution_count": null,
   "id": "7ca4b0d7",
   "metadata": {},
   "outputs": [],
   "source": []
  },
  {
   "cell_type": "code",
   "execution_count": 58,
   "id": "f71fbee1",
   "metadata": {},
   "outputs": [],
   "source": [
    "def table_merges(season,ssn):\n",
    "    \n",
    "    lg_tbl = pd.read_csv(f'../data/lg_table_{season}.csv')\n",
    "\n",
    "    lg_tbl.rename(columns={'Team': 'team'}, inplace=True)\n",
    "\n",
    "    KPIs = pd.read_csv(f'../data/KPIs_{ssn}.csv')\n",
    "\n",
    "    KPIs['short_GK_pc'] = round((KPIs['short_GKs'] / KPIs['total_GKs']) *100,2)\n",
    "    KPIs['long_GK_pc'] = round((KPIs['long_GKs'] / KPIs['total_GKs']) *100,2)\n",
    "\n",
    "    KPIs['short_shot_pc'] = round((KPIs['short_end_shot']/KPIs['short_GKs'])*100,2)\n",
    "    KPIs['short_goal_pc'] = round((KPIs['short_end_goal']/KPIs['short_GKs'])*100,2)\n",
    "\n",
    "    KPIs['long_shot_pc'] = round((KPIs['long_end_shot']/KPIs['long_GKs'])*100,2)\n",
    "    KPIs['long_goal_pc'] = round((KPIs['long_end_goal']/KPIs['long_GKs'])*100,2)\n",
    "    \n",
    "    KPIs['fllw_shrt_shots_pc'] = round((KPIs['fllw_shrt_shots_rtrn']/KPIs['short_GKs'])*100,2)\n",
    "    KPIs['fllw_shrt_goals_pc'] = round((KPIs['fllw_shrt_goals_rtrn']/KPIs['short_GKs'])*100,2)\n",
    "\n",
    "    KPIs['short_agg_gains'] = round(KPIs['short_avg_x_prog'] - KPIs['fllw_shrt_x_rtrn'],2)\n",
    "    KPIs['long_agg_gains'] = round(KPIs['long_avg_x_prog'] - KPIs['fllw_long_x_rtrn'],2)\n",
    "\n",
    "    KPIs['fllw_long_shots_pc'] = round((KPIs['fllw_long_shots_rtrn']/KPIs['long_GKs'])*100,2)\n",
    "    KPIs['fllw_long_goals_pc'] = round((KPIs['fllw_long_goals_rtrn']/KPIs['long_GKs'])*100,2)\n",
    "    \n",
    "    def create_team_season(row):\n",
    "        return f\"{row['team']} | {row['season']}\"\n",
    "    \n",
    "    KPIs['short_gains_map'] = KPIs.apply(create_team_season, axis=1)\n",
    "    KPIs['long_gains_map'] = KPIs.apply(create_team_season, axis=1)\n",
    "    \n",
    "    KPIs['short_ntwrk_map'] = KPIs.apply(create_team_season, axis=1)\n",
    "    KPIs['long_ntwrk_map'] = KPIs.apply(create_team_season, axis=1)\n",
    "    \n",
    "    KPIs['GK_pizza_plot'] = KPIs.apply(create_team_season, axis=1)\n",
    "    \n",
    "    KPIs['name_display'] = KPIs.apply(create_team_season, axis=1)\n",
    "\n",
    "    KPIs = KPIs[['team', 'season', 'total_GKs', 'short_GKs', 'short_goal_pc', 'long_GKs', 'long_GK_pc',\n",
    "            'avg_GK_dist','all_scsfl_GKs','shrt_scsfl_GKs','lng_scsfl_GKs',\n",
    "          'short_avg_x_prog','fllw_shrt_x_rtrn','short_agg_gains',\n",
    "                 'long_avg_x_prog','fllw_long_x_rtrn','long_agg_gains',\n",
    "          'GKs_distnce_std', 'ttl_avg_num_passes', 'ttl_avg_chain_speed',\n",
    "                 'scsfl_prgpass_pcnt','scsfl_prgpass_avg_dist','ttl_prgpass_pcnt','ttl_prgpass_avg_dist',\n",
    "            'short_avg_num_passes','long_avg_num_passes', \n",
    "          'shrt_all_prgpass_pcnt', 'long_all_prgpass_pcnt',\n",
    "          'shrt_scsfl_prgpass_pcnt', 'long_scsfl_prgpass_pcnt',\n",
    "          'shrt_all_prgpass_avg_dist', 'long_all_prgpass_avg_dist',\n",
    "          'shrt_scsfl_prgpass_avg_dist','long_scsfl_prgpass_avg_dist',\n",
    "          'short_end_shot', 'short_shot_pc','long_end_shot', 'long_shot_pc',\n",
    "          'short_end_goal','short_GK_pc', 'long_end_goal', 'long_goal_pc', \n",
    "          'short_avg_xg', 'long_avg_xg',\n",
    "          'fllw_shrt_shots_rtrn','fllw_shrt_shots_pc','fllw_long_shots_rtrn','fllw_long_shots_pc',\n",
    "          'fllw_shrt_goals_rtrn','fllw_shrt_goals_pc','fllw_long_goals_rtrn','fllw_long_goals_pc',\n",
    "          'fllw_shrt_avg_xg_rtrn','fllw_long_avg_xg_rtrn',\n",
    "        'short_gains_map','long_gains_map','short_ntwrk_map','long_ntwrk_map','GK_pizza_plot','name_display']]\n",
    "    \n",
    "# Split the data into elements\n",
    "\n",
    "### General\n",
    "\n",
    "    df_gen = KPIs[['team', 'season', 'total_GKs', \n",
    "                   'short_GKs','short_GK_pc',\n",
    "                   'long_GKs','long_GK_pc',\n",
    "                   'GKs_distnce_std']]\n",
    "\n",
    "### Yards Gained / Conceded\n",
    "    \n",
    "    df_gains = KPIs[['team', 'season',\n",
    "                     'short_avg_x_prog', 'fllw_shrt_x_rtrn','short_agg_gains',\n",
    "                     'long_avg_x_prog', 'fllw_long_x_rtrn','long_agg_gains']]\n",
    "\n",
    "### Passes\n",
    "\n",
    "    df_passes = KPIs[['team', 'season',\n",
    "                      'GKs_distnce_std','ttl_avg_num_passes', 'ttl_avg_chain_speed',\n",
    "                      'short_avg_num_passes','long_avg_num_passes', \n",
    "                      'shrt_all_prgpass_pcnt', 'long_all_prgpass_pcnt',\n",
    "                      'shrt_scsfl_prgpass_pcnt', 'long_scsfl_prgpass_pcnt',\n",
    "                      'shrt_all_prgpass_avg_dist','long_all_prgpass_avg_dist',\n",
    "                      'shrt_scsfl_prgpass_avg_dist','long_scsfl_prgpass_avg_dist']]\n",
    "\n",
    "### Shot Creation\n",
    "\n",
    "    df_shots = KPIs[['team', 'season', \n",
    "                     'short_end_shot', 'short_shot_pc','long_end_shot', 'long_shot_pc',\n",
    "                     'short_end_goal','short_goal_pc',\n",
    "                     'long_end_goal', 'long_goal_pc',\n",
    "                     'short_avg_xg','long_avg_xg', \n",
    "                     'fllw_shrt_shots_rtrn','fllw_shrt_shots_pc',\n",
    "                     'fllw_long_shots_rtrn','fllw_long_shots_pc',  \n",
    "                     'fllw_shrt_goals_rtrn', 'fllw_shrt_goals_pc',\n",
    "                     'fllw_long_goals_rtrn', 'fllw_long_goals_pc',\n",
    "                     'fllw_long_avg_xg_rtrn','fllw_shrt_avg_xg_rtrn',\n",
    "                     'short_gains_map','long_gains_map','short_ntwrk_map','long_ntwrk_map']]\n",
    "\n",
    "### Merge With League Table\n",
    "\n",
    "    KPIs_tbl = pd.merge(lg_tbl, KPIs, how='inner', on='team')\n",
    "    \n",
    "    gen_tbl = pd.merge(lg_tbl, df_gen, how='inner', on='team')\n",
    "    \n",
    "    gains_tbl = pd.merge(lg_tbl, df_gains, how='inner', on='team')\n",
    "    gains_tbl = gains_tbl[['season', 'Pos', 'team', 'Pts', \n",
    "                           'short_avg_x_prog', 'fllw_shrt_x_rtrn', 'short_agg_gains', \n",
    "                           'long_avg_x_prog', 'fllw_long_x_rtrn', 'long_agg_gains']]\n",
    "\n",
    "    pass_tbl = pd.merge(lg_tbl, df_passes, how='inner', on='team')\n",
    "    pass_tbl = pass_tbl[['season','Pos', 'team', 'Pts', \n",
    "                'GKs_distnce_std', 'ttl_avg_num_passes', 'ttl_avg_chain_speed',\n",
    "              'short_avg_num_passes', 'long_avg_num_passes',\n",
    "              'shrt_all_prgpass_pcnt', 'long_all_prgpass_pcnt',\n",
    "              'shrt_scsfl_prgpass_pcnt', 'long_scsfl_prgpass_pcnt',\n",
    "              'shrt_all_prgpass_avg_dist', 'long_all_prgpass_avg_dist',\n",
    "              'shrt_scsfl_prgpass_avg_dist', 'long_scsfl_prgpass_avg_dist']]\n",
    "    \n",
    "    shots_tbl = pd.merge(lg_tbl, df_shots, how='inner', on='team')\n",
    "    shots_tbl = shots_tbl[['season','Pos', 'team','GF', 'GA', 'Pts', \n",
    "               'short_end_shot', 'short_shot_pc', 'long_end_shot', 'long_shot_pc',\n",
    "               'short_end_goal', 'short_goal_pc', 'long_end_goal', 'long_goal_pc',\n",
    "               'short_avg_xg', 'long_avg_xg', 'fllw_shrt_shots_rtrn',\n",
    "               'fllw_shrt_shots_pc', 'fllw_long_shots_rtrn', 'fllw_long_shots_pc',\n",
    "               'fllw_shrt_goals_rtrn', 'fllw_shrt_goals_pc', 'fllw_long_goals_rtrn',\n",
    "               'fllw_long_goals_pc', 'fllw_long_avg_xg_rtrn', 'fllw_shrt_avg_xg_rtrn']]\n",
    "    \n",
    "    KPIs_tbl.to_csv(f'../data/KPIs_tbl{ssn}.csv', index=False)\n",
    "    \n",
    "    gen_tbl.to_csv(f'../data/gen_tbl{ssn}.csv', index=False)\n",
    "    \n",
    "    gains_tbl.to_csv(f'../data/gains_tbl{ssn}.csv', index=False)\n",
    "    \n",
    "    pass_tbl.to_csv(f'../data/pass_tbl{ssn}.csv', index=False)\n",
    "    \n",
    "    shots_tbl.to_csv(f'../data/shots_tbl{ssn}.csv', index=False)"
   ]
  },
  {
   "cell_type": "code",
   "execution_count": 61,
   "id": "36bed98d",
   "metadata": {},
   "outputs": [],
   "source": [
    "table_merges('2018_19','1819')"
   ]
  },
  {
   "cell_type": "code",
   "execution_count": 62,
   "id": "772852e4",
   "metadata": {},
   "outputs": [],
   "source": [
    "### Concat The Tables\n",
    "\n",
    "KPIs_tbl1819 = pd.read_csv(f'../data/KPIs_tbl1819.csv')\n",
    "\n",
    "KPIs_tbl1920 = pd.read_csv(f'../data/KPIs_tbl1920.csv')\n",
    "\n",
    "KPIs_tbl2021 = pd.read_csv(f'../data/KPIs_tbl2021.csv')\n",
    "\n",
    "KPIs_tbl_all = pd.concat([KPIs_tbl1819, KPIs_tbl1920, KPIs_tbl2021])\n",
    "\n",
    "KPIs_tbl_all.to_csv(f'../data/KPIs_tbl_all.csv', index=False)"
   ]
  },
  {
   "cell_type": "code",
   "execution_count": null,
   "id": "8ebc788c",
   "metadata": {},
   "outputs": [],
   "source": [
    "### Concat The Tables\n",
    "\n",
    "gen_tbl1819 = pd.read_csv(f'../data/gen_tbl1819.csv')\n",
    "\n",
    "gen_tbl1920 = pd.read_csv(f'../data/gen_tbl1920.csv')\n",
    "\n",
    "gen_tbl2021 = pd.read_csv(f'../data/gen_tbl2021.csv')\n",
    "\n",
    "gen_tbl_all = pd.concat([gen_tbl1819, gen_tbl1920, gen_tbl2021])\n",
    "\n",
    "gen_tbl_all.to_csv(f'../data/gen_tbl_all.csv', index=False)"
   ]
  },
  {
   "cell_type": "code",
   "execution_count": null,
   "id": "a15628d7",
   "metadata": {},
   "outputs": [],
   "source": [
    "gains_tbl1819 = pd.read_csv(f'../data/gains_tbl1819.csv')\n",
    "\n",
    "gains_tbl1920 = pd.read_csv(f'../data/gains_tbl1920.csv')\n",
    "\n",
    "gains_tbl2021 = pd.read_csv(f'../data/gains_tbl2021.csv')\n",
    "\n",
    "gains_tbl_all = pd.concat([gains_tbl1819,gains_tbl1920,gains_tbl2021])\n",
    "\n",
    "gains_tbl_all.to_csv(f'../data/gains_tbl_all.csv', index=False)"
   ]
  },
  {
   "cell_type": "code",
   "execution_count": null,
   "id": "8063b240",
   "metadata": {},
   "outputs": [],
   "source": [
    "pass_tbl1819 = pd.read_csv(f'../data/pass_tbl1819.csv')\n",
    "\n",
    "pass_tbl1920 = pd.read_csv(f'../data/pass_tbl1920.csv')\n",
    "\n",
    "pass_tbl2021 = pd.read_csv(f'../data/pass_tbl2021.csv')\n",
    "\n",
    "pass_tbl_all = pd.concat([pass_tbl1819, pass_tbl1920, pass_tbl2021])\n",
    "\n",
    "pass_tbl_all.to_csv(f'../data/pass_tbl_all.csv', index=False)"
   ]
  },
  {
   "cell_type": "code",
   "execution_count": null,
   "id": "25de308d",
   "metadata": {},
   "outputs": [],
   "source": [
    "shots_tbl1819 = pd.read_csv(f'../data/shots_tbl1819.csv')\n",
    "\n",
    "shots_tbl1920 = pd.read_csv(f'../data/shots_tbl1920.csv')\n",
    "\n",
    "shots_tbl2021 = pd.read_csv(f'../data/shots_tbl2021.csv')\n",
    "\n",
    "shots_tbl_all = pd.concat([shots_tbl1819, shots_tbl1920, shots_tbl2021])\n",
    "\n",
    "shots_tbl_all.to_csv(f'../data/shots_tbl_all.csv', index=False)"
   ]
  },
  {
   "cell_type": "code",
   "execution_count": null,
   "id": "9269f963",
   "metadata": {
    "scrolled": true
   },
   "outputs": [],
   "source": [
    "gen_tbl1819"
   ]
  },
  {
   "cell_type": "code",
   "execution_count": null,
   "id": "b64a7c35",
   "metadata": {},
   "outputs": [],
   "source": []
  },
  {
   "cell_type": "markdown",
   "id": "157aa252",
   "metadata": {},
   "source": [
    "# Split the data short / long"
   ]
  },
  {
   "cell_type": "code",
   "execution_count": null,
   "id": "e5fe8faf",
   "metadata": {},
   "outputs": [],
   "source": [
    "short_KPIs = KPIs[['team', 'season', 'total_GKs', 'short_GKs','short_GK_pc', \n",
    "                                 'GKs_distnce_std',\n",
    "                                 'short_avg_x_prog', 'fllw_shrt_x_rtrn', \n",
    "                                 'short_avg_num_passes',\n",
    "                                 'shrt_all_prgpass_pcnt', 'shrt_scsfl_prgpass_pcnt', \n",
    "                                 'shrt_all_prgpass_avg_dist','shrt_scsfl_prgpass_avg_dist',\n",
    "                                 'short_end_shot', 'short_shot_pc',\n",
    "                                 'fllw_shrt_shots_rtrn','fllw_shrt_shots_pc',\n",
    "                                 'short_end_goal','short_goal_pc','short_avg_xg',\n",
    "                                 'fllw_shrt_goals_rtrn', 'fllw_shrt_goals_pc',\n",
    "                                 'short_avg_xg', 'fllw_shrt_avg_xg_rtrn']]"
   ]
  },
  {
   "cell_type": "code",
   "execution_count": null,
   "id": "4712fcf0",
   "metadata": {},
   "outputs": [],
   "source": [
    "short_KPIs"
   ]
  },
  {
   "cell_type": "code",
   "execution_count": null,
   "id": "f0ee5060",
   "metadata": {},
   "outputs": [],
   "source": [
    "long_KPIs = KPIs[['team', 'season', 'total_GKs', 'long_GKs', 'long_GK_pc',\n",
    "                               'GKs_distnce_std',\n",
    "                               'long_avg_x_prog', 'fllw_long_x_rtrn',\n",
    "                               'long_avg_num_passes', \n",
    "                               'long_all_prgpass_pcnt', 'long_scsfl_prgpass_pcnt',\n",
    "                               'long_all_prgpass_avg_dist','long_scsfl_prgpass_avg_dist',\n",
    "                               'long_end_shot', 'long_shot_pc',\n",
    "                               'fllw_long_shots_rtrn','fllw_long_shots_pc',\n",
    "                               'long_end_goal', 'long_goal_pc',\n",
    "                               'fllw_long_goals_rtrn', 'fllw_long_goals_pc',\n",
    "                               'long_avg_xg', 'fllw_long_avg_xg_rtrn']] "
   ]
  },
  {
   "cell_type": "code",
   "execution_count": null,
   "id": "0993d0f4",
   "metadata": {
    "scrolled": true
   },
   "outputs": [],
   "source": [
    "long_KPIs"
   ]
  }
 ],
 "metadata": {
  "kernelspec": {
   "display_name": "Python 3 (ipykernel)",
   "language": "python",
   "name": "python3"
  },
  "language_info": {
   "codemirror_mode": {
    "name": "ipython",
    "version": 3
   },
   "file_extension": ".py",
   "mimetype": "text/x-python",
   "name": "python",
   "nbconvert_exporter": "python",
   "pygments_lexer": "ipython3",
   "version": "3.11.3"
  }
 },
 "nbformat": 4,
 "nbformat_minor": 5
}
