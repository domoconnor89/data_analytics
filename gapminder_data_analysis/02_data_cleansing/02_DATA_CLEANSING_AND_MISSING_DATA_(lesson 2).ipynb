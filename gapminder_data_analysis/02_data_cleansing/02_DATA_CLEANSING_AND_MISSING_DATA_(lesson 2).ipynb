{
 "cells": [
  {
   "cell_type": "markdown",
   "id": "e2113ae8",
   "metadata": {},
   "source": [
    "## DATA CLEANSING AND MISSING DATA (lesson 2)\n",
    "\n",
    "1. Rename columns: use the method from the example above to properly name any columns that seem mislabeled in the `population` dataset. The `population` dataset was given in the EDA lesson warmer\n",
    "\n",
    "2. Missing data: first check and see which and how much data is missing in the `population` dataset\n",
    "\n",
    "3. Remove missing data: drop all observations with missing data\n",
    "\n",
    "4. Filter for relevant data: filter the dataset that it begins with the year 1950\n",
    "\n",
    "5. Make data persistant: save the dataset as a `.csv` file in your `data` folder as they will be used for the week’s project\n",
    "\n",
    "6. Repeat for the the **life_expectancy**, and **fertility_rate** datasets which are available below\n",
    "\n",
    "**Hint:** one of the files is not a `.csv` and must be read in using a pandas function other than `read_csv()`\n",
    "\n",
    "Related files\n",
    "fertility_rate.csv (1 MB)\n",
    "life_expectancy.xls (3 MB)"
   ]
  },
  {
   "cell_type": "code",
   "execution_count": 1,
   "id": "2f938860",
   "metadata": {},
   "outputs": [],
   "source": [
    "import pandas as pd"
   ]
  },
  {
   "cell_type": "code",
   "execution_count": 2,
   "id": "18a32d7c",
   "metadata": {},
   "outputs": [
    {
     "data": {
      "text/html": [
       "<div>\n",
       "<style scoped>\n",
       "    .dataframe tbody tr th:only-of-type {\n",
       "        vertical-align: middle;\n",
       "    }\n",
       "\n",
       "    .dataframe tbody tr th {\n",
       "        vertical-align: top;\n",
       "    }\n",
       "\n",
       "    .dataframe thead th {\n",
       "        text-align: right;\n",
       "    }\n",
       "</style>\n",
       "<table border=\"1\" class=\"dataframe\">\n",
       "  <thead>\n",
       "    <tr style=\"text-align: right;\">\n",
       "      <th></th>\n",
       "      <th>Total population</th>\n",
       "      <th>year</th>\n",
       "      <th>population</th>\n",
       "    </tr>\n",
       "  </thead>\n",
       "  <tbody>\n",
       "    <tr>\n",
       "      <th>0</th>\n",
       "      <td>Abkhazia</td>\n",
       "      <td>1800</td>\n",
       "      <td>NaN</td>\n",
       "    </tr>\n",
       "    <tr>\n",
       "      <th>1</th>\n",
       "      <td>Afghanistan</td>\n",
       "      <td>1800</td>\n",
       "      <td>3280000.0</td>\n",
       "    </tr>\n",
       "    <tr>\n",
       "      <th>2</th>\n",
       "      <td>Akrotiri and Dhekelia</td>\n",
       "      <td>1800</td>\n",
       "      <td>NaN</td>\n",
       "    </tr>\n",
       "    <tr>\n",
       "      <th>3</th>\n",
       "      <td>Albania</td>\n",
       "      <td>1800</td>\n",
       "      <td>410445.0</td>\n",
       "    </tr>\n",
       "    <tr>\n",
       "      <th>4</th>\n",
       "      <td>Algeria</td>\n",
       "      <td>1800</td>\n",
       "      <td>2503218.0</td>\n",
       "    </tr>\n",
       "  </tbody>\n",
       "</table>\n",
       "</div>"
      ],
      "text/plain": [
       "        Total population  year  population\n",
       "0               Abkhazia  1800         NaN\n",
       "1            Afghanistan  1800   3280000.0\n",
       "2  Akrotiri and Dhekelia  1800         NaN\n",
       "3                Albania  1800    410445.0\n",
       "4                Algeria  1800   2503218.0"
      ]
     },
     "execution_count": 2,
     "metadata": {},
     "output_type": "execute_result"
    }
   ],
   "source": [
    "#Rename columns: use the method from the example above to properly name any columns that seem mislabeled \n",
    "#... in the population dataset. The population dataset was given in the EDA lesson warmer.\n",
    "\n",
    "df_pop = pd.read_csv('../data/population.csv')\n",
    "df_pop.head()"
   ]
  },
  {
   "cell_type": "code",
   "execution_count": 3,
   "id": "608ed609",
   "metadata": {},
   "outputs": [
    {
     "data": {
      "text/plain": [
       "Index(['Total population', 'year', 'population'], dtype='object')"
      ]
     },
     "execution_count": 3,
     "metadata": {},
     "output_type": "execute_result"
    }
   ],
   "source": [
    "df_pop.columns"
   ]
  },
  {
   "cell_type": "code",
   "execution_count": 4,
   "id": "adca1e88",
   "metadata": {},
   "outputs": [
    {
     "data": {
      "text/plain": [
       "Index(['country', 'year', 'population'], dtype='object')"
      ]
     },
     "execution_count": 4,
     "metadata": {},
     "output_type": "execute_result"
    }
   ],
   "source": [
    "df_pop.rename(columns={'Total population':'country'},inplace=True)\n",
    "df_pop.columns"
   ]
  },
  {
   "cell_type": "code",
   "execution_count": 5,
   "id": "8952a374",
   "metadata": {},
   "outputs": [
    {
     "data": {
      "text/plain": [
       "country          0\n",
       "year             0\n",
       "population    2099\n",
       "dtype: int64"
      ]
     },
     "execution_count": 5,
     "metadata": {},
     "output_type": "execute_result"
    }
   ],
   "source": [
    "# Missing data: first check and see which and how much data is missing in the population dataset\n",
    "\n",
    "#check which column(s) contain NaN values\n",
    "df_pop.isnull().sum()"
   ]
  },
  {
   "cell_type": "code",
   "execution_count": 6,
   "id": "032b01be",
   "metadata": {},
   "outputs": [
    {
     "data": {
      "text/html": [
       "<div>\n",
       "<style scoped>\n",
       "    .dataframe tbody tr th:only-of-type {\n",
       "        vertical-align: middle;\n",
       "    }\n",
       "\n",
       "    .dataframe tbody tr th {\n",
       "        vertical-align: top;\n",
       "    }\n",
       "\n",
       "    .dataframe thead th {\n",
       "        text-align: right;\n",
       "    }\n",
       "</style>\n",
       "<table border=\"1\" class=\"dataframe\">\n",
       "  <thead>\n",
       "    <tr style=\"text-align: right;\">\n",
       "      <th></th>\n",
       "      <th>country</th>\n",
       "      <th>year</th>\n",
       "      <th>population</th>\n",
       "    </tr>\n",
       "  </thead>\n",
       "  <tbody>\n",
       "    <tr>\n",
       "      <th>0</th>\n",
       "      <td>Abkhazia</td>\n",
       "      <td>1800</td>\n",
       "      <td>NaN</td>\n",
       "    </tr>\n",
       "    <tr>\n",
       "      <th>2</th>\n",
       "      <td>Akrotiri and Dhekelia</td>\n",
       "      <td>1800</td>\n",
       "      <td>NaN</td>\n",
       "    </tr>\n",
       "    <tr>\n",
       "      <th>45</th>\n",
       "      <td>Christmas Island</td>\n",
       "      <td>1800</td>\n",
       "      <td>NaN</td>\n",
       "    </tr>\n",
       "    <tr>\n",
       "      <th>46</th>\n",
       "      <td>Cocos Island</td>\n",
       "      <td>1800</td>\n",
       "      <td>NaN</td>\n",
       "    </tr>\n",
       "    <tr>\n",
       "      <th>58</th>\n",
       "      <td>Czechoslovakia</td>\n",
       "      <td>1800</td>\n",
       "      <td>NaN</td>\n",
       "    </tr>\n",
       "    <tr>\n",
       "      <th>...</th>\n",
       "      <td>...</td>\n",
       "      <td>...</td>\n",
       "      <td>...</td>\n",
       "    </tr>\n",
       "    <tr>\n",
       "      <th>22270</th>\n",
       "      <td>Northern Marianas</td>\n",
       "      <td>2015</td>\n",
       "      <td>NaN</td>\n",
       "    </tr>\n",
       "    <tr>\n",
       "      <th>22271</th>\n",
       "      <td>South Georgia and the South Sandwich Islands</td>\n",
       "      <td>2015</td>\n",
       "      <td>NaN</td>\n",
       "    </tr>\n",
       "    <tr>\n",
       "      <th>22272</th>\n",
       "      <td>US Minor Outlying Islands</td>\n",
       "      <td>2015</td>\n",
       "      <td>NaN</td>\n",
       "    </tr>\n",
       "    <tr>\n",
       "      <th>22273</th>\n",
       "      <td>Virgin Islands</td>\n",
       "      <td>2015</td>\n",
       "      <td>NaN</td>\n",
       "    </tr>\n",
       "    <tr>\n",
       "      <th>22274</th>\n",
       "      <td>West Bank</td>\n",
       "      <td>2015</td>\n",
       "      <td>NaN</td>\n",
       "    </tr>\n",
       "  </tbody>\n",
       "</table>\n",
       "<p>2099 rows × 3 columns</p>\n",
       "</div>"
      ],
      "text/plain": [
       "                                            country  year  population\n",
       "0                                          Abkhazia  1800         NaN\n",
       "2                             Akrotiri and Dhekelia  1800         NaN\n",
       "45                                 Christmas Island  1800         NaN\n",
       "46                                     Cocos Island  1800         NaN\n",
       "58                                   Czechoslovakia  1800         NaN\n",
       "...                                             ...   ...         ...\n",
       "22270                             Northern Marianas  2015         NaN\n",
       "22271  South Georgia and the South Sandwich Islands  2015         NaN\n",
       "22272                     US Minor Outlying Islands  2015         NaN\n",
       "22273                                Virgin Islands  2015         NaN\n",
       "22274                                     West Bank  2015         NaN\n",
       "\n",
       "[2099 rows x 3 columns]"
      ]
     },
     "execution_count": 6,
     "metadata": {},
     "output_type": "execute_result"
    }
   ],
   "source": [
    "#view as a DF\n",
    "\n",
    "df_pop[df_pop['population'].isnull()]"
   ]
  },
  {
   "cell_type": "code",
   "execution_count": 7,
   "id": "92c7dfb5",
   "metadata": {},
   "outputs": [
    {
     "data": {
      "text/html": [
       "<div>\n",
       "<style scoped>\n",
       "    .dataframe tbody tr th:only-of-type {\n",
       "        vertical-align: middle;\n",
       "    }\n",
       "\n",
       "    .dataframe tbody tr th {\n",
       "        vertical-align: top;\n",
       "    }\n",
       "\n",
       "    .dataframe thead th {\n",
       "        text-align: right;\n",
       "    }\n",
       "</style>\n",
       "<table border=\"1\" class=\"dataframe\">\n",
       "  <thead>\n",
       "    <tr style=\"text-align: right;\">\n",
       "      <th></th>\n",
       "      <th>country</th>\n",
       "      <th>year</th>\n",
       "      <th>population</th>\n",
       "    </tr>\n",
       "  </thead>\n",
       "  <tbody>\n",
       "    <tr>\n",
       "      <th>1</th>\n",
       "      <td>Afghanistan</td>\n",
       "      <td>1800</td>\n",
       "      <td>3280000.0</td>\n",
       "    </tr>\n",
       "    <tr>\n",
       "      <th>3</th>\n",
       "      <td>Albania</td>\n",
       "      <td>1800</td>\n",
       "      <td>410445.0</td>\n",
       "    </tr>\n",
       "    <tr>\n",
       "      <th>4</th>\n",
       "      <td>Algeria</td>\n",
       "      <td>1800</td>\n",
       "      <td>2503218.0</td>\n",
       "    </tr>\n",
       "    <tr>\n",
       "      <th>5</th>\n",
       "      <td>American Samoa</td>\n",
       "      <td>1800</td>\n",
       "      <td>8170.0</td>\n",
       "    </tr>\n",
       "    <tr>\n",
       "      <th>6</th>\n",
       "      <td>Andorra</td>\n",
       "      <td>1800</td>\n",
       "      <td>2654.0</td>\n",
       "    </tr>\n",
       "    <tr>\n",
       "      <th>...</th>\n",
       "      <td>...</td>\n",
       "      <td>...</td>\n",
       "      <td>...</td>\n",
       "    </tr>\n",
       "    <tr>\n",
       "      <th>22256</th>\n",
       "      <td>Zambia</td>\n",
       "      <td>2015</td>\n",
       "      <td>16211767.0</td>\n",
       "    </tr>\n",
       "    <tr>\n",
       "      <th>22257</th>\n",
       "      <td>Zimbabwe</td>\n",
       "      <td>2015</td>\n",
       "      <td>15602751.0</td>\n",
       "    </tr>\n",
       "    <tr>\n",
       "      <th>22259</th>\n",
       "      <td>South Sudan</td>\n",
       "      <td>2015</td>\n",
       "      <td>12339812.0</td>\n",
       "    </tr>\n",
       "    <tr>\n",
       "      <th>22260</th>\n",
       "      <td>Curaçao</td>\n",
       "      <td>2015</td>\n",
       "      <td>157203.0</td>\n",
       "    </tr>\n",
       "    <tr>\n",
       "      <th>22261</th>\n",
       "      <td>Sint Maarten (Dutch part)</td>\n",
       "      <td>2015</td>\n",
       "      <td>38745.0</td>\n",
       "    </tr>\n",
       "  </tbody>\n",
       "</table>\n",
       "<p>20176 rows × 3 columns</p>\n",
       "</div>"
      ],
      "text/plain": [
       "                         country  year  population\n",
       "1                    Afghanistan  1800   3280000.0\n",
       "3                        Albania  1800    410445.0\n",
       "4                        Algeria  1800   2503218.0\n",
       "5                 American Samoa  1800      8170.0\n",
       "6                        Andorra  1800      2654.0\n",
       "...                          ...   ...         ...\n",
       "22256                     Zambia  2015  16211767.0\n",
       "22257                   Zimbabwe  2015  15602751.0\n",
       "22259                South Sudan  2015  12339812.0\n",
       "22260                    Curaçao  2015    157203.0\n",
       "22261  Sint Maarten (Dutch part)  2015     38745.0\n",
       "\n",
       "[20176 rows x 3 columns]"
      ]
     },
     "execution_count": 7,
     "metadata": {},
     "output_type": "execute_result"
    }
   ],
   "source": [
    "#Remove missing data: drop all observations with missing data\n",
    "\n",
    "df_pop = df_pop.dropna(axis=0)\n",
    "df_pop"
   ]
  },
  {
   "cell_type": "code",
   "execution_count": 8,
   "id": "7ef056fc",
   "metadata": {},
   "outputs": [
    {
     "data": {
      "text/plain": [
       "(16741, 3)"
      ]
     },
     "execution_count": 8,
     "metadata": {},
     "output_type": "execute_result"
    }
   ],
   "source": [
    "#Filter for relevant data: filter the dataset that it begins with the year 1950\n",
    "\n",
    "df_pop_aft1950 = df_pop[df_pop['year'] >= 1950]\n",
    "df_pop_aft1950.shape"
   ]
  },
  {
   "cell_type": "code",
   "execution_count": null,
   "id": "d3443b71",
   "metadata": {},
   "outputs": [],
   "source": [
    "# Make data persistant: save the dataset as a .csv file in your data folder as \n",
    "#... they will be used for the week’s project\n",
    "\n",
    "df_pop_aft1950.to_csv('../data/population_after_1950.csv')"
   ]
  },
  {
   "cell_type": "code",
   "execution_count": null,
   "id": "a4413a6b",
   "metadata": {},
   "outputs": [],
   "source": []
  },
  {
   "cell_type": "code",
   "execution_count": null,
   "id": "82bfd291",
   "metadata": {},
   "outputs": [],
   "source": [
    "#Repeat for the the life_expectancy, and fertility_rate datasets which are available below"
   ]
  },
  {
   "cell_type": "code",
   "execution_count": null,
   "id": "b9d760ef",
   "metadata": {},
   "outputs": [],
   "source": []
  },
  {
   "cell_type": "code",
   "execution_count": 4,
   "id": "ef1d04a2",
   "metadata": {},
   "outputs": [
    {
     "data": {
      "text/plain": [
       "<bound method NDFrame.describe of         Total fertility rate  year  fertility\n",
       "0                   Abkhazia  1800        NaN\n",
       "1                Afghanistan  1800       7.00\n",
       "2      Akrotiri and Dhekelia  1800        NaN\n",
       "3                    Albania  1800       4.60\n",
       "4                    Algeria  1800       6.99\n",
       "...                      ...   ...        ...\n",
       "56154                  Yemen  2015       3.83\n",
       "56155             Yugoslavia  2015        NaN\n",
       "56156                 Zambia  2015       5.59\n",
       "56157               Zimbabwe  2015       3.35\n",
       "56158                  Åland  2015        NaN\n",
       "\n",
       "[56159 rows x 3 columns]>"
      ]
     },
     "execution_count": 4,
     "metadata": {},
     "output_type": "execute_result"
    }
   ],
   "source": [
    "#Rename columns: use the method from the example above to properly name any columns that seem mislabeled \n",
    "#... in the population dataset. The population dataset was given in the EDA lesson warmer.\n",
    "\n",
    "df_fert = pd.read_csv('../data/fertility_rate.csv')\n",
    "df_fert.describe"
   ]
  },
  {
   "cell_type": "code",
   "execution_count": 10,
   "id": "2563a43b",
   "metadata": {},
   "outputs": [
    {
     "data": {
      "text/plain": [
       "Index(['Total fertility rate', 'year', 'fertility'], dtype='object')"
      ]
     },
     "execution_count": 10,
     "metadata": {},
     "output_type": "execute_result"
    }
   ],
   "source": [
    "df_fert.columns"
   ]
  },
  {
   "cell_type": "code",
   "execution_count": 11,
   "id": "d82f6ee6",
   "metadata": {},
   "outputs": [
    {
     "data": {
      "text/plain": [
       "Index(['country', 'year', 'population'], dtype='object')"
      ]
     },
     "execution_count": 11,
     "metadata": {},
     "output_type": "execute_result"
    }
   ],
   "source": [
    "df_fert.rename(columns={'Total fertility rate':'country'},inplace=True)\n",
    "df_pop.columns"
   ]
  },
  {
   "cell_type": "code",
   "execution_count": 12,
   "id": "c942bf9c",
   "metadata": {},
   "outputs": [
    {
     "data": {
      "text/plain": [
       "country          0\n",
       "year             0\n",
       "fertility    12747\n",
       "dtype: int64"
      ]
     },
     "execution_count": 12,
     "metadata": {},
     "output_type": "execute_result"
    }
   ],
   "source": [
    "# Missing data: first check and see which and how much data is missing in the population dataset\n",
    "\n",
    "#check which column(s) contain NaN values\n",
    "df_fert.isnull().sum()"
   ]
  },
  {
   "cell_type": "code",
   "execution_count": 14,
   "id": "1d419d18",
   "metadata": {},
   "outputs": [
    {
     "data": {
      "text/html": [
       "<div>\n",
       "<style scoped>\n",
       "    .dataframe tbody tr th:only-of-type {\n",
       "        vertical-align: middle;\n",
       "    }\n",
       "\n",
       "    .dataframe tbody tr th {\n",
       "        vertical-align: top;\n",
       "    }\n",
       "\n",
       "    .dataframe thead th {\n",
       "        text-align: right;\n",
       "    }\n",
       "</style>\n",
       "<table border=\"1\" class=\"dataframe\">\n",
       "  <thead>\n",
       "    <tr style=\"text-align: right;\">\n",
       "      <th></th>\n",
       "      <th>country</th>\n",
       "      <th>year</th>\n",
       "      <th>fertility</th>\n",
       "    </tr>\n",
       "  </thead>\n",
       "  <tbody>\n",
       "    <tr>\n",
       "      <th>0</th>\n",
       "      <td>Abkhazia</td>\n",
       "      <td>1800</td>\n",
       "      <td>NaN</td>\n",
       "    </tr>\n",
       "    <tr>\n",
       "      <th>2</th>\n",
       "      <td>Akrotiri and Dhekelia</td>\n",
       "      <td>1800</td>\n",
       "      <td>NaN</td>\n",
       "    </tr>\n",
       "    <tr>\n",
       "      <th>5</th>\n",
       "      <td>American Samoa</td>\n",
       "      <td>1800</td>\n",
       "      <td>NaN</td>\n",
       "    </tr>\n",
       "    <tr>\n",
       "      <th>6</th>\n",
       "      <td>Andorra</td>\n",
       "      <td>1800</td>\n",
       "      <td>NaN</td>\n",
       "    </tr>\n",
       "    <tr>\n",
       "      <th>8</th>\n",
       "      <td>Anguilla</td>\n",
       "      <td>1800</td>\n",
       "      <td>NaN</td>\n",
       "    </tr>\n",
       "    <tr>\n",
       "      <th>...</th>\n",
       "      <td>...</td>\n",
       "      <td>...</td>\n",
       "      <td>...</td>\n",
       "    </tr>\n",
       "    <tr>\n",
       "      <th>56148</th>\n",
       "      <td>West Germany</td>\n",
       "      <td>2015</td>\n",
       "      <td>NaN</td>\n",
       "    </tr>\n",
       "    <tr>\n",
       "      <th>56152</th>\n",
       "      <td>North Yemen (former)</td>\n",
       "      <td>2015</td>\n",
       "      <td>NaN</td>\n",
       "    </tr>\n",
       "    <tr>\n",
       "      <th>56153</th>\n",
       "      <td>South Yemen (former)</td>\n",
       "      <td>2015</td>\n",
       "      <td>NaN</td>\n",
       "    </tr>\n",
       "    <tr>\n",
       "      <th>56155</th>\n",
       "      <td>Yugoslavia</td>\n",
       "      <td>2015</td>\n",
       "      <td>NaN</td>\n",
       "    </tr>\n",
       "    <tr>\n",
       "      <th>56158</th>\n",
       "      <td>Åland</td>\n",
       "      <td>2015</td>\n",
       "      <td>NaN</td>\n",
       "    </tr>\n",
       "  </tbody>\n",
       "</table>\n",
       "<p>12747 rows × 3 columns</p>\n",
       "</div>"
      ],
      "text/plain": [
       "                     country  year  fertility\n",
       "0                   Abkhazia  1800        NaN\n",
       "2      Akrotiri and Dhekelia  1800        NaN\n",
       "5             American Samoa  1800        NaN\n",
       "6                    Andorra  1800        NaN\n",
       "8                   Anguilla  1800        NaN\n",
       "...                      ...   ...        ...\n",
       "56148           West Germany  2015        NaN\n",
       "56152   North Yemen (former)  2015        NaN\n",
       "56153   South Yemen (former)  2015        NaN\n",
       "56155             Yugoslavia  2015        NaN\n",
       "56158                  Åland  2015        NaN\n",
       "\n",
       "[12747 rows x 3 columns]"
      ]
     },
     "execution_count": 14,
     "metadata": {},
     "output_type": "execute_result"
    }
   ],
   "source": [
    "df_fert[df_fert['fertility'].isnull()]"
   ]
  },
  {
   "cell_type": "code",
   "execution_count": 15,
   "id": "5e852525",
   "metadata": {},
   "outputs": [
    {
     "data": {
      "text/plain": [
       "(43412, 3)"
      ]
     },
     "execution_count": 15,
     "metadata": {},
     "output_type": "execute_result"
    }
   ],
   "source": [
    "#Remove missing data: drop all observations with missing data\n",
    "\n",
    "df_fert = df_fert.dropna(axis=0)\n",
    "df_fert.shape"
   ]
  },
  {
   "cell_type": "code",
   "execution_count": 16,
   "id": "051343f1",
   "metadata": {},
   "outputs": [
    {
     "data": {
      "text/plain": [
       "(13262, 3)"
      ]
     },
     "execution_count": 16,
     "metadata": {},
     "output_type": "execute_result"
    }
   ],
   "source": [
    "#Filter for relevant data: filter the dataset that it begins with the year 1950\n",
    "\n",
    "df_fert_aft1950 = df_fert[df_fert['year'] >= 1950]\n",
    "df_fert_aft1950.shape\n"
   ]
  },
  {
   "cell_type": "code",
   "execution_count": 17,
   "id": "b8b0c72f",
   "metadata": {},
   "outputs": [],
   "source": [
    "# Make data persistant: save the dataset as a .csv file in your data folder as \n",
    "#... they will be used for the week’s project\n",
    "\n",
    "df_fert_aft1950.to_csv('../data/fertility_after_1950.csv')"
   ]
  },
  {
   "cell_type": "code",
   "execution_count": null,
   "id": "0fee8f80",
   "metadata": {},
   "outputs": [],
   "source": []
  },
  {
   "cell_type": "code",
   "execution_count": 18,
   "id": "c6e8eb1b",
   "metadata": {},
   "outputs": [
    {
     "data": {
      "text/html": [
       "<div>\n",
       "<style scoped>\n",
       "    .dataframe tbody tr th:only-of-type {\n",
       "        vertical-align: middle;\n",
       "    }\n",
       "\n",
       "    .dataframe tbody tr th {\n",
       "        vertical-align: top;\n",
       "    }\n",
       "\n",
       "    .dataframe thead th {\n",
       "        text-align: right;\n",
       "    }\n",
       "</style>\n",
       "<table border=\"1\" class=\"dataframe\">\n",
       "  <thead>\n",
       "    <tr style=\"text-align: right;\">\n",
       "      <th></th>\n",
       "      <th>Life expectancy</th>\n",
       "      <th>year</th>\n",
       "      <th>life expectancy</th>\n",
       "    </tr>\n",
       "  </thead>\n",
       "  <tbody>\n",
       "    <tr>\n",
       "      <th>0</th>\n",
       "      <td>Abkhazia</td>\n",
       "      <td>1800</td>\n",
       "      <td>NaN</td>\n",
       "    </tr>\n",
       "    <tr>\n",
       "      <th>1</th>\n",
       "      <td>Afghanistan</td>\n",
       "      <td>1800</td>\n",
       "      <td>28.21</td>\n",
       "    </tr>\n",
       "    <tr>\n",
       "      <th>2</th>\n",
       "      <td>Akrotiri and Dhekelia</td>\n",
       "      <td>1800</td>\n",
       "      <td>NaN</td>\n",
       "    </tr>\n",
       "    <tr>\n",
       "      <th>3</th>\n",
       "      <td>Albania</td>\n",
       "      <td>1800</td>\n",
       "      <td>35.40</td>\n",
       "    </tr>\n",
       "    <tr>\n",
       "      <th>4</th>\n",
       "      <td>Algeria</td>\n",
       "      <td>1800</td>\n",
       "      <td>28.82</td>\n",
       "    </tr>\n",
       "  </tbody>\n",
       "</table>\n",
       "</div>"
      ],
      "text/plain": [
       "         Life expectancy  year  life expectancy\n",
       "0               Abkhazia  1800              NaN\n",
       "1            Afghanistan  1800            28.21\n",
       "2  Akrotiri and Dhekelia  1800              NaN\n",
       "3                Albania  1800            35.40\n",
       "4                Algeria  1800            28.82"
      ]
     },
     "execution_count": 18,
     "metadata": {},
     "output_type": "execute_result"
    }
   ],
   "source": [
    "#Rename columns: use the method from the example above to properly name any columns that seem mislabeled \n",
    "#... in the population dataset. The population dataset was given in the EDA lesson warmer.\n",
    "\n",
    "df_expec = pd.read_excel('../data/life_expectancy.xls')\n",
    "df_expec.head()"
   ]
  },
  {
   "cell_type": "code",
   "execution_count": 19,
   "id": "da63841b",
   "metadata": {},
   "outputs": [
    {
     "data": {
      "text/plain": [
       "Index(['Life expectancy', 'year', 'life expectancy'], dtype='object')"
      ]
     },
     "execution_count": 19,
     "metadata": {},
     "output_type": "execute_result"
    }
   ],
   "source": [
    "df_expec.columns"
   ]
  },
  {
   "cell_type": "code",
   "execution_count": 20,
   "id": "2370be55",
   "metadata": {},
   "outputs": [
    {
     "data": {
      "text/plain": [
       "Index(['country', 'year', 'life expectancy'], dtype='object')"
      ]
     },
     "execution_count": 20,
     "metadata": {},
     "output_type": "execute_result"
    }
   ],
   "source": [
    "df_expec.rename(columns={'Life expectancy':'country'},inplace=True)\n",
    "df_expec.columns"
   ]
  },
  {
   "cell_type": "code",
   "execution_count": 21,
   "id": "e91e7c4f",
   "metadata": {},
   "outputs": [
    {
     "data": {
      "text/plain": [
       "country                0\n",
       "year                   0\n",
       "life expectancy    12563\n",
       "dtype: int64"
      ]
     },
     "execution_count": 21,
     "metadata": {},
     "output_type": "execute_result"
    }
   ],
   "source": [
    "# Missing data: first check and see which and how much data is missing in the population dataset\n",
    "\n",
    "#check which column(s) contain NaN values\n",
    "df_expec.isnull().sum()"
   ]
  },
  {
   "cell_type": "code",
   "execution_count": 22,
   "id": "0a0a8daf",
   "metadata": {},
   "outputs": [
    {
     "data": {
      "text/html": [
       "<div>\n",
       "<style scoped>\n",
       "    .dataframe tbody tr th:only-of-type {\n",
       "        vertical-align: middle;\n",
       "    }\n",
       "\n",
       "    .dataframe tbody tr th {\n",
       "        vertical-align: top;\n",
       "    }\n",
       "\n",
       "    .dataframe thead th {\n",
       "        text-align: right;\n",
       "    }\n",
       "</style>\n",
       "<table border=\"1\" class=\"dataframe\">\n",
       "  <thead>\n",
       "    <tr style=\"text-align: right;\">\n",
       "      <th></th>\n",
       "      <th>country</th>\n",
       "      <th>year</th>\n",
       "      <th>life expectancy</th>\n",
       "    </tr>\n",
       "  </thead>\n",
       "  <tbody>\n",
       "    <tr>\n",
       "      <th>0</th>\n",
       "      <td>Abkhazia</td>\n",
       "      <td>1800</td>\n",
       "      <td>NaN</td>\n",
       "    </tr>\n",
       "    <tr>\n",
       "      <th>2</th>\n",
       "      <td>Akrotiri and Dhekelia</td>\n",
       "      <td>1800</td>\n",
       "      <td>NaN</td>\n",
       "    </tr>\n",
       "    <tr>\n",
       "      <th>5</th>\n",
       "      <td>American Samoa</td>\n",
       "      <td>1800</td>\n",
       "      <td>NaN</td>\n",
       "    </tr>\n",
       "    <tr>\n",
       "      <th>6</th>\n",
       "      <td>Andorra</td>\n",
       "      <td>1800</td>\n",
       "      <td>NaN</td>\n",
       "    </tr>\n",
       "    <tr>\n",
       "      <th>8</th>\n",
       "      <td>Anguilla</td>\n",
       "      <td>1800</td>\n",
       "      <td>NaN</td>\n",
       "    </tr>\n",
       "    <tr>\n",
       "      <th>...</th>\n",
       "      <td>...</td>\n",
       "      <td>...</td>\n",
       "      <td>...</td>\n",
       "    </tr>\n",
       "    <tr>\n",
       "      <th>56408</th>\n",
       "      <td>West Germany</td>\n",
       "      <td>2016</td>\n",
       "      <td>NaN</td>\n",
       "    </tr>\n",
       "    <tr>\n",
       "      <th>56412</th>\n",
       "      <td>North Yemen (former)</td>\n",
       "      <td>2016</td>\n",
       "      <td>NaN</td>\n",
       "    </tr>\n",
       "    <tr>\n",
       "      <th>56413</th>\n",
       "      <td>South Yemen (former)</td>\n",
       "      <td>2016</td>\n",
       "      <td>NaN</td>\n",
       "    </tr>\n",
       "    <tr>\n",
       "      <th>56415</th>\n",
       "      <td>Yugoslavia</td>\n",
       "      <td>2016</td>\n",
       "      <td>NaN</td>\n",
       "    </tr>\n",
       "    <tr>\n",
       "      <th>56418</th>\n",
       "      <td>Åland</td>\n",
       "      <td>2016</td>\n",
       "      <td>NaN</td>\n",
       "    </tr>\n",
       "  </tbody>\n",
       "</table>\n",
       "<p>12563 rows × 3 columns</p>\n",
       "</div>"
      ],
      "text/plain": [
       "                     country  year  life expectancy\n",
       "0                   Abkhazia  1800              NaN\n",
       "2      Akrotiri and Dhekelia  1800              NaN\n",
       "5             American Samoa  1800              NaN\n",
       "6                    Andorra  1800              NaN\n",
       "8                   Anguilla  1800              NaN\n",
       "...                      ...   ...              ...\n",
       "56408           West Germany  2016              NaN\n",
       "56412   North Yemen (former)  2016              NaN\n",
       "56413   South Yemen (former)  2016              NaN\n",
       "56415             Yugoslavia  2016              NaN\n",
       "56418                  Åland  2016              NaN\n",
       "\n",
       "[12563 rows x 3 columns]"
      ]
     },
     "execution_count": 22,
     "metadata": {},
     "output_type": "execute_result"
    }
   ],
   "source": [
    "df_expec[df_expec['life expectancy'].isnull()]"
   ]
  },
  {
   "cell_type": "code",
   "execution_count": 23,
   "id": "edb281b3",
   "metadata": {},
   "outputs": [
    {
     "data": {
      "text/html": [
       "<div>\n",
       "<style scoped>\n",
       "    .dataframe tbody tr th:only-of-type {\n",
       "        vertical-align: middle;\n",
       "    }\n",
       "\n",
       "    .dataframe tbody tr th {\n",
       "        vertical-align: top;\n",
       "    }\n",
       "\n",
       "    .dataframe thead th {\n",
       "        text-align: right;\n",
       "    }\n",
       "</style>\n",
       "<table border=\"1\" class=\"dataframe\">\n",
       "  <thead>\n",
       "    <tr style=\"text-align: right;\">\n",
       "      <th></th>\n",
       "      <th>country</th>\n",
       "      <th>year</th>\n",
       "      <th>life expectancy</th>\n",
       "    </tr>\n",
       "  </thead>\n",
       "  <tbody>\n",
       "    <tr>\n",
       "      <th>1</th>\n",
       "      <td>Afghanistan</td>\n",
       "      <td>1800</td>\n",
       "      <td>28.21</td>\n",
       "    </tr>\n",
       "    <tr>\n",
       "      <th>3</th>\n",
       "      <td>Albania</td>\n",
       "      <td>1800</td>\n",
       "      <td>35.40</td>\n",
       "    </tr>\n",
       "    <tr>\n",
       "      <th>4</th>\n",
       "      <td>Algeria</td>\n",
       "      <td>1800</td>\n",
       "      <td>28.82</td>\n",
       "    </tr>\n",
       "    <tr>\n",
       "      <th>7</th>\n",
       "      <td>Angola</td>\n",
       "      <td>1800</td>\n",
       "      <td>26.98</td>\n",
       "    </tr>\n",
       "    <tr>\n",
       "      <th>9</th>\n",
       "      <td>Antigua and Barbuda</td>\n",
       "      <td>1800</td>\n",
       "      <td>33.54</td>\n",
       "    </tr>\n",
       "    <tr>\n",
       "      <th>...</th>\n",
       "      <td>...</td>\n",
       "      <td>...</td>\n",
       "      <td>...</td>\n",
       "    </tr>\n",
       "    <tr>\n",
       "      <th>56411</th>\n",
       "      <td>Virgin Islands (U.S.)</td>\n",
       "      <td>2016</td>\n",
       "      <td>80.82</td>\n",
       "    </tr>\n",
       "    <tr>\n",
       "      <th>56414</th>\n",
       "      <td>Yemen</td>\n",
       "      <td>2016</td>\n",
       "      <td>64.92</td>\n",
       "    </tr>\n",
       "    <tr>\n",
       "      <th>56416</th>\n",
       "      <td>Zambia</td>\n",
       "      <td>2016</td>\n",
       "      <td>57.10</td>\n",
       "    </tr>\n",
       "    <tr>\n",
       "      <th>56417</th>\n",
       "      <td>Zimbabwe</td>\n",
       "      <td>2016</td>\n",
       "      <td>61.69</td>\n",
       "    </tr>\n",
       "    <tr>\n",
       "      <th>56419</th>\n",
       "      <td>South Sudan</td>\n",
       "      <td>2016</td>\n",
       "      <td>56.10</td>\n",
       "    </tr>\n",
       "  </tbody>\n",
       "</table>\n",
       "<p>43857 rows × 3 columns</p>\n",
       "</div>"
      ],
      "text/plain": [
       "                     country  year  life expectancy\n",
       "1                Afghanistan  1800            28.21\n",
       "3                    Albania  1800            35.40\n",
       "4                    Algeria  1800            28.82\n",
       "7                     Angola  1800            26.98\n",
       "9        Antigua and Barbuda  1800            33.54\n",
       "...                      ...   ...              ...\n",
       "56411  Virgin Islands (U.S.)  2016            80.82\n",
       "56414                  Yemen  2016            64.92\n",
       "56416                 Zambia  2016            57.10\n",
       "56417               Zimbabwe  2016            61.69\n",
       "56419            South Sudan  2016            56.10\n",
       "\n",
       "[43857 rows x 3 columns]"
      ]
     },
     "execution_count": 23,
     "metadata": {},
     "output_type": "execute_result"
    }
   ],
   "source": [
    "#Remove missing data: drop all observations with missing data\n",
    "\n",
    "df_expec = df_expec.dropna(axis=0)\n",
    "df_expec"
   ]
  },
  {
   "cell_type": "code",
   "execution_count": 25,
   "id": "f12e21f1",
   "metadata": {},
   "outputs": [
    {
     "data": {
      "text/plain": [
       "(13707, 3)"
      ]
     },
     "execution_count": 25,
     "metadata": {},
     "output_type": "execute_result"
    }
   ],
   "source": [
    "#Filter for relevant data: filter the dataset that it begins with the year 1950\n",
    "\n",
    "df_expec_aft1950 = df_expec[df_expec['year'] >= 1950]\n",
    "df_expec_aft1950.shape"
   ]
  },
  {
   "cell_type": "code",
   "execution_count": 26,
   "id": "88fc1b1a",
   "metadata": {},
   "outputs": [],
   "source": [
    "# Make data persistant: save the dataset as a .csv file in your data folder as \n",
    "#... they will be used for the week’s project\n",
    "\n",
    "df_expec_aft1950.to_csv('../data/expectancy_after_1950.csv')"
   ]
  },
  {
   "cell_type": "markdown",
   "id": "9c46e522",
   "metadata": {},
   "source": [
    "# Bonus\n",
    "\n",
    "This section is an excerpt of Wickham, H. (2014). Tidy data. The Journal of Statistical Software, 59, http://www.jstatsoft.org/v59/i10/\n",
    "\n",
    "It is often said that 80% of data analysis is spent on the cleaning and preparing data. […] The principles of tidy data provide a standard way to organise data values within a dataset. A standard makes initial data cleaning easier because you don’t need to start from scratch and reinvent the wheel every time. […]\n",
    "\n",
    ">Happy families are all alike; every unhappy family is unhappy in its own way \n",
    "— Leo Tolstoy\n",
    "\n",
    "Like families, tidy datasets are all alike but every messy dataset is messy in its own way. Tidy datasets provide a standardized way to link the structure of a dataset (its physical layout) with its semantics (its meaning). […] A dataset is messy or tidy depending on how rows, columns and tables are matched up with observations, variables and types. In tidy data:\n",
    "\n",
    "+ Every column is a variable.\n",
    "+ Every row is an observation.\n",
    "+ Every cell is a single value."
   ]
  },
  {
   "cell_type": "code",
   "execution_count": null,
   "id": "c033c8de",
   "metadata": {},
   "outputs": [],
   "source": []
  }
 ],
 "metadata": {
  "kernelspec": {
   "display_name": "Python 3 (ipykernel)",
   "language": "python",
   "name": "python3"
  },
  "language_info": {
   "codemirror_mode": {
    "name": "ipython",
    "version": 3
   },
   "file_extension": ".py",
   "mimetype": "text/x-python",
   "name": "python",
   "nbconvert_exporter": "python",
   "pygments_lexer": "ipython3",
   "version": "3.11.3"
  }
 },
 "nbformat": 4,
 "nbformat_minor": 5
}
