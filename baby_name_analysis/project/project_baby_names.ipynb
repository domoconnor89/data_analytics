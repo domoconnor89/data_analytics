{
 "cells": [
  {
   "cell_type": "code",
   "execution_count": null,
   "id": "3a7e805c",
   "metadata": {},
   "outputs": [],
   "source": [
    "import pandas as pd\n",
    "from matplotlib import pyplot as plt\n",
    "\n",
    "from matplotlib import pyplot as plt\n",
    "plt.style.use('classic')\n",
    "import numpy as np"
   ]
  },
  {
   "cell_type": "code",
   "execution_count": null,
   "id": "3335174a",
   "metadata": {},
   "outputs": [],
   "source": [
    "all_df = pd.read_csv('../data/baby_names_all_years.csv')\n",
    "all_df.sample(5)"
   ]
  },
  {
   "cell_type": "code",
   "execution_count": null,
   "id": "e750815b",
   "metadata": {},
   "outputs": [],
   "source": [
    "year = 1880\n",
    "\n",
    "def parse_dataset(year):\n",
    "    file_path = f'../data/names/yob{year}.txt'\n",
    "    df = pd.read_csv(file_path, names = ['name', 'gender', 'frequency'])\n",
    "    return df\n",
    "\n",
    "parse_dataset(2020)['frequency'].sum()"
   ]
  },
  {
   "cell_type": "markdown",
   "id": "6c3ecbdf",
   "metadata": {},
   "source": [
    "# GENDER AMBIGUOUS NAMES"
   ]
  },
  {
   "cell_type": "markdown",
   "id": "df589e85",
   "metadata": {},
   "source": [
    "### A FRIEND OF MINE IS EXPECTING A BABY. HE WOULD LIKE HIS BABY TO HAVE A GENDER NEUTRAL NAME AND FOR THAT NAME TO BE SOMEWHAT UNIQUE. FOR THIS PROJECT, I SET A GOAL OF CREATING A SIMPLE VISUALISATION TO MEET THIS NEED.\n",
    "\n",
    "##### Ideally, I will be able to define an 'ambiguity factor' against each name, weighting the male and female frequencies (totals) against one another, and then sort the lists by this weighting...\n",
    "\n",
    "> Starting with a spcific name yr2020, find the proportionate ambiguity value"
   ]
  },
  {
   "cell_type": "code",
   "execution_count": null,
   "id": "a2c66d45",
   "metadata": {},
   "outputs": [],
   "source": [
    "## CREATING A DATAFRAME OF Charlie'S IN 2020\n",
    "\n",
    "df_charlie_2020 = parse_dataset(2020)[parse_dataset(2020)['name']=='Charlie']\n",
    "df_charlie_2020\n",
    "\n",
    "## Test that the ambiguity proportion works, mathematically... \n",
    "## FINDING THE TOTAL FREQ OF ALEX'S IN 2020\n",
    "ttl_charlie2020 = df_charlie_2020['frequency'].sum()\n",
    "ttl_charlie2020"
   ]
  },
  {
   "cell_type": "code",
   "execution_count": null,
   "id": "b3c13db4",
   "metadata": {},
   "outputs": [],
   "source": [
    "## CREATING A DATAFRAME OF FEMALE ALEX'S IN 2020\n",
    "fem_charlie2020 = df_charlie_2020[df_charlie_2020['gender']=='F']\n",
    "\n",
    "## FINDING THE TOTAL FREQ OF FEMALE ALEX'S IN 2020\n",
    "total_f_charlie2020 = fem_charlie2020['frequency'].sum()\n",
    "total_f_charlie2020"
   ]
  },
  {
   "cell_type": "code",
   "execution_count": null,
   "id": "6f649bfb",
   "metadata": {},
   "outputs": [],
   "source": [
    "## CREATING A DATAFRAME OF MALE ALEX'S IN 2020\n",
    "men_charlie2020 = df_charlie_2020[df_charlie_2020['gender']=='M']\n",
    "\n",
    "## FINDING THE TOTAL FREQ OF MALE ALEX'S IN 2020\n",
    "total_m_charlie2020 = men_charlie2020['frequency'].sum()\n",
    "total_m_charlie2020"
   ]
  },
  {
   "cell_type": "code",
   "execution_count": null,
   "id": "7e37deb5",
   "metadata": {
    "scrolled": true
   },
   "outputs": [],
   "source": [
    "## FIND THE PERCENTAGE OF MALES\n",
    "\n",
    "charlie2020_men_pc = round((total_m_charlie2020 / ttl_charlie2020)*100,2)\n",
    "charlie2020_men_pc"
   ]
  },
  {
   "cell_type": "code",
   "execution_count": null,
   "id": "af140260",
   "metadata": {},
   "outputs": [],
   "source": [
    "## FIND THE PERCENTAGE OF FEMALES\n",
    "\n",
    "charlie2020_fem_pc = round((total_f_charlie2020 / ttl_charlie2020)*100,2)\n",
    "charlie2020_fem_pc"
   ]
  },
  {
   "cell_type": "code",
   "execution_count": null,
   "id": "c5fdd76c",
   "metadata": {},
   "outputs": [],
   "source": [
    "## CREATE A PROPORTIONATE VALUE THAT CAN BE USED TO SORT THE LIST / CONTRIBUTE AS A PLOT VARIABLE\n",
    "\n",
    "## a completely ambiguous name will be 50/50 male & female...\n",
    "## ... so the closer a gender percentage is to 50, the higher the amgibuity.\n",
    "## Therefore the proportion should be equal to one of the gender's percentage but limited at 50...\n",
    "## ... if the percentage is in exceass of 50, it's negative value is added to 100:\n",
    "\n",
    "ambig_fctr_Alex2020 = charlie2020_fem_pc *2\n",
    "\n",
    "if ambig_fctr_Alex2020 > 50:\n",
    "    ambig_fctr_Alex2020 = round((-charlie2020_fem_pc + 100)*2,2)\n",
    "\n",
    "ambig_fctr_Alex2020\n",
    "\n",
    "# in a range of 0 - 50, the closer to 50, the highrt the ambiguity of the name!"
   ]
  },
  {
   "cell_type": "markdown",
   "id": "f70fb505",
   "metadata": {},
   "source": [
    "## Background on Gender Ambiguous Baby Names\n",
    "#### How have their Popularity changed over time?"
   ]
  },
  {
   "cell_type": "code",
   "execution_count": null,
   "id": "0d1d26b9",
   "metadata": {},
   "outputs": [],
   "source": [
    "def freq_sum(year):\n",
    "    \"\"\"Provides the total frequency of ALL babies for a given year\"\"\"\n",
    "    data_yr = parse_dataset(year)\n",
    "    pop_total = data_yr['frequency'].sum()\n",
    "    return pop_total\n",
    "\n",
    "freq_sum(2020)"
   ]
  },
  {
   "cell_type": "code",
   "execution_count": null,
   "id": "1639ca3c",
   "metadata": {},
   "outputs": [],
   "source": [
    "def all_male_sum(year):\n",
    "    \"\"\"Provides the total frequency of MALE babies for a given year\"\"\"\n",
    "    df_male_yr = parse_dataset(year)[parse_dataset(year)['gender']=='M']\n",
    "    male_pop_total = df_male_yr['frequency'].sum()\n",
    "    return male_pop_total\n",
    "\n",
    "all_male_sum(2020)"
   ]
  },
  {
   "cell_type": "code",
   "execution_count": null,
   "id": "5a2e364b",
   "metadata": {},
   "outputs": [],
   "source": [
    "def all_female_sum(year):\n",
    "    \"\"\"Provides the total frequency of FEMALE babies for a given year\"\"\"\n",
    "    df_female_yr = parse_dataset(year)[parse_dataset(year)['gender']=='F']\n",
    "    female_pop_total = df_female_yr['frequency'].sum()\n",
    "    return female_pop_total\n",
    "\n",
    "all_female_sum(2020)"
   ]
  },
  {
   "cell_type": "code",
   "execution_count": null,
   "id": "4bf5975c",
   "metadata": {},
   "outputs": [],
   "source": [
    "yearly_genders_dict = {'Year':[], 'Total':[], 'Males':[], 'Females':[]}\n",
    "\n",
    "for year in range(1980, 2023):\n",
    "    yr_ttl = freq_sum(year)\n",
    "    male_ttl = all_male_sum(year)\n",
    "    female_ttl = all_female_sum(year)\n",
    "    yearly_genders_dict['Total'].append(yr_ttl)\n",
    "    yearly_genders_dict['Males'].append(male_ttl)\n",
    "    yearly_genders_dict['Females'].append(female_ttl)\n",
    "    yearly_genders_dict['Year'].append(year)\n",
    "    annual_gender_population = pd.DataFrame(yearly_genders_dict)\n",
    "    \n",
    "#annual_gender_population.head()\n",
    "annual_gender_population.tail()\n",
    "#annual_gender_population.sample(5)"
   ]
  },
  {
   "cell_type": "code",
   "execution_count": null,
   "id": "616d2a8e",
   "metadata": {},
   "outputs": [],
   "source": [
    "plt.figure(figsize=(8,6))\n",
    "plt.plot(annual_gender_population['Year'], annual_gender_population['Total'], marker='|', color='black', label='Population Total')\n",
    "plt.plot(annual_gender_population['Year'], annual_gender_population['Males'], marker='|', color='blue', label='Male Population')\n",
    "plt.plot(annual_gender_population['Year'], annual_gender_population['Females'], marker='|', color='red', label='Female Population')\n",
    "plt.xlabel('Years')\n",
    "plt.ylabel('Population')\n",
    "plt.title('Annual Population and Gender Tracking')\n",
    "plt.grid()\n",
    "plt.show()"
   ]
  },
  {
   "cell_type": "code",
   "execution_count": null,
   "id": "c387ed1e",
   "metadata": {},
   "outputs": [],
   "source": [
    "yearly_gender_pc_dict = {'Year':[], 'Total':[], 'Total Males':[], 'Total Females':[], 'Percentage of Males':[], 'Percentage of Females':[]}\n",
    "\n",
    "for year in range(1980, 2023):\n",
    "    yr_ttl = freq_sum(year)\n",
    "    male_ttl = all_male_sum(year)\n",
    "    female_ttl = all_female_sum(year)    \n",
    "    male_pc = round((male_ttl / yr_ttl) * 100,2)\n",
    "    female_pc = round((female_ttl / yr_ttl) * 100,2)\n",
    "    yearly_gender_pc_dict['Total'].append(yr_ttl)\n",
    "    yearly_gender_pc_dict['Total Males'].append(male_ttl)\n",
    "    yearly_gender_pc_dict['Total Females'].append(female_ttl)    \n",
    "    yearly_gender_pc_dict['Percentage of Males'].append(male_pc)\n",
    "    yearly_gender_pc_dict['Percentage of Females'].append(female_pc)    \n",
    "    yearly_gender_pc_dict['Year'].append(year)\n",
    "    annual_gender_percentages = pd.DataFrame(yearly_gender_pc_dict)\n",
    "\n",
    "annual_gender_percentages.tail()"
   ]
  },
  {
   "cell_type": "code",
   "execution_count": null,
   "id": "73ddedb3",
   "metadata": {},
   "outputs": [],
   "source": [
    "plt.figure(figsize=(8,6))\n",
    "plt.plot(annual_gender_percentages['Year'], annual_gender_percentages['Percentage of Males'], marker='|', color='blue', label='Male %')\n",
    "plt.plot(annual_gender_percentages['Year'], annual_gender_percentages['Percentage of Females'], marker='|', color='red', label='Female %')\n",
    "plt.xlabel('Years')\n",
    "plt.ylabel('%')\n",
    "plt.title('Annual Gender Percentages')\n",
    "plt.grid()\n",
    "plt.show()"
   ]
  },
  {
   "cell_type": "code",
   "execution_count": null,
   "id": "06bf77f2",
   "metadata": {},
   "outputs": [],
   "source": [
    "all_data_gender_dict = {'Gender':['Male','Female'], 'Population':[], 'Percentage':[]}\n",
    "\n",
    "df_all_males = all_df[all_df['gender']=='M']\n",
    "df_all_females = all_df[all_df['gender']=='F']\n",
    "\n",
    "all_data_pop = all_df['frequency'].sum()\n",
    "all_male_pop = df_all_males['frequency'].sum()\n",
    "all_male_pc = round((all_male_pop/all_data_pop)*100,2)\n",
    "all_female_pop = df_all_females['frequency'].sum()\n",
    "all_female_pc = round((all_female_pop/all_data_pop)*100,2)\n",
    "\n",
    "all_data_gender_dict['Population'].append(all_male_pop)\n",
    "all_data_gender_dict['Population'].append(all_female_pop)\n",
    "all_data_gender_dict['Percentage'].append(all_male_pc)\n",
    "all_data_gender_dict['Percentage'].append(all_female_pc)\n",
    "\n",
    "all_data_gender = pd.DataFrame(all_data_gender_dict)\n",
    "all_data_gender"
   ]
  },
  {
   "cell_type": "code",
   "execution_count": null,
   "id": "0407b6ac",
   "metadata": {},
   "outputs": [],
   "source": [
    "bar_colour = ['blue','red']\n",
    "\n",
    "plt.figure(figsize=(4,5))\n",
    "plt.bar(all_data_gender['Gender'],all_data_gender['Percentage'], width=0.95, color=bar_colour)\n",
    "plt.xlabel('Gender')\n",
    "plt.ylabel('Percentage')\n",
    "plt.title('All Data: Gender Split')\n",
    "plt.grid()\n",
    "plt.show()"
   ]
  },
  {
   "cell_type": "code",
   "execution_count": null,
   "id": "a33678a9",
   "metadata": {},
   "outputs": [],
   "source": [
    "bar_colour = ['blue','red']\n",
    "\n",
    "plt.figure(figsize=(4,5))\n",
    "plt.bar(all_data_gender['Gender'],all_data_gender['Population']/1000000, width=0.95, color=bar_colour)\n",
    "plt.xlabel('Gender')\n",
    "plt.ylabel('Population (mil.)')\n",
    "plt.title('All Data: Gender Split')\n",
    "plt.grid()\n",
    "plt.show()"
   ]
  },
  {
   "cell_type": "code",
   "execution_count": null,
   "id": "befef456",
   "metadata": {},
   "outputs": [],
   "source": []
  },
  {
   "cell_type": "code",
   "execution_count": null,
   "id": "9dff372e",
   "metadata": {},
   "outputs": [],
   "source": [
    "## make a function to output dataframe of ambiguous male name\n",
    "\n",
    "def df_amibg_male(year):\n",
    "    df_male = parse_dataset(year)[parse_dataset(year)['gender']=='M']\n",
    "    df_female = parse_dataset(year)[parse_dataset(year)['gender']=='F']\n",
    "    mask_male = df_male['name'].isin(df_female['name'])\n",
    "    df_ambig_male = df_male[mask_male]\n",
    "    return df_ambig_male\n",
    "\n",
    "df_amibg_male(2020).head()"
   ]
  },
  {
   "cell_type": "code",
   "execution_count": null,
   "id": "5f550fd5",
   "metadata": {},
   "outputs": [],
   "source": [
    "## make a function to output dataframe of ambiguous female name\n",
    "\n",
    "def df_amibg_female(year):\n",
    "    df_male = parse_dataset(year)[parse_dataset(year)['gender']=='M']\n",
    "    df_female = parse_dataset(year)[parse_dataset(year)['gender']=='F']\n",
    "    mask_female = df_female['name'].isin(df_male['name'])\n",
    "    df_ambig_female = df_female[mask_female]\n",
    "    return df_ambig_female\n",
    "\n",
    "df_amibg_female(2020).head()"
   ]
  },
  {
   "cell_type": "code",
   "execution_count": null,
   "id": "23189f5c",
   "metadata": {
    "scrolled": true
   },
   "outputs": [],
   "source": [
    "parse_dataset(2020)[parse_dataset(2020)['name']=='Olivia']"
   ]
  },
  {
   "cell_type": "code",
   "execution_count": null,
   "id": "11ed9236",
   "metadata": {
    "scrolled": true
   },
   "outputs": [],
   "source": [
    "## make a function to output dataframe of unambiguous male name\n",
    "\n",
    "def df_unamibg_male(year):\n",
    "    df_male = parse_dataset(year)[parse_dataset(year)['gender']=='M']\n",
    "    df_female = parse_dataset(year)[parse_dataset(year)['gender']=='F']\n",
    "    mask_male = df_male['name'].isin(df_female['name'])\n",
    "    df_unambig_male = df_male[~mask_male] # '~' creates an 'opposite' mask\n",
    "    return df_unambig_male\n",
    "\n",
    "df_unamibg_male(2020).head()"
   ]
  },
  {
   "cell_type": "code",
   "execution_count": null,
   "id": "923982e3",
   "metadata": {},
   "outputs": [],
   "source": [
    "# Check one name is male only\n",
    "\n",
    "parse_dataset(2020)[parse_dataset(2020)['name']=='Nathan']"
   ]
  },
  {
   "cell_type": "code",
   "execution_count": null,
   "id": "085452fe",
   "metadata": {},
   "outputs": [],
   "source": [
    "## make a function to output dataframe of unambiguous female name\n",
    "\n",
    "def df_unamibg_female(year):\n",
    "    df_male = parse_dataset(year)[parse_dataset(year)['gender']=='M']\n",
    "    df_female = parse_dataset(year)[parse_dataset(year)['gender']=='F']\n",
    "    mask_female = df_female['name'].isin(df_male['name'])\n",
    "    df_unambig_female = df_female[~mask_female] # '~' creates an 'opposite' mask\n",
    "    return df_unambig_female\n",
    "\n",
    "df_unamibg_female(2020).head()"
   ]
  },
  {
   "cell_type": "code",
   "execution_count": null,
   "id": "4278f7b1",
   "metadata": {},
   "outputs": [],
   "source": [
    "# Check one name is female only\n",
    "\n",
    "parse_dataset(2020)[parse_dataset(2020)['name']=='Abigail']"
   ]
  },
  {
   "cell_type": "code",
   "execution_count": null,
   "id": "1a580f67",
   "metadata": {},
   "outputs": [],
   "source": [
    "annual_ambiguity_dict = {'Year':[], \n",
    "                         'Male-only Name %':[], \n",
    "                         'Female-only Name %':[], \n",
    "                         'Ambiguous Male Name %':[], \n",
    "                         'Ambiguous Female Name %':[]}\n",
    "\n",
    "\n",
    "for year in range(1980, 2023):\n",
    "    yr_ttl = freq_sum(year)\n",
    "\n",
    "    male_only_ttl = df_unamibg_male(year)['frequency'].sum()\n",
    "    male_only_pc = round((male_only_ttl/yr_ttl)*100,2)\n",
    "    \n",
    "    female_only_ttl = df_unamibg_female(year)['frequency'].sum()\n",
    "    female_only_pc = round((female_only_ttl/yr_ttl)*100,2)\n",
    "    \n",
    "    male_ambig_ttl = df_amibg_male(year)['frequency'].sum()\n",
    "    male_ambig_pc = round((male_ambig_ttl/yr_ttl)*100,2)\n",
    "    \n",
    "    female_ambig_ttl = df_amibg_female(year)['frequency'].sum()\n",
    "    female_ambig_pc = round((female_ambig_ttl/yr_ttl)*100,2)\n",
    "    \n",
    "    annual_ambiguity_dict['Year'].append(year)\n",
    "    annual_ambiguity_dict['Male-only Name %'].append(male_only_pc)\n",
    "    annual_ambiguity_dict['Female-only Name %'].append(female_only_pc)\n",
    "    annual_ambiguity_dict['Ambiguous Male Name %'].append(male_ambig_pc)\n",
    "    annual_ambiguity_dict['Ambiguous Female Name %'].append(female_ambig_pc)\n",
    "    \n",
    "    df_annual_ambiguity = pd.DataFrame(annual_ambiguity_dict)\n",
    "\n",
    "df_annual_ambiguity.head()"
   ]
  },
  {
   "cell_type": "code",
   "execution_count": null,
   "id": "55e66c9a",
   "metadata": {},
   "outputs": [],
   "source": [
    "x_val = annual_gender_percentages['Year']\n",
    "\n",
    "plt.figure(figsize=(14,8))\n",
    "plt.plot(x_val, df_annual_ambiguity['Male-only Name %'], marker='|', color='blue', label='Male Only %')\n",
    "plt.plot(x_val, df_annual_ambiguity['Female-only Name %'], marker='|', color='red', label='Female Only %')\n",
    "plt.plot(x_val, df_annual_ambiguity['Ambiguous Male Name %'], marker='|', color='orange', label='Ambiguous Male %')\n",
    "plt.plot(x_val, df_annual_ambiguity['Ambiguous Female Name %'], marker='|', color='purple', label='Ambiguous Female Name %')\n",
    "plt.xlabel('Years')\n",
    "plt.ylabel('%')\n",
    "plt.title('Naming Ambiguity Proportions')\n",
    "plt.legend()\n",
    "plt.grid()\n",
    "plt.show()"
   ]
  },
  {
   "cell_type": "code",
   "execution_count": null,
   "id": "fa347ec7",
   "metadata": {},
   "outputs": [],
   "source": []
  },
  {
   "cell_type": "markdown",
   "id": "33b515b5",
   "metadata": {},
   "source": [
    "## Apply this and include as a new column to the 2020 Data Frame\n",
    "\n",
    "#### Create a list of a given year which only holds gender ambiguous names"
   ]
  },
  {
   "cell_type": "code",
   "execution_count": null,
   "id": "f3ce8c6d",
   "metadata": {},
   "outputs": [],
   "source": [
    "# Create a male DF for 2020\n",
    "\n",
    "df_males2020 = parse_dataset(2020)[parse_dataset(2020)['gender']=='M']\n",
    "df_males2020.head()"
   ]
  },
  {
   "cell_type": "code",
   "execution_count": null,
   "id": "c1c1e100",
   "metadata": {
    "scrolled": true
   },
   "outputs": [],
   "source": [
    "# Create a female DF for 2020\n",
    "\n",
    "df_fem2020 = parse_dataset(2020)[parse_dataset(2020)['gender']=='F']\n",
    "df_fem2020.head()"
   ]
  },
  {
   "cell_type": "code",
   "execution_count": null,
   "id": "5ca73337",
   "metadata": {},
   "outputs": [],
   "source": [
    "# Create an only ambiguous list from the female DF\n",
    "\n",
    "mask_ambig_fem2020 = df_fem2020['name'].isin(df_males2020['name']) \n",
    "df_ambig_fem2020 = df_fem2020[mask_ambig_fem2020]\n",
    "df_ambig_fem2020.head()"
   ]
  },
  {
   "cell_type": "code",
   "execution_count": null,
   "id": "c946b8a0",
   "metadata": {},
   "outputs": [],
   "source": [
    "# Create an only ambiguous list from the male DF\n",
    "\n",
    "mask_ambig_male2020 = df_males2020['name'].isin(df_fem2020['name']) \n",
    "df_ambig_male2020 = df_males2020[mask_ambig_male2020]\n",
    "df_ambig_male2020.head()"
   ]
  },
  {
   "cell_type": "code",
   "execution_count": null,
   "id": "42744bdd",
   "metadata": {},
   "outputs": [],
   "source": [
    "# Concat the DF's\n",
    "\n",
    "df_ambig2020 = pd.concat([df_ambig_male2020, df_ambig_fem2020], ignore_index=True)\n",
    "df_ambig2020.head()"
   ]
  },
  {
   "cell_type": "markdown",
   "id": "a04ea307",
   "metadata": {},
   "source": [
    "### Adapt this list to combine the names and add extra columns for male & female percentage "
   ]
  },
  {
   "cell_type": "code",
   "execution_count": null,
   "id": "a3205f38",
   "metadata": {},
   "outputs": [],
   "source": [
    "# figure out how to use a for loop to recognise matching names and add columns for the above..."
   ]
  },
  {
   "cell_type": "code",
   "execution_count": null,
   "id": "0caa5ee0",
   "metadata": {},
   "outputs": [],
   "source": [
    "# nope... google it..."
   ]
  },
  {
   "cell_type": "code",
   "execution_count": null,
   "id": "53e0f623",
   "metadata": {},
   "outputs": [],
   "source": [
    "# the '.merge' function!"
   ]
  },
  {
   "cell_type": "code",
   "execution_count": null,
   "id": "cb3384c6",
   "metadata": {},
   "outputs": [],
   "source": []
  },
  {
   "cell_type": "code",
   "execution_count": null,
   "id": "a47b0813",
   "metadata": {},
   "outputs": [],
   "source": [
    "# merge the two amiguous lists by name so that both the male and female frequency columns\n",
    "# are aligned with the names in each row\n",
    "\n",
    "merged_ambig2020 = df_fem2020.merge(df_males2020, on='name')\n",
    "\n",
    "#check that this has worked\n",
    "merged_ambig2020.head()"
   ]
  },
  {
   "cell_type": "code",
   "execution_count": null,
   "id": "19d573fe",
   "metadata": {},
   "outputs": [],
   "source": [
    "# Adding new Total Frequency column and sorting the data by this.\n",
    "\n",
    "merged_ambig2020['total frequency'] = merged_ambig2020['frequency_x'] + merged_ambig2020['frequency_y']\n",
    "\n",
    "merged_ambig2020 = merged_ambig2020.sort_values(by='total frequency', ascending=False)\n",
    "\n",
    "merged_ambig2020.head()"
   ]
  },
  {
   "cell_type": "code",
   "execution_count": null,
   "id": "04e6c858",
   "metadata": {
    "scrolled": false
   },
   "outputs": [],
   "source": []
  },
  {
   "cell_type": "code",
   "execution_count": null,
   "id": "584dec85",
   "metadata": {
    "scrolled": true
   },
   "outputs": [],
   "source": [
    "# Adding new columns for percentage being male / female\n",
    "\n",
    "merged_ambig2020['female_pc'] = round((merged_ambig2020['frequency_x'] / merged_ambig2020['total frequency']) * 100,2)\n",
    "\n",
    "merged_ambig2020['male_pc'] = round((merged_ambig2020['frequency_y'] / merged_ambig2020['total frequency']) * 100,2)\n",
    "\n",
    "#and check\n",
    "merged_ambig2020.head()"
   ]
  },
  {
   "cell_type": "markdown",
   "id": "a9b630ae",
   "metadata": {},
   "source": [
    "## Add a new column to the DataFrame for the ambiguity factor\n",
    "\n",
    "\n",
    "\n",
    "\n",
    "##### at this point, I got stuck..."
   ]
  },
  {
   "cell_type": "raw",
   "id": "78040737",
   "metadata": {},
   "source": [
    "# Converting to dictionary to add a new & empty 'ambig_fctr' column \n",
    "#and checking if new column exists when displayed as DF\n",
    "\n",
    "dict_test1 = merged_ambig2020.to_dict()\n",
    "\n",
    "dict_test1['ambig_fctr'] = None\n",
    "\n",
    "df_test1 = pd.DataFrame(dict_test1)\n",
    "df_test1.head()"
   ]
  },
  {
   "cell_type": "raw",
   "id": "c8caf6fa",
   "metadata": {},
   "source": [
    "for key, value in dict_test1['male_pc'].items():\n",
    "    if value > 50:\n",
    "        dict_test1['ambig_fctr'][key] = round(-value + 100, 2)\n",
    "    else:\n",
    "        dict_test1['ambig_fctr'][key] = value\n",
    "\n",
    "df_test1 = pd.DataFrame(dict_test1)\n",
    "df_test1.head()"
   ]
  },
  {
   "cell_type": "raw",
   "id": "e712fedb",
   "metadata": {},
   "source": [
    "dict_test2 = merged_ambig2020.to_dict()\n",
    "\n",
    "dict_test2['ambig_fctr'] = 0\n",
    "\n",
    "#df_test2 = pd.DataFrame(dict_test2)\n",
    "#df_test2.head()"
   ]
  },
  {
   "cell_type": "raw",
   "id": "45e62fba",
   "metadata": {},
   "source": [
    "for key, value in dict_test2['male_pc'].items():\n",
    "    if value > 50:\n",
    "        dict_test2['ambig_fctr'][key] = round(-value + 100, 2)\n",
    "    else:\n",
    "        dict_test2['ambig_fctr'][key] = value\n",
    "\n",
    "df_test2 = pd.DataFrame(dict_test2)\n",
    "df_test2.head()"
   ]
  },
  {
   "cell_type": "code",
   "execution_count": null,
   "id": "21005cfa",
   "metadata": {},
   "outputs": [],
   "source": [
    "# Convert the DataFrame to dictionary, add a new & empty 'ambig_fctr' column \n",
    "# and checking if new column exists when displayed as DF\n",
    "\n",
    "dict_test3 = merged_ambig2020.to_dict()\n",
    "\n",
    "dict_test3['ambig_fctr'] = 0.00\n",
    "df_test3 = pd.DataFrame(dict_test3)\n",
    "df_test3.head()"
   ]
  },
  {
   "cell_type": "code",
   "execution_count": null,
   "id": "706abc86",
   "metadata": {},
   "outputs": [],
   "source": [
    "for key, value in dict_test3['male_pc'].items():\n",
    "    if value > 50:\n",
    "        dict_test3['ambig_fctr'][key] = round(-value + 100, 2)\n",
    "    else:\n",
    "        dict_test3['ambig_fctr'][key] = value\n",
    "\n",
    "df_test3 = pd.DataFrame(dict_test3)\n",
    "df_test3.head()"
   ]
  },
  {
   "cell_type": "raw",
   "id": "edc29179",
   "metadata": {},
   "source": [
    "dict_test4 = merged_ambig2020.to_dict()\n",
    "\n",
    "dict_test4['ambig_fctr'] = value in dict_test4['male_pc'].items() if value < 50 else round(-value + 100, 2)\n",
    "df_test4 = pd.DataFrame(dict_test4)\n",
    "df_test4.head()\n"
   ]
  },
  {
   "cell_type": "raw",
   "id": "a4ab2aa9",
   "metadata": {},
   "source": [
    "for key, value in dict_test4['male_pc'].items():\n",
    "    if value > 50:\n",
    "        dict_test4['ambig_fctr'][key] = round(-value + 100, 2)\n",
    "    else:\n",
    "        dict_test4['ambig_fctr'][key] = value\n",
    "\n",
    "df_test4 = pd.DataFrame(dict_test4)\n",
    "df_test4.head()"
   ]
  },
  {
   "cell_type": "markdown",
   "id": "a96b256e",
   "metadata": {},
   "source": [
    "### _I GOT STUCK_\n",
    "\n",
    "\n",
    "### ... so I moved on."
   ]
  },
  {
   "cell_type": "code",
   "execution_count": null,
   "id": "817aaec1",
   "metadata": {},
   "outputs": [],
   "source": [
    "# The interesting part of the data for me is the highly ambiguous names.\n",
    "# Therefore, I will filter the data to only retain the 'central' percentages...\n",
    "\n",
    "ambig2020_male45 = merged_ambig2020[merged_ambig2020['male_pc']>45]\n",
    "ambig2020_mids = ambig2020_male45[ambig2020_male45['female_pc']>45]\n",
    "ambig2020_mids\n",
    "\n",
    "#this produces 254 rows"
   ]
  },
  {
   "cell_type": "code",
   "execution_count": null,
   "id": "59b4a1e7",
   "metadata": {},
   "outputs": [],
   "source": [
    "# Create a top 15 List of these highly ambiguous names, by order of popularity\n",
    "\n",
    "mid_ambig_top15 = ambig2020_mids.head(15)\n",
    "mid_ambig_top15"
   ]
  },
  {
   "cell_type": "code",
   "execution_count": null,
   "id": "371cd67a",
   "metadata": {},
   "outputs": [],
   "source": [
    "mids_ambig_sample = ambig2020_mids.sample(15)\n",
    "mids_ambig_sample15 = mids_ambig_sample.sort_values(by='total frequency', ascending=False)\n",
    "mids_ambig_sample15"
   ]
  },
  {
   "cell_type": "markdown",
   "id": "58382f7b",
   "metadata": {},
   "source": [
    "### Plot this data as a Scatter Plot, with a different marker for each name..."
   ]
  },
  {
   "cell_type": "code",
   "execution_count": null,
   "id": "fa06189b",
   "metadata": {},
   "outputs": [],
   "source": [
    "from matplotlib import pyplot as plt\n",
    "plt.style.use('classic')\n",
    "import numpy as np"
   ]
  },
  {
   "cell_type": "markdown",
   "id": "070292bb",
   "metadata": {},
   "source": [
    "### Ideally, I want to create a scatter plot which displays...\n",
    "+ an ambiguity scale for the names... left-of-centre indicates female and right, male (x-axis)\n",
    "+ the popularity of name (y-axis)\n",
    "+ and identifier for each name... unique markers and a relevant legend"
   ]
  },
  {
   "cell_type": "code",
   "execution_count": null,
   "id": "a6bd9a0d",
   "metadata": {},
   "outputs": [],
   "source": [
    "# Creating a plot from the Sample Data Frame...\n",
    "\n",
    "x_vals = mids_ambig_sample15['female_pc']\n",
    "y_vals = mids_ambig_sample15['total frequency']\n",
    "\n",
    "plt.figure(figsize=(8,6))\n",
    "plt.scatter(x_vals, y_vals, color='teal', marker = 'o', label='Name')\n",
    "plt.xlabel('Ambiguity Scale: Male, to Female')\n",
    "plt.ylabel('Popularity of Name')\n",
    "plt.title('Listing A Sample of Popular Ambiguos Names')\n",
    "plt.grid()\n",
    "plt.legend()\n",
    "plt.show()"
   ]
  },
  {
   "cell_type": "code",
   "execution_count": null,
   "id": "39a23ca1",
   "metadata": {},
   "outputs": [],
   "source": [
    "# ISSUE: The legend can often block the plots so this has been removed:\n",
    "\n",
    "x_vals = mids_ambig_sample15['female_pc']\n",
    "y_vals = mids_ambig_sample15['total frequency']\n",
    "\n",
    "plt.figure(figsize=(8,6))\n",
    "plt.scatter(x_vals, y_vals, color='teal', marker = 'o', label='Name')\n",
    "plt.xlabel('Ambiguity Scale: Male, to Female')\n",
    "plt.ylabel('Popularity of Name')\n",
    "plt.title('Listing A Sample of Popular Ambiguos Names')\n",
    "plt.grid()\n",
    "plt.show()"
   ]
  },
  {
   "cell_type": "code",
   "execution_count": null,
   "id": "490b794b",
   "metadata": {},
   "outputs": [],
   "source": [
    "# and I wanted to see how the most popular names would plot...\n",
    "\n",
    "plt.figure(figsize=(8,6))\n",
    "plt.scatter(mid_ambig_top15['female_pc'], mid_ambig_top15['total frequency'], marker='o', label='Name')\n",
    "plt.xlabel('Ambiguity Scale: Male, to Female')\n",
    "plt.ylabel('Popularity of Name')\n",
    "plt.title('Listing The Most Popular Ambiguos Names')\n",
    "plt.grid()\n",
    "plt.show()"
   ]
  },
  {
   "cell_type": "code",
   "execution_count": null,
   "id": "9d43152a",
   "metadata": {},
   "outputs": [],
   "source": [
    "# find an quicker way to create new sample DF's and plot\n",
    "\n",
    "# Generate sample Data Frames from the high-ambiguity names.\n",
    "# sample size based on inputted number\n",
    "\n",
    "def generate_df_sample(number):\n",
    "    mids_ambig_sample = ambig2020_mids.sample(number)\n",
    "    mids_ambig_sample_num = mids_ambig_sample.sort_values(by='total frequency', ascending=False)\n",
    "    return mids_ambig_sample_num\n",
    "\n",
    "\n",
    "sample_DF = generate_df_sample(20)\n",
    "sample_DF"
   ]
  },
  {
   "cell_type": "code",
   "execution_count": null,
   "id": "58179c2c",
   "metadata": {},
   "outputs": [],
   "source": [
    "#... and then a sample plotter:\n",
    "\n",
    "sample_DF = generate_df_sample(10)\n",
    "\n",
    "x_vals = sample_DF['female_pc']\n",
    "y_vals = sample_DF['total frequency']\n",
    "\n",
    "plt.figure(figsize=(8,6))\n",
    "plt.scatter(x_vals, y_vals, color='teal', marker = 'o', label='Name')\n",
    "plt.xlabel('Ambiguity Scale: Male, to Female')\n",
    "plt.ylabel('Popularity of Name')\n",
    "plt.title('Listing A Sample of Popular Ambiguos Names')\n",
    "plt.grid()\n",
    "plt.show()"
   ]
  },
  {
   "cell_type": "code",
   "execution_count": null,
   "id": "a78f6f07",
   "metadata": {},
   "outputs": [],
   "source": [
    "# while I'm stuck on how to create different markers for each name, is there a better way to plot currently?\n",
    "\n",
    "# retain the Ambiguity Scale, list the names on an axis, use the size of the plot to determine popularity. \n",
    "\n",
    "sample_DF = generate_df_sample(10)\n",
    "\n",
    "x_vals = sample_DF['female_pc']\n",
    "y_vals = sample_DF['name']\n",
    "weighting = sample_DF['total frequency'] * 12\n",
    "\n",
    "plt.figure(figsize= (13,9))\n",
    "plt.scatter(x = x_vals, y = y_vals, s = weighting, color='teal', marker = 'o', label='Name')\n",
    "plt.xlabel('Ambiguity Scale: Male, to Female')\n",
    "plt.ylabel('Name')\n",
    "plt.title('Listing A Sample of Popular Ambiguos Names')\n",
    "plt.grid()\n",
    "plt.show()"
   ]
  },
  {
   "cell_type": "code",
   "execution_count": null,
   "id": "4567515d",
   "metadata": {},
   "outputs": [],
   "source": [
    "# Create a function which generates an Ambiguous Name sample list...\n",
    "#... with the flexibility of choosing the year, the mid-range scope, and the sample size\n",
    "\n",
    "def sample_name_generator(year, pc_range, size):\n",
    "    df_males = parse_dataset(year)[parse_dataset(year)['gender']=='M']\n",
    "    df_fem = parse_dataset(year)[parse_dataset(year)['gender']=='F']\n",
    "    \n",
    "    mask_ambig_fem = df_fem['name'].isin(df_males['name']) \n",
    "    df_ambig_fem = df_fem[mask_ambig_fem]\n",
    "    \n",
    "    mask_ambig_male = df_males['name'].isin(df_fem['name']) \n",
    "    df_ambig_male = df_males[mask_ambig_male]\n",
    "    \n",
    "    df_ambig = pd.concat([df_ambig_male, df_ambig_fem], ignore_index=True)\n",
    "    \n",
    "    merged_ambig = df_fem.merge(df_males, on='name')\n",
    "    merged_ambig['total frequency'] = merged_ambig['frequency_x'] + merged_ambig['frequency_y']\n",
    "    merged_ambig = merged_ambig.sort_values(by='total frequency', ascending=False)\n",
    "    \n",
    "    merged_ambig['female_pc'] = round((merged_ambig['frequency_x'] / merged_ambig['total frequency']) * 100,2)\n",
    "    merged_ambig['male_pc'] = round((merged_ambig['frequency_y'] / merged_ambig['total frequency']) * 100,2)\n",
    "    \n",
    "    ambig_mid_male_fltr = merged_ambig[merged_ambig['male_pc']>(pc_range)]\n",
    "    ambig_all_mid = ambig_mid_male_fltr[ambig_mid_male_fltr['female_pc']>(pc_range)]\n",
    "    \n",
    "    mids_ambig_sample = ambig_all_mid.sample(size)\n",
    "    return mids_ambig_sample\n",
    "\n",
    "sample_name_generator(2022, 45, 10)"
   ]
  },
  {
   "cell_type": "code",
   "execution_count": null,
   "id": "909fe745",
   "metadata": {},
   "outputs": [],
   "source": [
    "#... and plot this to create the visualisation\n",
    "\n",
    "flex_sample_plotter = sample_name_generator(2022, 45, 10)\n",
    "\n",
    "x_vals = flex_sample_plotter['female_pc']\n",
    "y_vals = flex_sample_plotter['name']\n",
    "weighting = flex_sample_plotter['total frequency'] * 12\n",
    "\n",
    "plt.figure(figsize= (13,9))\n",
    "plt.scatter(x = x_vals, y = y_vals, s = weighting, color='teal', marker = 'o', label='Name')\n",
    "plt.xlabel('Ambiguity Scale: Male, to Female')\n",
    "plt.ylabel('Name')\n",
    "plt.title('Listing A Sample of Popular Ambiguos Names')\n",
    "plt.grid()\n",
    "plt.show()"
   ]
  },
  {
   "cell_type": "code",
   "execution_count": null,
   "id": "3b690e17",
   "metadata": {
    "scrolled": false
   },
   "outputs": [],
   "source": [
    "# setting a colour-scale linked to the female proportion and forcing 50% to be the mid-point on x-axis.\n",
    "\n",
    "flex_sample_plotter = sample_name_generator(2022, 0, 5)\n",
    "\n",
    "x_vals = flex_sample_plotter['female_pc']\n",
    "y_vals = flex_sample_plotter['name']\n",
    "center_value = 50\n",
    "weighting = flex_sample_plotter['total frequency'] * 12\n",
    "\n",
    "plt.figure(figsize=(15, 10))\n",
    "\n",
    "\n",
    "plt.scatter(x_vals,  # x-axis position\n",
    "            y_vals,  # y-axis position\n",
    "            s=weighting,  # text size based on population\n",
    "            c=x_vals/ 100,  # color based on female%\n",
    "            cmap='coolwarm',  # colormap\n",
    "            alpha=0.7,  # transparency\n",
    "            label= y_vals)  # label for legend\n",
    "\n",
    "x_margin = 50  # The margin to the left and right of the center_value\n",
    "plt.xlim(center_value - x_margin, center_value + x_margin)\n",
    "\n",
    "# Set labels and title\n",
    "plt.xlabel('Ambiguity Scale: Male, to Female')\n",
    "plt.title('Listing A Sample of Popular Ambiguos Names')\n",
    "\n",
    "# Add colorbar\n",
    "cbar = plt.colorbar()\n",
    "cbar.set_label('More Male = Blue / More Female =  Red')\n",
    "\n",
    "# Show the plot\n",
    "plt.grid()\n",
    "#plt.legend(loc='upper right', bbox_to_anchor=(2, 0.8))\n",
    "plt.show()\n"
   ]
  },
  {
   "cell_type": "code",
   "execution_count": null,
   "id": "154c50d8",
   "metadata": {},
   "outputs": [],
   "source": [
    "## For an alternative view, plotting names on y-axis, with population (or popularity) along x-axis...\n",
    "## but retaining the female proportion as a colour-scale and popularity also as a size scaler.\n",
    "\n",
    "flex_sample_plotter = sample_name_generator(2022, 35, 10)\n",
    "\n",
    "\n",
    "y_vals = flex_sample_plotter['name']\n",
    "x_vals = flex_sample_plotter['total frequency']\n",
    "weighting = flex_sample_plotter['total frequency'] * 8\n",
    "clr_scale = (flex_sample_plotter['female_pc'])/100\n",
    "\n",
    "plt.figure(figsize=(15, 10))\n",
    "\n",
    "\n",
    "plt.scatter(x_vals,  # x-axis position\n",
    "            y_vals,  # y-axis position\n",
    "            s=weighting,  # text size based on population\n",
    "            c=clr_scale,  # color based on female%\n",
    "            cmap='coolwarm',  # colormap\n",
    "            alpha=0.7,  # transparency\n",
    "            label= 'Popularity')  # label for legend\n",
    "\n",
    "# Set labels and title\n",
    "plt.xlabel('Popularity')\n",
    "plt.title('Listing A Sample of Popular Ambiguos Names')\n",
    "\n",
    "# Add colorbar\n",
    "cbar = plt.colorbar()\n",
    "cbar.set_label('More Male = Blue / More Female =  Red')\n",
    "\n",
    "# Show the plot\n",
    "plt.grid()\n",
    "#plt.legend(loc='upper right', bbox_to_anchor=(2, 0.8))\n",
    "plt.show()"
   ]
  },
  {
   "cell_type": "markdown",
   "id": "a0b0454e",
   "metadata": {},
   "source": [
    "## Notes...\n",
    "\n",
    "#### Limitations and issues:\n",
    "+ working out how to add the ambiguity factor in the dataframe\n",
    "+ generate a better / more user friendly scatter plot:\n",
    "\n",
    "\n",
    "> Issues in: overlapping / marker ID / scale\n",
    "\n",
    "> Could be aided by: 3D scatter / loop filtering the DF to have data for each name / plotly?\n",
    "\n",
    "> https://realpython.com/visualizing-python-plt-scatter/#customizing-markers-in-scatter-plots"
   ]
  },
  {
   "cell_type": "markdown",
   "id": "b22214d0",
   "metadata": {},
   "source": []
  }
 ],
 "metadata": {
  "kernelspec": {
   "display_name": "Python 3 (ipykernel)",
   "language": "python",
   "name": "python3"
  },
  "language_info": {
   "codemirror_mode": {
    "name": "ipython",
    "version": 3
   },
   "file_extension": ".py",
   "mimetype": "text/x-python",
   "name": "python",
   "nbconvert_exporter": "python",
   "pygments_lexer": "ipython3",
   "version": "3.11.3"
  }
 },
 "nbformat": 4,
 "nbformat_minor": 5
}
