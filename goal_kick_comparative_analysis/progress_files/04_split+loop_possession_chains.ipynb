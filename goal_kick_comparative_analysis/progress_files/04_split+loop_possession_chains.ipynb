{
 "cells": [
  {
   "cell_type": "code",
   "execution_count": 1,
   "id": "bfd145cd",
   "metadata": {},
   "outputs": [],
   "source": [
    "import pandas as pd\n",
    "import seaborn as sns\n",
    "import numpy as np\n",
    "\n",
    "# accessing data library\n",
    "from statsbombpy import sb\n",
    "\n",
    "# opening the libraries as DF's\n",
    "from mplsoccer import Sbopen\n",
    "parser = Sbopen()\n",
    "\n",
    "# drawing pitches \n",
    "import matplotlib.pyplot as plt\n",
    "from mplsoccer import Pitch, VerticalPitch"
   ]
  },
  {
   "cell_type": "markdown",
   "id": "0ce8bda5",
   "metadata": {},
   "source": [
    "## data prep ideas for avg. calculations\n",
    "\n",
    "+ concat all matches from all seasons\n",
    "    + competitions.head(60)\n",
    "    + WSL = competition_id: 37\n",
    "    + seasons = season_id: 90 (2020/21), 42 (2019/20), 4 (2018/19)"
   ]
  },
  {
   "cell_type": "markdown",
   "id": "f35d97b4",
   "metadata": {},
   "source": [
    "# preparing data to be iterated... "
   ]
  },
  {
   "cell_type": "code",
   "execution_count": null,
   "id": "9c045054",
   "metadata": {},
   "outputs": [],
   "source": [
    "## LOAD IN MATCH DATA ##\n",
    "df = sb.events(match_id=3764234)\n",
    "\n",
    "## Create out-of-possession-team column, called 'opposing_team' ##\n",
    "home_team = df['team'].iloc[0]\n",
    "away_team = df['team'].iloc[1]\n",
    "\n",
    "def out_of_possession_team(row):\n",
    "    if row['possession_team'] == home_team:\n",
    "        return away_team\n",
    "    elif row['possession_team'] == away_team:\n",
    "        return home_team\n",
    "    else:\n",
    "        return None\n",
    "\n",
    "df['opposing_team'] = df.apply(out_of_possession_team, axis=1)\n",
    "\n",
    "\n",
    "## Split the location info into X,Y (and Z for shot) columns ##\n",
    "df[['X_start', 'Y_start']] = df['location'].apply(pd.Series)\n",
    "df[['X_end_pass', 'Y_end_pass']] = df['pass_end_location'].apply(pd.Series)\n",
    "df[['X_end_carry', 'Y_end_carry']] = df['carry_end_location'].apply(pd.Series)\n",
    "df[['X_end_shot', 'Y_end_shot', 'Z_end_shot']] = df['shot_end_location'].apply(pd.Series)\n",
    "df[['X_end_gk', 'Y_end_gk']] = df['goalkeeper_end_location'].apply(pd.Series)\n",
    "\n",
    "\n",
    "## Narrow the DF to only neccessary columns ##\n",
    "df = df[['timestamp', 'duration','possession','possession_team','opposing_team',\n",
    "         'play_pattern','type','team','player','position',\n",
    "         'pass_length','pass_angle','pass_height','pass_outcome','pass_body_part','pass_shot_assist',\n",
    "         'shot_statsbomb_xg','shot_outcome',\n",
    "         'X_start', 'Y_start',\n",
    "         'X_end_pass','Y_end_pass','X_end_carry','Y_end_carry','X_end_shot','Y_end_shot','Z_end_shot']]\n",
    "\n",
    "## Narrow the DF to only neccessary rows (based on 'type') ##\n",
    "df = df.loc[(chain_16[\"type\"] == \"Pass\") | \n",
    "            (chain_16[\"type\"] == \"Carry\") | \n",
    "            (chain_16[\"type\"] == 'Shot')]\n",
    "\n",
    "gk_chains = df[(df['play_pattern']=='From Goal Kick')]['possession'].unique()"
   ]
  },
  {
   "cell_type": "markdown",
   "id": "263af354",
   "metadata": {},
   "source": [
    "## checking data before iteration"
   ]
  },
  {
   "cell_type": "code",
   "execution_count": 2,
   "id": "f67b30b7",
   "metadata": {},
   "outputs": [],
   "source": [
    "df = sb.events(match_id=3764234)\n",
    "df_match = df.copy()"
   ]
  },
  {
   "cell_type": "code",
   "execution_count": 3,
   "id": "0ef998db",
   "metadata": {},
   "outputs": [
    {
     "data": {
      "text/html": [
       "<div>\n",
       "<style scoped>\n",
       "    .dataframe tbody tr th:only-of-type {\n",
       "        vertical-align: middle;\n",
       "    }\n",
       "\n",
       "    .dataframe tbody tr th {\n",
       "        vertical-align: top;\n",
       "    }\n",
       "\n",
       "    .dataframe thead th {\n",
       "        text-align: right;\n",
       "    }\n",
       "</style>\n",
       "<table border=\"1\" class=\"dataframe\">\n",
       "  <thead>\n",
       "    <tr style=\"text-align: right;\">\n",
       "      <th></th>\n",
       "      <th>team</th>\n",
       "    </tr>\n",
       "  </thead>\n",
       "  <tbody>\n",
       "    <tr>\n",
       "      <th>0</th>\n",
       "      <td>Aston Villa</td>\n",
       "    </tr>\n",
       "    <tr>\n",
       "      <th>1</th>\n",
       "      <td>Manchester City WFC</td>\n",
       "    </tr>\n",
       "  </tbody>\n",
       "</table>\n",
       "</div>"
      ],
      "text/plain": [
       "                  team\n",
       "0          Aston Villa\n",
       "1  Manchester City WFC"
      ]
     },
     "execution_count": 3,
     "metadata": {},
     "output_type": "execute_result"
    }
   ],
   "source": [
    "## obtain the home / away teams from the data ##\n",
    "\n",
    "df_match[df_match['type'] == 'Starting XI'][['team']]"
   ]
  },
  {
   "cell_type": "code",
   "execution_count": 4,
   "id": "5157c7e1",
   "metadata": {},
   "outputs": [
    {
     "data": {
      "text/plain": [
       "str"
      ]
     },
     "execution_count": 4,
     "metadata": {},
     "output_type": "execute_result"
    }
   ],
   "source": [
    "home_team = df_match['team'].iloc[0]\n",
    "away_team = df_match['team'].iloc[1]\n",
    "\n",
    "type(home_team)"
   ]
  },
  {
   "cell_type": "code",
   "execution_count": 5,
   "id": "e5bf0450",
   "metadata": {},
   "outputs": [
    {
     "data": {
      "text/plain": [
       "count                    3758\n",
       "unique                      2\n",
       "top       Manchester City WFC\n",
       "freq                     2360\n",
       "Name: possession_team, dtype: object"
      ]
     },
     "execution_count": 5,
     "metadata": {},
     "output_type": "execute_result"
    }
   ],
   "source": [
    "df_match['possession_team'].describe(include = 'O')"
   ]
  },
  {
   "cell_type": "code",
   "execution_count": 7,
   "id": "acd70e8c",
   "metadata": {},
   "outputs": [
    {
     "data": {
      "text/html": [
       "<div>\n",
       "<style scoped>\n",
       "    .dataframe tbody tr th:only-of-type {\n",
       "        vertical-align: middle;\n",
       "    }\n",
       "\n",
       "    .dataframe tbody tr th {\n",
       "        vertical-align: top;\n",
       "    }\n",
       "\n",
       "    .dataframe thead th {\n",
       "        text-align: right;\n",
       "    }\n",
       "</style>\n",
       "<table border=\"1\" class=\"dataframe\">\n",
       "  <thead>\n",
       "    <tr style=\"text-align: right;\">\n",
       "      <th></th>\n",
       "      <th>possession_team</th>\n",
       "    </tr>\n",
       "  </thead>\n",
       "  <tbody>\n",
       "    <tr>\n",
       "      <th>0</th>\n",
       "      <td>Aston Villa</td>\n",
       "    </tr>\n",
       "    <tr>\n",
       "      <th>1</th>\n",
       "      <td>Aston Villa</td>\n",
       "    </tr>\n",
       "    <tr>\n",
       "      <th>2</th>\n",
       "      <td>Aston Villa</td>\n",
       "    </tr>\n",
       "    <tr>\n",
       "      <th>3</th>\n",
       "      <td>Aston Villa</td>\n",
       "    </tr>\n",
       "    <tr>\n",
       "      <th>10</th>\n",
       "      <td>Aston Villa</td>\n",
       "    </tr>\n",
       "    <tr>\n",
       "      <th>...</th>\n",
       "      <td>...</td>\n",
       "    </tr>\n",
       "    <tr>\n",
       "      <th>3750</th>\n",
       "      <td>Aston Villa</td>\n",
       "    </tr>\n",
       "    <tr>\n",
       "      <th>3751</th>\n",
       "      <td>Aston Villa</td>\n",
       "    </tr>\n",
       "    <tr>\n",
       "      <th>3753</th>\n",
       "      <td>Aston Villa</td>\n",
       "    </tr>\n",
       "    <tr>\n",
       "      <th>3756</th>\n",
       "      <td>Aston Villa</td>\n",
       "    </tr>\n",
       "    <tr>\n",
       "      <th>3757</th>\n",
       "      <td>Aston Villa</td>\n",
       "    </tr>\n",
       "  </tbody>\n",
       "</table>\n",
       "<p>1398 rows × 1 columns</p>\n",
       "</div>"
      ],
      "text/plain": [
       "     possession_team\n",
       "0        Aston Villa\n",
       "1        Aston Villa\n",
       "2        Aston Villa\n",
       "3        Aston Villa\n",
       "10       Aston Villa\n",
       "...              ...\n",
       "3750     Aston Villa\n",
       "3751     Aston Villa\n",
       "3753     Aston Villa\n",
       "3756     Aston Villa\n",
       "3757     Aston Villa\n",
       "\n",
       "[1398 rows x 1 columns]"
      ]
     },
     "execution_count": 7,
     "metadata": {},
     "output_type": "execute_result"
    }
   ],
   "source": [
    "df_match[df_match['possession_team'] == home_team][['possession_team']]"
   ]
  },
  {
   "cell_type": "code",
   "execution_count": 8,
   "id": "b3e43693",
   "metadata": {},
   "outputs": [
    {
     "data": {
      "text/html": [
       "<div>\n",
       "<style scoped>\n",
       "    .dataframe tbody tr th:only-of-type {\n",
       "        vertical-align: middle;\n",
       "    }\n",
       "\n",
       "    .dataframe tbody tr th {\n",
       "        vertical-align: top;\n",
       "    }\n",
       "\n",
       "    .dataframe thead th {\n",
       "        text-align: right;\n",
       "    }\n",
       "</style>\n",
       "<table border=\"1\" class=\"dataframe\">\n",
       "  <thead>\n",
       "    <tr style=\"text-align: right;\">\n",
       "      <th></th>\n",
       "      <th>possession_team</th>\n",
       "      <th>opposing_team</th>\n",
       "    </tr>\n",
       "  </thead>\n",
       "  <tbody>\n",
       "    <tr>\n",
       "      <th>0</th>\n",
       "      <td>Aston Villa</td>\n",
       "      <td>Manchester City WFC</td>\n",
       "    </tr>\n",
       "    <tr>\n",
       "      <th>1</th>\n",
       "      <td>Aston Villa</td>\n",
       "      <td>Manchester City WFC</td>\n",
       "    </tr>\n",
       "    <tr>\n",
       "      <th>2</th>\n",
       "      <td>Aston Villa</td>\n",
       "      <td>Manchester City WFC</td>\n",
       "    </tr>\n",
       "    <tr>\n",
       "      <th>3</th>\n",
       "      <td>Aston Villa</td>\n",
       "      <td>Manchester City WFC</td>\n",
       "    </tr>\n",
       "    <tr>\n",
       "      <th>4</th>\n",
       "      <td>Manchester City WFC</td>\n",
       "      <td>Aston Villa</td>\n",
       "    </tr>\n",
       "    <tr>\n",
       "      <th>...</th>\n",
       "      <td>...</td>\n",
       "      <td>...</td>\n",
       "    </tr>\n",
       "    <tr>\n",
       "      <th>3753</th>\n",
       "      <td>Aston Villa</td>\n",
       "      <td>Manchester City WFC</td>\n",
       "    </tr>\n",
       "    <tr>\n",
       "      <th>3754</th>\n",
       "      <td>Manchester City WFC</td>\n",
       "      <td>Aston Villa</td>\n",
       "    </tr>\n",
       "    <tr>\n",
       "      <th>3755</th>\n",
       "      <td>Manchester City WFC</td>\n",
       "      <td>Aston Villa</td>\n",
       "    </tr>\n",
       "    <tr>\n",
       "      <th>3756</th>\n",
       "      <td>Aston Villa</td>\n",
       "      <td>Manchester City WFC</td>\n",
       "    </tr>\n",
       "    <tr>\n",
       "      <th>3757</th>\n",
       "      <td>Aston Villa</td>\n",
       "      <td>Manchester City WFC</td>\n",
       "    </tr>\n",
       "  </tbody>\n",
       "</table>\n",
       "<p>3758 rows × 2 columns</p>\n",
       "</div>"
      ],
      "text/plain": [
       "          possession_team        opposing_team\n",
       "0             Aston Villa  Manchester City WFC\n",
       "1             Aston Villa  Manchester City WFC\n",
       "2             Aston Villa  Manchester City WFC\n",
       "3             Aston Villa  Manchester City WFC\n",
       "4     Manchester City WFC          Aston Villa\n",
       "...                   ...                  ...\n",
       "3753          Aston Villa  Manchester City WFC\n",
       "3754  Manchester City WFC          Aston Villa\n",
       "3755  Manchester City WFC          Aston Villa\n",
       "3756          Aston Villa  Manchester City WFC\n",
       "3757          Aston Villa  Manchester City WFC\n",
       "\n",
       "[3758 rows x 2 columns]"
      ]
     },
     "execution_count": 8,
     "metadata": {},
     "output_type": "execute_result"
    }
   ],
   "source": [
    "## create new column detailing the out-of-possesion team\n",
    "\n",
    "def out_of_possession_team(row):\n",
    "    if row['possession_team'] == home_team:\n",
    "        return away_team\n",
    "    elif row['possession_team'] == away_team:\n",
    "        return home_team\n",
    "    else:\n",
    "        return None\n",
    "\n",
    "df_match['opposing_team'] = df_match.apply(out_of_possession_team, axis=1)\n",
    "\n",
    "\n",
    "df_match[['possession_team','opposing_team']]"
   ]
  },
  {
   "cell_type": "code",
   "execution_count": 9,
   "id": "9ba82947",
   "metadata": {},
   "outputs": [
    {
     "data": {
      "text/plain": [
       "Index(['ball_receipt_outcome', 'ball_recovery_recovery_failure',\n",
       "       'block_offensive', 'carry_end_location', 'clearance_aerial_won',\n",
       "       'clearance_body_part', 'clearance_head', 'clearance_left_foot',\n",
       "       'clearance_right_foot', 'counterpress', 'dribble_nutmeg',\n",
       "       'dribble_outcome', 'dribble_overrun', 'duel_outcome', 'duel_type',\n",
       "       'duration', 'foul_committed_advantage', 'foul_committed_offensive',\n",
       "       'foul_committed_type', 'foul_won_advantage', 'foul_won_defensive',\n",
       "       'goalkeeper_body_part', 'goalkeeper_end_location', 'goalkeeper_outcome',\n",
       "       'goalkeeper_position', 'goalkeeper_technique', 'goalkeeper_type', 'id',\n",
       "       'index', 'interception_outcome', 'location', 'match_id', 'minute',\n",
       "       'miscontrol_aerial_won', 'off_camera', 'out', 'pass_aerial_won',\n",
       "       'pass_angle', 'pass_assisted_shot_id', 'pass_body_part', 'pass_cross',\n",
       "       'pass_cut_back', 'pass_deflected', 'pass_end_location', 'pass_height',\n",
       "       'pass_inswinging', 'pass_length', 'pass_miscommunication',\n",
       "       'pass_no_touch', 'pass_outcome', 'pass_outswinging', 'pass_recipient',\n",
       "       'pass_shot_assist', 'pass_straight', 'pass_switch', 'pass_technique',\n",
       "       'pass_through_ball', 'pass_type', 'period', 'play_pattern', 'player',\n",
       "       'player_id', 'position', 'possession', 'possession_team',\n",
       "       'possession_team_id', 'related_events', 'second', 'shot_aerial_won',\n",
       "       'shot_body_part', 'shot_end_location', 'shot_first_time',\n",
       "       'shot_freeze_frame', 'shot_key_pass_id', 'shot_one_on_one',\n",
       "       'shot_open_goal', 'shot_outcome', 'shot_statsbomb_xg', 'shot_technique',\n",
       "       'shot_type', 'substitution_outcome', 'substitution_replacement',\n",
       "       'tactics', 'team', 'team_id', 'timestamp', 'type', 'under_pressure',\n",
       "       'opposing_team'],\n",
       "      dtype='object')"
      ]
     },
     "execution_count": 9,
     "metadata": {},
     "output_type": "execute_result"
    }
   ],
   "source": [
    "df_match.columns"
   ]
  },
  {
   "cell_type": "code",
   "execution_count": null,
   "id": "162738e2",
   "metadata": {},
   "outputs": [],
   "source": [
    "df_match['shot_outcome'].unique()"
   ]
  },
  {
   "cell_type": "code",
   "execution_count": null,
   "id": "7b67e0a3",
   "metadata": {},
   "outputs": [],
   "source": [
    "df_match['play_pattern'].unique()"
   ]
  },
  {
   "cell_type": "markdown",
   "id": "6003fc77",
   "metadata": {},
   "source": [
    "# setting up the x_start & y_start columns"
   ]
  },
  {
   "cell_type": "code",
   "execution_count": 10,
   "id": "d99c6d89",
   "metadata": {
    "collapsed": true
   },
   "outputs": [
    {
     "data": {
      "text/plain": [
       "Index(['ball_receipt_outcome', 'ball_recovery_recovery_failure',\n",
       "       'block_offensive', 'carry_end_location', 'clearance_aerial_won',\n",
       "       'clearance_body_part', 'clearance_head', 'clearance_left_foot',\n",
       "       'clearance_right_foot', 'counterpress', 'dribble_nutmeg',\n",
       "       'dribble_outcome', 'dribble_overrun', 'duel_outcome', 'duel_type',\n",
       "       'duration', 'foul_committed_advantage', 'foul_committed_offensive',\n",
       "       'foul_committed_type', 'foul_won_advantage', 'foul_won_defensive',\n",
       "       'goalkeeper_body_part', 'goalkeeper_end_location', 'goalkeeper_outcome',\n",
       "       'goalkeeper_position', 'goalkeeper_technique', 'goalkeeper_type', 'id',\n",
       "       'index', 'interception_outcome', 'location', 'match_id', 'minute',\n",
       "       'miscontrol_aerial_won', 'off_camera', 'out', 'pass_aerial_won',\n",
       "       'pass_angle', 'pass_assisted_shot_id', 'pass_body_part', 'pass_cross',\n",
       "       'pass_cut_back', 'pass_deflected', 'pass_end_location', 'pass_height',\n",
       "       'pass_inswinging', 'pass_length', 'pass_miscommunication',\n",
       "       'pass_no_touch', 'pass_outcome', 'pass_outswinging', 'pass_recipient',\n",
       "       'pass_shot_assist', 'pass_straight', 'pass_switch', 'pass_technique',\n",
       "       'pass_through_ball', 'pass_type', 'period', 'play_pattern', 'player',\n",
       "       'player_id', 'position', 'possession', 'possession_team',\n",
       "       'possession_team_id', 'related_events', 'second', 'shot_aerial_won',\n",
       "       'shot_body_part', 'shot_end_location', 'shot_first_time',\n",
       "       'shot_freeze_frame', 'shot_key_pass_id', 'shot_one_on_one',\n",
       "       'shot_open_goal', 'shot_outcome', 'shot_statsbomb_xg', 'shot_technique',\n",
       "       'shot_type', 'substitution_outcome', 'substitution_replacement',\n",
       "       'tactics', 'team', 'team_id', 'timestamp', 'type', 'under_pressure',\n",
       "       'opposing_team', 'X_start', 'Y_start'],\n",
       "      dtype='object')"
      ]
     },
     "execution_count": 10,
     "metadata": {},
     "output_type": "execute_result"
    }
   ],
   "source": [
    "df_match[['X_start', 'Y_start']] = df_match['location'].apply(pd.Series)\n",
    "df_match.columns"
   ]
  },
  {
   "cell_type": "markdown",
   "id": "cb7a28b5",
   "metadata": {},
   "source": [
    "# setting up the x_end, y_end columns"
   ]
  },
  {
   "cell_type": "code",
   "execution_count": 16,
   "id": "ed652878",
   "metadata": {},
   "outputs": [],
   "source": [
    "df_match[['X_end_pass', 'Y_end_pass']] = df_match['pass_end_location'].apply(pd.Series)\n",
    "df_match[['X_end_carry', 'Y_end_carry']] = df_match['carry_end_location'].apply(pd.Series)\n",
    "df_match[['X_end_shot', 'Y_end_shot', 'Z_end_shot']] = df_match['shot_end_location'].apply(pd.Series)\n",
    "df_match[['X_end_gk', 'Y_end_gk']] = df_match['goalkeeper_end_location'].apply(pd.Series)"
   ]
  },
  {
   "cell_type": "code",
   "execution_count": 17,
   "id": "05e40a59",
   "metadata": {},
   "outputs": [
    {
     "data": {
      "text/plain": [
       "Index(['ball_receipt_outcome', 'ball_recovery_recovery_failure',\n",
       "       'block_offensive', 'carry_end_location', 'clearance_aerial_won',\n",
       "       'clearance_body_part', 'clearance_head', 'clearance_left_foot',\n",
       "       'clearance_right_foot', 'counterpress', 'dribble_nutmeg',\n",
       "       'dribble_outcome', 'dribble_overrun', 'duel_outcome', 'duel_type',\n",
       "       'duration', 'foul_committed_advantage', 'foul_committed_offensive',\n",
       "       'foul_committed_type', 'foul_won_advantage', 'foul_won_defensive',\n",
       "       'goalkeeper_body_part', 'goalkeeper_end_location', 'goalkeeper_outcome',\n",
       "       'goalkeeper_position', 'goalkeeper_technique', 'goalkeeper_type', 'id',\n",
       "       'index', 'interception_outcome', 'location', 'match_id', 'minute',\n",
       "       'miscontrol_aerial_won', 'off_camera', 'out', 'pass_aerial_won',\n",
       "       'pass_angle', 'pass_assisted_shot_id', 'pass_body_part', 'pass_cross',\n",
       "       'pass_cut_back', 'pass_deflected', 'pass_end_location', 'pass_height',\n",
       "       'pass_inswinging', 'pass_length', 'pass_miscommunication',\n",
       "       'pass_no_touch', 'pass_outcome', 'pass_outswinging', 'pass_recipient',\n",
       "       'pass_shot_assist', 'pass_straight', 'pass_switch', 'pass_technique',\n",
       "       'pass_through_ball', 'pass_type', 'period', 'play_pattern', 'player',\n",
       "       'player_id', 'position', 'possession', 'possession_team',\n",
       "       'possession_team_id', 'related_events', 'second', 'shot_aerial_won',\n",
       "       'shot_body_part', 'shot_end_location', 'shot_first_time',\n",
       "       'shot_freeze_frame', 'shot_key_pass_id', 'shot_one_on_one',\n",
       "       'shot_open_goal', 'shot_outcome', 'shot_statsbomb_xg', 'shot_technique',\n",
       "       'shot_type', 'substitution_outcome', 'substitution_replacement',\n",
       "       'tactics', 'team', 'team_id', 'timestamp', 'type', 'under_pressure',\n",
       "       'opposing_team', 'X_start', 'Y_start', 'X_end_pass', 'Y_end_pass',\n",
       "       'X_end_carry', 'Y_end_carry', 'X_end_shot', 'Y_end_shot', 'Z_end_shot',\n",
       "       'X_end_gk', 'Y_end_gk'],\n",
       "      dtype='object')"
      ]
     },
     "execution_count": 17,
     "metadata": {},
     "output_type": "execute_result"
    }
   ],
   "source": [
    "df_match.columns"
   ]
  },
  {
   "cell_type": "code",
   "execution_count": 23,
   "id": "15160889",
   "metadata": {},
   "outputs": [
    {
     "data": {
      "text/plain": [
       "pandas.core.series.Series"
      ]
     },
     "execution_count": 23,
     "metadata": {},
     "output_type": "execute_result"
    }
   ],
   "source": [
    "type(df_match['pass_end_location'])"
   ]
  },
  {
   "cell_type": "code",
   "execution_count": 27,
   "id": "ef503eff",
   "metadata": {},
   "outputs": [
    {
     "data": {
      "text/plain": [
       "Index(['ball_receipt_outcome', 'ball_recovery_recovery_failure',\n",
       "       'block_offensive', 'carry_end_location', 'clearance_aerial_won',\n",
       "       'clearance_body_part', 'clearance_head', 'clearance_left_foot',\n",
       "       'clearance_right_foot', 'counterpress', 'dribble_nutmeg',\n",
       "       'dribble_outcome', 'dribble_overrun', 'duel_outcome', 'duel_type',\n",
       "       'duration', 'foul_committed_advantage', 'foul_committed_offensive',\n",
       "       'foul_committed_type', 'foul_won_advantage', 'foul_won_defensive',\n",
       "       'goalkeeper_body_part', 'goalkeeper_end_location', 'goalkeeper_outcome',\n",
       "       'goalkeeper_position', 'goalkeeper_technique', 'goalkeeper_type', 'id',\n",
       "       'index', 'interception_outcome', 'location', 'match_id', 'minute',\n",
       "       'miscontrol_aerial_won', 'off_camera', 'out', 'pass_aerial_won',\n",
       "       'pass_angle', 'pass_assisted_shot_id', 'pass_body_part', 'pass_cross',\n",
       "       'pass_cut_back', 'pass_deflected', 'pass_end_location', 'pass_height',\n",
       "       'pass_inswinging', 'pass_length', 'pass_miscommunication',\n",
       "       'pass_no_touch', 'pass_outcome', 'pass_outswinging', 'pass_recipient',\n",
       "       'pass_shot_assist', 'pass_straight', 'pass_switch', 'pass_technique',\n",
       "       'pass_through_ball', 'pass_type', 'period', 'play_pattern', 'player',\n",
       "       'player_id', 'position', 'possession', 'possession_team',\n",
       "       'possession_team_id', 'related_events', 'second', 'shot_aerial_won',\n",
       "       'shot_body_part', 'shot_end_location', 'shot_first_time',\n",
       "       'shot_freeze_frame', 'shot_key_pass_id', 'shot_one_on_one',\n",
       "       'shot_open_goal', 'shot_outcome', 'shot_statsbomb_xg', 'shot_technique',\n",
       "       'shot_type', 'substitution_outcome', 'substitution_replacement',\n",
       "       'tactics', 'team', 'team_id', 'timestamp', 'type', 'under_pressure',\n",
       "       'opposing_team', 'X_start', 'Y_start', 'Z_end_shot', 'x_end', 'y_end'],\n",
       "      dtype='object')"
      ]
     },
     "execution_count": 27,
     "metadata": {},
     "output_type": "execute_result"
    }
   ],
   "source": [
    "# Combine 'x_end' columns into one column 'x_end'\n",
    "X_end_columns = [col for col in df_match.columns if 'X_end' in col]\n",
    "df_match['x_end'] = df_match[X_end_columns].apply(lambda row: row.dropna().iloc[0] if not row.dropna().empty else np.nan, axis=1)\n",
    "\n",
    "\n",
    "# Combine 'y_end' columns into one column 'y_end'\n",
    "Y_end_columns = [col for col in df_match.columns if 'Y_end' in col]\n",
    "df_match['y_end'] = df_match[Y_end_columns].apply(lambda row: row.dropna().iloc[0] if not row.dropna().empty else np.nan, axis=1)\n",
    "\n",
    "# Drop the original 'x_end' and 'y_end' columns\n",
    "df_match = df_match.drop(columns=X_end_columns + Y_end_columns)\n",
    "df_match.columns"
   ]
  },
  {
   "cell_type": "code",
   "execution_count": 29,
   "id": "a092476f",
   "metadata": {},
   "outputs": [
    {
     "data": {
      "text/html": [
       "<div>\n",
       "<style scoped>\n",
       "    .dataframe tbody tr th:only-of-type {\n",
       "        vertical-align: middle;\n",
       "    }\n",
       "\n",
       "    .dataframe tbody tr th {\n",
       "        vertical-align: top;\n",
       "    }\n",
       "\n",
       "    .dataframe thead th {\n",
       "        text-align: right;\n",
       "    }\n",
       "</style>\n",
       "<table border=\"1\" class=\"dataframe\">\n",
       "  <thead>\n",
       "    <tr style=\"text-align: right;\">\n",
       "      <th></th>\n",
       "      <th>x_end</th>\n",
       "    </tr>\n",
       "  </thead>\n",
       "  <tbody>\n",
       "    <tr>\n",
       "      <th>count</th>\n",
       "      <td>1942.000000</td>\n",
       "    </tr>\n",
       "    <tr>\n",
       "      <th>mean</th>\n",
       "      <td>56.419310</td>\n",
       "    </tr>\n",
       "    <tr>\n",
       "      <th>std</th>\n",
       "      <td>30.842252</td>\n",
       "    </tr>\n",
       "    <tr>\n",
       "      <th>min</th>\n",
       "      <td>1.500000</td>\n",
       "    </tr>\n",
       "    <tr>\n",
       "      <th>25%</th>\n",
       "      <td>32.150000</td>\n",
       "    </tr>\n",
       "    <tr>\n",
       "      <th>50%</th>\n",
       "      <td>52.900000</td>\n",
       "    </tr>\n",
       "    <tr>\n",
       "      <th>75%</th>\n",
       "      <td>79.775000</td>\n",
       "    </tr>\n",
       "    <tr>\n",
       "      <th>max</th>\n",
       "      <td>120.000000</td>\n",
       "    </tr>\n",
       "  </tbody>\n",
       "</table>\n",
       "</div>"
      ],
      "text/plain": [
       "             x_end\n",
       "count  1942.000000\n",
       "mean     56.419310\n",
       "std      30.842252\n",
       "min       1.500000\n",
       "25%      32.150000\n",
       "50%      52.900000\n",
       "75%      79.775000\n",
       "max     120.000000"
      ]
     },
     "execution_count": 29,
     "metadata": {},
     "output_type": "execute_result"
    }
   ],
   "source": [
    "df_match[['x_end']].describe()"
   ]
  },
  {
   "cell_type": "code",
   "execution_count": null,
   "id": "a069a8cd",
   "metadata": {},
   "outputs": [],
   "source": []
  },
  {
   "cell_type": "code",
   "execution_count": null,
   "id": "3e96f7f1",
   "metadata": {},
   "outputs": [],
   "source": []
  },
  {
   "cell_type": "code",
   "execution_count": null,
   "id": "5b49825f",
   "metadata": {},
   "outputs": [],
   "source": []
  },
  {
   "cell_type": "code",
   "execution_count": null,
   "id": "6afeee7a",
   "metadata": {},
   "outputs": [],
   "source": [
    "home_team = df_match['team'].iloc[0]\n",
    "away_team = df_match['team'].iloc[1]\n",
    "\n",
    "def out_of_possession_team(row):\n",
    "    if row['possession_team'] == home_team:\n",
    "        return away_team\n",
    "    elif row['possession_team'] == away_team:\n",
    "        return home_team\n",
    "    else:\n",
    "        return None\n",
    "\n",
    "df_match['defending_team'] = df_match.apply(out_of_possession_team, axis=1)"
   ]
  },
  {
   "cell_type": "code",
   "execution_count": null,
   "id": "12313c2a",
   "metadata": {},
   "outputs": [],
   "source": []
  },
  {
   "cell_type": "code",
   "execution_count": null,
   "id": "307d64fd",
   "metadata": {},
   "outputs": [],
   "source": []
  },
  {
   "cell_type": "code",
   "execution_count": null,
   "id": "7398463e",
   "metadata": {},
   "outputs": [],
   "source": [
    "## create split DF's for each team ##\n",
    "df_home_team = df[df['possession_team'] == home_team]\n",
    "df_away_team = df[df['possession_team'] == away_team]"
   ]
  },
  {
   "cell_type": "code",
   "execution_count": null,
   "id": "460a61bc",
   "metadata": {},
   "outputs": [],
   "source": []
  },
  {
   "cell_type": "code",
   "execution_count": 15,
   "id": "bc939f4a",
   "metadata": {
    "scrolled": true
   },
   "outputs": [
    {
     "data": {
      "text/plain": [
       "pandas.core.series.Series"
      ]
     },
     "execution_count": 15,
     "metadata": {},
     "output_type": "execute_result"
    }
   ],
   "source": [
    "type(df_match[['pass_end_location']].iloc[36])"
   ]
  },
  {
   "cell_type": "code",
   "execution_count": null,
   "id": "f5b6e497",
   "metadata": {},
   "outputs": [],
   "source": []
  }
 ],
 "metadata": {
  "kernelspec": {
   "display_name": "Python 3 (ipykernel)",
   "language": "python",
   "name": "python3"
  },
  "language_info": {
   "codemirror_mode": {
    "name": "ipython",
    "version": 3
   },
   "file_extension": ".py",
   "mimetype": "text/x-python",
   "name": "python",
   "nbconvert_exporter": "python",
   "pygments_lexer": "ipython3",
   "version": "3.11.3"
  }
 },
 "nbformat": 4,
 "nbformat_minor": 5
}
