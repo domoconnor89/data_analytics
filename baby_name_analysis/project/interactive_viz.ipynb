{
 "cells": [
  {
   "cell_type": "markdown",
   "id": "6c3ecbdf",
   "metadata": {},
   "source": [
    "# GENDER AMBIGUOUS NAMES - VISUALIZATION"
   ]
  },
  {
   "cell_type": "markdown",
   "id": "df589e85",
   "metadata": {},
   "source": [
    "### WHEN FRIENDS OF MINE WERE EXPECTING THEIR FIRST BORN, WE INEVITABLY SPOKE ABOUT NAMES... \n",
    "_WHERE WOULD YOU FIND INSPIRATION? WOULD IT  NEED TO BE SOMETHING UNIQUE? ARE THERE NAMES YOU'D WANT TO AVOID?_ \n",
    "\n",
    "#### IT TURNED OUT THEY WANTED A NAME WHICH WOULD WORK REGARDLESS OF WHETHER THEY WERE TO HAVE A BOY OR GIRL. I KNEW ABOUT THE USA'S SOCIAL SECURITY DATABASE AND THOUGHT THAT IT COULD COME IN HANDY FOR SOMETHING LIKE THIS...\n",
    "\n",
    "#### Below, we have a scatter graph which allows the user to plot a number of random names, define how modern the names will be by selecting a year range, and how ambiguous the gender of the name would be having given it an ambiguity factor from 0-100..."
   ]
  },
  {
   "cell_type": "code",
   "execution_count": 1,
   "id": "3a7e805c",
   "metadata": {},
   "outputs": [],
   "source": [
    "import pandas as pd\n",
    "import plotly.express as px\n",
    "import streamlit as st\n",
    "import matplotlib.pyplot as plt\n",
    "import seaborn as sns\n",
    "import numpy as np"
   ]
  },
  {
   "cell_type": "code",
   "execution_count": 11,
   "id": "ceca4bf1",
   "metadata": {},
   "outputs": [],
   "source": [
    "def random_name_viz(min_year, max_year, min_ambig_scr, max_ambig_scr, smpl_size):\n",
    "    \n",
    "## Import File and Sort\n",
    "    all_df = pd.read_csv('../data/baby_names_all_years.csv')\n",
    "    all_df.sort_values(by=['year', 'name', 'gender'], ascending=[False, True, False], inplace=True)\n",
    "    \n",
    "## Pivot to reduce name & year to one row, with female and male quantities as new values\n",
    "    pivot_df = all_df.pivot_table(index=['name', 'year'], \n",
    "                              columns='gender', values='frequency', \n",
    "                              aggfunc='sum').reset_index()\n",
    "\n",
    "    pivot_df.sort_values(by=['year', 'name'], ascending=[False, True],inplace=True)\n",
    "    pivot_df.reset_index(drop=True,inplace=True)\n",
    "    pivot_df.fillna(0,inplace=True)\n",
    "    pivot_df.rename(columns={'M': 'male_freq', 'F': 'feme_freq'}, inplace=True)\n",
    "    \n",
    "    pivot_df['ttl_freq'] = pivot_df['feme_freq'] + pivot_df['male_freq']\n",
    "\n",
    "    pivot_df['feme_pc'] = round((pivot_df['feme_freq'] / pivot_df['ttl_freq'])*100,2)\n",
    "    pivot_df['male_pc'] = round((pivot_df['male_freq'] / pivot_df['ttl_freq'])*100,2)\n",
    "\n",
    "    pivot_df = pivot_df[['year','name','ttl_freq',\n",
    "                         'feme_freq','feme_pc','male_freq','male_pc']]\n",
    "    \n",
    "## Add the ambiguity score for each name per year\n",
    "\n",
    "    def calc_ambig_scr(row):\n",
    "        male_pc = row['male_pc']\n",
    "        feme_pc = row['feme_pc']\n",
    "        if feme_pc < 50:\n",
    "            return feme_pc * 2\n",
    "        else:\n",
    "            return male_pc * 2\n",
    "\n",
    "    pivot_df['ambig_scr'] = pivot_df.apply(lambda row: calc_ambig_scr(row), axis=1)\n",
    "    pivot_df['weblink'] = pivot_df['name'].apply(lambda x: f'<a href=\"https://babynames.com/name/{x}\">{x}</a>')\n",
    "    \n",
    "## Create a Function to make these variable sample dataframes\n",
    "    def sample_df(min_year, max_year, min_ambig_scr, max_ambig_scr, smpl_size):\n",
    "        sample_df = pivot_df[(pivot_df['year'] >= min_year) & \n",
    "                             (pivot_df['year'] <= max_year) &\n",
    "                             (pivot_df['ambig_scr'] >= min_ambig_scr) &\n",
    "                             (pivot_df['ambig_scr'] <= max_ambig_scr)]\n",
    "    \n",
    "        sample_df = sample_df.pivot_table(index='name', \n",
    "                              values=['ttl_freq', 'feme_freq', 'male_freq',\n",
    "                                      'feme_pc','male_pc', 'ambig_scr', 'weblink'], \n",
    "                              aggfunc={'ttl_freq': 'sum', 'feme_freq': 'sum', 'male_freq': 'sum', \n",
    "                                       'feme_pc': 'mean', 'male_pc': 'mean', 'ambig_scr': 'mean', \n",
    "                                       'weblink': 'min'})\n",
    "    \n",
    "        sample_df = sample_df.round(2)\n",
    "    \n",
    "        df = sample_df.sample(smpl_size)\n",
    "        return df.reset_index()\n",
    "    \n",
    "## Visualisation\n",
    "\n",
    "    data = sample_df(min_year, max_year, min_ambig_scr, max_ambig_scr, smpl_size)\n",
    "\n",
    "    fig = px.scatter(data, x='ambig_scr', y='name', \n",
    "                     color='male_pc', size='ttl_freq',\n",
    "                     hover_name='name', \n",
    "                     hover_data={'ambig_scr': True, 'ttl_freq': True, \n",
    "                                 'male_pc': True, 'feme_pc': True,\n",
    "                                 'weblink':True},\n",
    "                     color_continuous_scale='RdBu', range_color=[0, 100], \n",
    "                     labels={'name': 'Name','ambig_scr': 'Ambiguity Score', \n",
    "                             'ttl_freq': 'Count', \n",
    "                             'male_pc': '% as Male',\n",
    "                             'feme_pc': '% as Female',\n",
    "                             'weblink':'More Info'})\n",
    "\n",
    "    fig.update_traces(marker=dict(size=data['ttl_freq']*3, line=dict(color='black', width=1)))\n",
    "\n",
    "    fig.update_layout(title='Random Name Genrator',\n",
    "                      xaxis_title='Ambiguity Score',\n",
    "                      yaxis_title='Names',\n",
    "                      coloraxis_colorbar=dict(title='Male Percentage'),\n",
    "                      height=600,\n",
    "                      plot_bgcolor='#f3f4f4',\n",
    "                      clickmode='event+select')\n",
    "\n",
    "    fig.update_xaxes(range=[0, 100])\n",
    "\n",
    "    fig.show(renderer='notebook_connected')"
   ]
  },
  {
   "cell_type": "code",
   "execution_count": 9,
   "id": "dafd9602",
   "metadata": {},
   "outputs": [
    {
     "data": {
      "text/html": [
       "<iframe\n",
       "    scrolling=\"no\"\n",
       "    width=\"100%\"\n",
       "    height=\"620\"\n",
       "    src=\"iframe_figures/figure_9.html\"\n",
       "    frameborder=\"0\"\n",
       "    allowfullscreen\n",
       "></iframe>\n"
      ]
     },
     "metadata": {},
     "output_type": "display_data"
    }
   ],
   "source": [
    "## input: Year Start, Year End, Min. Ambiguity, Max. Ambiguity, Number of Names to Output\n",
    "\n",
    "random_name_viz(1920, 1922, 46, 92, 8)"
   ]
  },
  {
   "cell_type": "code",
   "execution_count": null,
   "id": "bdcda55a",
   "metadata": {},
   "outputs": [],
   "source": [
    "1"
   ]
  }
 ],
 "metadata": {
  "kernelspec": {
   "display_name": "Python 3 (ipykernel)",
   "language": "python",
   "name": "python3"
  },
  "language_info": {
   "codemirror_mode": {
    "name": "ipython",
    "version": 3
   },
   "file_extension": ".py",
   "mimetype": "text/x-python",
   "name": "python",
   "nbconvert_exporter": "python",
   "pygments_lexer": "ipython3",
   "version": "3.11.3"
  }
 },
 "nbformat": 4,
 "nbformat_minor": 5
}
