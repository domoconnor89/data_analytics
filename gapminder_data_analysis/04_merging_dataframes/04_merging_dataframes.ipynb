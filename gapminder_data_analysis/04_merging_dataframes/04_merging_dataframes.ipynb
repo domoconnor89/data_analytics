{
 "cells": [
  {
   "cell_type": "markdown",
   "id": "7dfb94f7",
   "metadata": {},
   "source": [
    "1. Open empty notebook and read in life_expectancy and continents datasets. Both of these datasets are available from earlier lessons. Life expectancy dataset should be a cleaned version of the original dataset (the outcome of Data Cleansing project milestones).\n",
    "\n",
    "\n",
    "\n",
    "2. Merge the two dataframes into one using pandas.DataFrame.merge()\n",
    "\n",
    "**Link to documentation:** [pandas.DataFrame.merge()](https://pandas.pydata.org/pandas-docs/stable/reference/api/pandas.DataFrame.merge.html#pandas.DataFrame.merge)\n",
    "\n",
    "_**Note:** Keep in mind this will render the merged dataframe in your notebook. However in order to execute commands on the merged dataframe you must put it in a variable i.e. df_merged = df1.merge(df2)_\n",
    "\n",
    "3. Repeat steps 1 and 2 with population and total_fertility (the cleaned versions as well) until you have a single dataframe that contains the information from all four original dataframes\n",
    "\n",
    "_**Tip:** the column on which the dataframes are merged on must have the same data type in both dataframes. If you have numbers in both but in one dataframe they are strings and the other integers the dataframes will not merge properly. Use .astype() to remedy this._\n",
    "\n",
    "\n",
    "\n",
    "4. Write new dataframe to hard drive as gapminder_total.csv in this week’s data folder for use in the upcoming lessons."
   ]
  },
  {
   "cell_type": "code",
   "execution_count": 1,
   "id": "bf93116a",
   "metadata": {},
   "outputs": [
    {
     "data": {
      "text/plain": [
       "country             object\n",
       "year                 int64\n",
       "life expectancy    float64\n",
       "dtype: object"
      ]
     },
     "execution_count": 1,
     "metadata": {},
     "output_type": "execute_result"
    }
   ],
   "source": [
    "import pandas as pd\n",
    "\n",
    "# 1. Open empty notebook and read in life_expectancy and continents datasets (cleaned version).\n",
    "\n",
    "life_df = pd.read_csv('../data/expectancy_after_1950.csv',index_col=0)\n",
    "continent_df = pd.read_csv('../data/continents.csv', sep=';')\n",
    "\n",
    "life_df.dtypes"
   ]
  },
  {
   "cell_type": "code",
   "execution_count": 2,
   "id": "32ce2882",
   "metadata": {},
   "outputs": [
    {
     "data": {
      "text/plain": [
       "continent    object\n",
       "country      object\n",
       "dtype: object"
      ]
     },
     "execution_count": 2,
     "metadata": {},
     "output_type": "execute_result"
    }
   ],
   "source": [
    "continent_df.dtypes"
   ]
  },
  {
   "cell_type": "code",
   "execution_count": 3,
   "id": "21c67dc9",
   "metadata": {},
   "outputs": [
    {
     "data": {
      "text/plain": [
       "(13707, 4)"
      ]
     },
     "execution_count": 3,
     "metadata": {},
     "output_type": "execute_result"
    }
   ],
   "source": [
    "# 2. Merge the two dataframes into one using pandas.DataFrame.merge()\n",
    "\n",
    "life_cont_merge = life_df.merge(continent_df, how='left', on='country')\n",
    "life_cont_merge.shape"
   ]
  },
  {
   "cell_type": "code",
   "execution_count": 4,
   "id": "16c3773c",
   "metadata": {},
   "outputs": [
    {
     "data": {
      "text/plain": [
       "country       object\n",
       "year           int64\n",
       "fertility    float64\n",
       "dtype: object"
      ]
     },
     "execution_count": 4,
     "metadata": {},
     "output_type": "execute_result"
    }
   ],
   "source": [
    "# Repeat steps 1 and 2 with population and total_fertility (the cleaned versions as well) \n",
    "# until you have a single dataframe that contains the information from all four original dataframes.\n",
    "\n",
    "fert_df = pd.read_csv('../data/fertility_after_1950.csv',index_col=0)\n",
    "\n",
    "fert_df.dtypes"
   ]
  },
  {
   "cell_type": "code",
   "execution_count": 5,
   "id": "62154e43",
   "metadata": {},
   "outputs": [
    {
     "data": {
      "text/plain": [
       "(13262, 4)"
      ]
     },
     "execution_count": 5,
     "metadata": {},
     "output_type": "execute_result"
    }
   ],
   "source": [
    "fert_cont_merge = fert_df.merge(continent_df, how='left', on='country')\n",
    "fert_cont_merge.shape"
   ]
  },
  {
   "cell_type": "code",
   "execution_count": 8,
   "id": "c8f94c7f",
   "metadata": {},
   "outputs": [],
   "source": [
    "pop_df = pd.read_csv('../data/population_after_1950.csv',index_col=0)\n",
    "\n",
    "pop_df['population'] = pop_df['population'].astype(int)"
   ]
  },
  {
   "cell_type": "code",
   "execution_count": 9,
   "id": "8cb870fa",
   "metadata": {},
   "outputs": [
    {
     "data": {
      "text/plain": [
       "country       object\n",
       "year           int64\n",
       "population     int64\n",
       "dtype: object"
      ]
     },
     "execution_count": 9,
     "metadata": {},
     "output_type": "execute_result"
    }
   ],
   "source": [
    "pop_df.dtypes"
   ]
  },
  {
   "cell_type": "code",
   "execution_count": 15,
   "id": "8c92ca3e",
   "metadata": {},
   "outputs": [
    {
     "data": {
      "text/plain": [
       "country       object\n",
       "year           int64\n",
       "population     int64\n",
       "continent     object\n",
       "dtype: object"
      ]
     },
     "execution_count": 15,
     "metadata": {},
     "output_type": "execute_result"
    }
   ],
   "source": [
    "pop_cont_merge = pop_df.merge(continent_df, how='left', on='country')\n",
    "pop_cont_merge.dtypes"
   ]
  },
  {
   "cell_type": "code",
   "execution_count": 18,
   "id": "a7a9a378",
   "metadata": {},
   "outputs": [
    {
     "data": {
      "text/plain": [
       "country        object\n",
       "year            int64\n",
       "fertility     float64\n",
       "continent      object\n",
       "population    float64\n",
       "dtype: object"
      ]
     },
     "execution_count": 18,
     "metadata": {},
     "output_type": "execute_result"
    }
   ],
   "source": [
    "# 4. Write new dataframe to hard drive as gapminder_total.csv in this week’s data folder\n",
    "# for use in the upcoming lessons.\n",
    "\n",
    "fert_pop_merge = fert_cont_merge.merge(pop_cont_merge, how='outer', on=['year','country','continent'])\n",
    "fert_pop_merge.dtypes"
   ]
  },
  {
   "cell_type": "code",
   "execution_count": 19,
   "id": "24db9f78",
   "metadata": {
    "scrolled": false
   },
   "outputs": [
    {
     "data": {
      "text/plain": [
       "(16953, 6)"
      ]
     },
     "execution_count": 19,
     "metadata": {},
     "output_type": "execute_result"
    }
   ],
   "source": [
    "all_merge = fert_pop_merge.merge(life_cont_merge, how='outer', on=['country','year','continent'])\n",
    "all_merge.shape"
   ]
  },
  {
   "cell_type": "code",
   "execution_count": 20,
   "id": "7dc1f464",
   "metadata": {},
   "outputs": [
    {
     "data": {
      "text/html": [
       "<div>\n",
       "<style scoped>\n",
       "    .dataframe tbody tr th:only-of-type {\n",
       "        vertical-align: middle;\n",
       "    }\n",
       "\n",
       "    .dataframe tbody tr th {\n",
       "        vertical-align: top;\n",
       "    }\n",
       "\n",
       "    .dataframe thead th {\n",
       "        text-align: right;\n",
       "    }\n",
       "</style>\n",
       "<table border=\"1\" class=\"dataframe\">\n",
       "  <thead>\n",
       "    <tr style=\"text-align: right;\">\n",
       "      <th></th>\n",
       "      <th>year</th>\n",
       "      <th>country</th>\n",
       "      <th>continent</th>\n",
       "      <th>population</th>\n",
       "      <th>fertility</th>\n",
       "      <th>life expectancy</th>\n",
       "    </tr>\n",
       "  </thead>\n",
       "  <tbody>\n",
       "    <tr>\n",
       "      <th>0</th>\n",
       "      <td>1950</td>\n",
       "      <td>Afghanistan</td>\n",
       "      <td>Asia</td>\n",
       "      <td>7752118.0</td>\n",
       "      <td>7.67</td>\n",
       "      <td>26.85</td>\n",
       "    </tr>\n",
       "    <tr>\n",
       "      <th>1</th>\n",
       "      <td>1950</td>\n",
       "      <td>Albania</td>\n",
       "      <td>Europe</td>\n",
       "      <td>1263171.0</td>\n",
       "      <td>5.80</td>\n",
       "      <td>54.48</td>\n",
       "    </tr>\n",
       "    <tr>\n",
       "      <th>2</th>\n",
       "      <td>1950</td>\n",
       "      <td>Algeria</td>\n",
       "      <td>Africa</td>\n",
       "      <td>8872247.0</td>\n",
       "      <td>7.65</td>\n",
       "      <td>42.77</td>\n",
       "    </tr>\n",
       "    <tr>\n",
       "      <th>3</th>\n",
       "      <td>1950</td>\n",
       "      <td>Angola</td>\n",
       "      <td>Africa</td>\n",
       "      <td>4354882.0</td>\n",
       "      <td>6.93</td>\n",
       "      <td>30.70</td>\n",
       "    </tr>\n",
       "    <tr>\n",
       "      <th>4</th>\n",
       "      <td>1950</td>\n",
       "      <td>Antigua and Barbuda</td>\n",
       "      <td>North America</td>\n",
       "      <td>46301.0</td>\n",
       "      <td>4.45</td>\n",
       "      <td>57.97</td>\n",
       "    </tr>\n",
       "    <tr>\n",
       "      <th>...</th>\n",
       "      <td>...</td>\n",
       "      <td>...</td>\n",
       "      <td>...</td>\n",
       "      <td>...</td>\n",
       "      <td>...</td>\n",
       "      <td>...</td>\n",
       "    </tr>\n",
       "    <tr>\n",
       "      <th>16948</th>\n",
       "      <td>2016</td>\n",
       "      <td>Virgin Islands (U.S.)</td>\n",
       "      <td>NaN</td>\n",
       "      <td>NaN</td>\n",
       "      <td>NaN</td>\n",
       "      <td>80.82</td>\n",
       "    </tr>\n",
       "    <tr>\n",
       "      <th>16949</th>\n",
       "      <td>2016</td>\n",
       "      <td>Yemen</td>\n",
       "      <td>Asia</td>\n",
       "      <td>NaN</td>\n",
       "      <td>NaN</td>\n",
       "      <td>64.92</td>\n",
       "    </tr>\n",
       "    <tr>\n",
       "      <th>16950</th>\n",
       "      <td>2016</td>\n",
       "      <td>Zambia</td>\n",
       "      <td>Africa</td>\n",
       "      <td>NaN</td>\n",
       "      <td>NaN</td>\n",
       "      <td>57.10</td>\n",
       "    </tr>\n",
       "    <tr>\n",
       "      <th>16951</th>\n",
       "      <td>2016</td>\n",
       "      <td>Zimbabwe</td>\n",
       "      <td>Africa</td>\n",
       "      <td>NaN</td>\n",
       "      <td>NaN</td>\n",
       "      <td>61.69</td>\n",
       "    </tr>\n",
       "    <tr>\n",
       "      <th>16952</th>\n",
       "      <td>2016</td>\n",
       "      <td>South Sudan</td>\n",
       "      <td>Africa</td>\n",
       "      <td>NaN</td>\n",
       "      <td>NaN</td>\n",
       "      <td>56.10</td>\n",
       "    </tr>\n",
       "  </tbody>\n",
       "</table>\n",
       "<p>16953 rows × 6 columns</p>\n",
       "</div>"
      ],
      "text/plain": [
       "       year                country      continent  population  fertility  \\\n",
       "0      1950            Afghanistan           Asia   7752118.0       7.67   \n",
       "1      1950                Albania         Europe   1263171.0       5.80   \n",
       "2      1950                Algeria         Africa   8872247.0       7.65   \n",
       "3      1950                 Angola         Africa   4354882.0       6.93   \n",
       "4      1950    Antigua and Barbuda  North America     46301.0       4.45   \n",
       "...     ...                    ...            ...         ...        ...   \n",
       "16948  2016  Virgin Islands (U.S.)            NaN         NaN        NaN   \n",
       "16949  2016                  Yemen           Asia         NaN        NaN   \n",
       "16950  2016                 Zambia         Africa         NaN        NaN   \n",
       "16951  2016               Zimbabwe         Africa         NaN        NaN   \n",
       "16952  2016            South Sudan         Africa         NaN        NaN   \n",
       "\n",
       "       life expectancy  \n",
       "0                26.85  \n",
       "1                54.48  \n",
       "2                42.77  \n",
       "3                30.70  \n",
       "4                57.97  \n",
       "...                ...  \n",
       "16948            80.82  \n",
       "16949            64.92  \n",
       "16950            57.10  \n",
       "16951            61.69  \n",
       "16952            56.10  \n",
       "\n",
       "[16953 rows x 6 columns]"
      ]
     },
     "execution_count": 20,
     "metadata": {},
     "output_type": "execute_result"
    }
   ],
   "source": [
    "# I've rearranged the columns to a more logical order\n",
    "\n",
    "prefered_order = ['year','country','continent','population','fertility','life expectancy']\n",
    "all_merge = all_merge[prefered_order]\n",
    "all_merge"
   ]
  },
  {
   "cell_type": "code",
   "execution_count": 21,
   "id": "9c6da732",
   "metadata": {},
   "outputs": [
    {
     "data": {
      "text/plain": [
       "year                 int64\n",
       "country             object\n",
       "continent           object\n",
       "population         float64\n",
       "fertility          float64\n",
       "life expectancy    float64\n",
       "dtype: object"
      ]
     },
     "execution_count": 21,
     "metadata": {},
     "output_type": "execute_result"
    }
   ],
   "source": [
    "all_merge.dtypes"
   ]
  },
  {
   "cell_type": "code",
   "execution_count": 22,
   "id": "d8b7f519",
   "metadata": {},
   "outputs": [],
   "source": [
    "all_merge.to_csv('../data/gapminder_total.csv')"
   ]
  },
  {
   "cell_type": "code",
   "execution_count": 25,
   "id": "cf0b1f0d",
   "metadata": {},
   "outputs": [
    {
     "data": {
      "text/plain": [
       "year                  0\n",
       "country               0\n",
       "continent          5033\n",
       "population          212\n",
       "fertility          3691\n",
       "life expectancy    3246\n",
       "dtype: int64"
      ]
     },
     "execution_count": 25,
     "metadata": {},
     "output_type": "execute_result"
    }
   ],
   "source": [
    "# I've re-imported to remove the null values\n",
    "\n",
    "gapminder_total = pd.read_csv('../data/gapminder_total.csv',index_col=0)\n",
    "gapminder_total.isnull().sum()"
   ]
  },
  {
   "cell_type": "code",
   "execution_count": 31,
   "id": "6f651231",
   "metadata": {},
   "outputs": [
    {
     "name": "stdout",
     "output_type": "stream",
     "text": [
      "<class 'pandas.core.frame.DataFrame'>\n",
      "Int64Index: 11920 entries, 0 to 16952\n",
      "Data columns (total 6 columns):\n",
      " #   Column           Non-Null Count  Dtype  \n",
      "---  ------           --------------  -----  \n",
      " 0   year             11920 non-null  int64  \n",
      " 1   country          11920 non-null  object \n",
      " 2   continent        11920 non-null  object \n",
      " 3   population       11748 non-null  float64\n",
      " 4   fertility        11088 non-null  float64\n",
      " 5   life expectancy  11404 non-null  float64\n",
      "dtypes: float64(3), int64(1), object(2)\n",
      "memory usage: 651.9+ KB\n"
     ]
    }
   ],
   "source": [
    "gapminder_no_null = gapminder_total.dropna(axis=0, subset=['continent'])\n",
    "gapminder_no_null.info()"
   ]
  },
  {
   "cell_type": "code",
   "execution_count": 32,
   "id": "05a6499c",
   "metadata": {},
   "outputs": [],
   "source": [
    "gapminder_no_null.to_csv('../data/gapminder_cont_vals.csv')"
   ]
  },
  {
   "cell_type": "code",
   "execution_count": null,
   "id": "5652625c",
   "metadata": {},
   "outputs": [],
   "source": []
  }
 ],
 "metadata": {
  "kernelspec": {
   "display_name": "Python 3 (ipykernel)",
   "language": "python",
   "name": "python3"
  },
  "language_info": {
   "codemirror_mode": {
    "name": "ipython",
    "version": 3
   },
   "file_extension": ".py",
   "mimetype": "text/x-python",
   "name": "python",
   "nbconvert_exporter": "python",
   "pygments_lexer": "ipython3",
   "version": "3.11.3"
  }
 },
 "nbformat": 4,
 "nbformat_minor": 5
}
