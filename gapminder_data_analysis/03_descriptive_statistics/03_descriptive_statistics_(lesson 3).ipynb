{
 "cells": [
  {
   "cell_type": "code",
   "execution_count": 7,
   "id": "f31dd190",
   "metadata": {},
   "outputs": [],
   "source": [
    "import pandas as pd"
   ]
  },
  {
   "cell_type": "markdown",
   "id": "e4c743de",
   "metadata": {},
   "source": [
    "# Descriptive Statistics Challenges\n",
    "<hr style=\"border:2px solid black\">"
   ]
  },
  {
   "cell_type": "markdown",
   "id": "057dfac6",
   "metadata": {},
   "source": [
    "### Solve the following with `pandas` challenges:"
   ]
  },
  {
   "cell_type": "markdown",
   "id": "4605bb53",
   "metadata": {},
   "source": [
    "**1. read the life expectancy cleaned dataset**"
   ]
  },
  {
   "cell_type": "code",
   "execution_count": 8,
   "id": "eee2ef46",
   "metadata": {},
   "outputs": [
    {
     "data": {
      "text/html": [
       "<div>\n",
       "<style scoped>\n",
       "    .dataframe tbody tr th:only-of-type {\n",
       "        vertical-align: middle;\n",
       "    }\n",
       "\n",
       "    .dataframe tbody tr th {\n",
       "        vertical-align: top;\n",
       "    }\n",
       "\n",
       "    .dataframe thead th {\n",
       "        text-align: right;\n",
       "    }\n",
       "</style>\n",
       "<table border=\"1\" class=\"dataframe\">\n",
       "  <thead>\n",
       "    <tr style=\"text-align: right;\">\n",
       "      <th></th>\n",
       "      <th>country</th>\n",
       "      <th>year</th>\n",
       "      <th>life expectancy</th>\n",
       "    </tr>\n",
       "  </thead>\n",
       "  <tbody>\n",
       "    <tr>\n",
       "      <th>39001</th>\n",
       "      <td>Afghanistan</td>\n",
       "      <td>1950</td>\n",
       "      <td>26.85</td>\n",
       "    </tr>\n",
       "    <tr>\n",
       "      <th>39003</th>\n",
       "      <td>Albania</td>\n",
       "      <td>1950</td>\n",
       "      <td>54.48</td>\n",
       "    </tr>\n",
       "    <tr>\n",
       "      <th>39004</th>\n",
       "      <td>Algeria</td>\n",
       "      <td>1950</td>\n",
       "      <td>42.77</td>\n",
       "    </tr>\n",
       "    <tr>\n",
       "      <th>39007</th>\n",
       "      <td>Angola</td>\n",
       "      <td>1950</td>\n",
       "      <td>30.70</td>\n",
       "    </tr>\n",
       "    <tr>\n",
       "      <th>39009</th>\n",
       "      <td>Antigua and Barbuda</td>\n",
       "      <td>1950</td>\n",
       "      <td>57.97</td>\n",
       "    </tr>\n",
       "  </tbody>\n",
       "</table>\n",
       "</div>"
      ],
      "text/plain": [
       "                   country  year  life expectancy\n",
       "39001          Afghanistan  1950            26.85\n",
       "39003              Albania  1950            54.48\n",
       "39004              Algeria  1950            42.77\n",
       "39007               Angola  1950            30.70\n",
       "39009  Antigua and Barbuda  1950            57.97"
      ]
     },
     "execution_count": 8,
     "metadata": {},
     "output_type": "execute_result"
    }
   ],
   "source": [
    "life_df = pd.read_csv('../data/expectancy_after_1950.csv', index_col=0)\n",
    "life_df.head()"
   ]
  },
  {
   "cell_type": "markdown",
   "id": "666ff9e2",
   "metadata": {},
   "source": [
    "**2. calculate the mean life expectancy**"
   ]
  },
  {
   "cell_type": "code",
   "execution_count": 11,
   "id": "22ab9efa",
   "metadata": {},
   "outputs": [
    {
     "data": {
      "text/plain": [
       "62.99"
      ]
     },
     "execution_count": 11,
     "metadata": {},
     "output_type": "execute_result"
    }
   ],
   "source": [
    "mean_life_all = round(life_df['life expectancy'].mean(),2)\n",
    "mean_life_all"
   ]
  },
  {
   "cell_type": "markdown",
   "id": "6cb3c069",
   "metadata": {},
   "source": [
    "**3. calculate the mean life expectancy for the year 2000**"
   ]
  },
  {
   "cell_type": "code",
   "execution_count": 16,
   "id": "462e5732",
   "metadata": {},
   "outputs": [
    {
     "data": {
      "text/plain": [
       "68.08"
      ]
     },
     "execution_count": 16,
     "metadata": {},
     "output_type": "execute_result"
    }
   ],
   "source": [
    "life_2000 = life_df[life_df['year'] == 2000]\n",
    "mean_life_2000 = round(life_2000['life expectancy'].mean(),2)\n",
    "mean_life_2000"
   ]
  },
  {
   "cell_type": "markdown",
   "id": "6d22fa1e",
   "metadata": {},
   "source": [
    "**4. calculate the median for 1995**"
   ]
  },
  {
   "cell_type": "code",
   "execution_count": 19,
   "id": "880a8a60",
   "metadata": {
    "scrolled": false
   },
   "outputs": [
    {
     "data": {
      "text/html": [
       "<div>\n",
       "<style scoped>\n",
       "    .dataframe tbody tr th:only-of-type {\n",
       "        vertical-align: middle;\n",
       "    }\n",
       "\n",
       "    .dataframe tbody tr th {\n",
       "        vertical-align: top;\n",
       "    }\n",
       "\n",
       "    .dataframe thead th {\n",
       "        text-align: right;\n",
       "    }\n",
       "</style>\n",
       "<table border=\"1\" class=\"dataframe\">\n",
       "  <thead>\n",
       "    <tr style=\"text-align: right;\">\n",
       "      <th></th>\n",
       "      <th>country</th>\n",
       "      <th>year</th>\n",
       "      <th>life expectancy</th>\n",
       "    </tr>\n",
       "  </thead>\n",
       "  <tbody>\n",
       "    <tr>\n",
       "      <th>50886</th>\n",
       "      <td>Rwanda</td>\n",
       "      <td>1995</td>\n",
       "      <td>43.80</td>\n",
       "    </tr>\n",
       "    <tr>\n",
       "      <th>50734</th>\n",
       "      <td>Burundi</td>\n",
       "      <td>1995</td>\n",
       "      <td>44.50</td>\n",
       "    </tr>\n",
       "    <tr>\n",
       "      <th>50740</th>\n",
       "      <td>Central African Republic</td>\n",
       "      <td>1995</td>\n",
       "      <td>46.70</td>\n",
       "    </tr>\n",
       "    <tr>\n",
       "      <th>50956</th>\n",
       "      <td>Zambia</td>\n",
       "      <td>1995</td>\n",
       "      <td>46.90</td>\n",
       "    </tr>\n",
       "    <tr>\n",
       "      <th>50834</th>\n",
       "      <td>Malawi</td>\n",
       "      <td>1995</td>\n",
       "      <td>46.90</td>\n",
       "    </tr>\n",
       "    <tr>\n",
       "      <th>...</th>\n",
       "      <td>...</td>\n",
       "      <td>...</td>\n",
       "      <td>...</td>\n",
       "    </tr>\n",
       "    <tr>\n",
       "      <th>50798</th>\n",
       "      <td>Hong Kong, China</td>\n",
       "      <td>1995</td>\n",
       "      <td>78.72</td>\n",
       "    </tr>\n",
       "    <tr>\n",
       "      <th>50918</th>\n",
       "      <td>Sweden</td>\n",
       "      <td>1995</td>\n",
       "      <td>78.90</td>\n",
       "    </tr>\n",
       "    <tr>\n",
       "      <th>50800</th>\n",
       "      <td>Iceland</td>\n",
       "      <td>1995</td>\n",
       "      <td>78.90</td>\n",
       "    </tr>\n",
       "    <tr>\n",
       "      <th>50810</th>\n",
       "      <td>Japan</td>\n",
       "      <td>1995</td>\n",
       "      <td>79.70</td>\n",
       "    </tr>\n",
       "    <tr>\n",
       "      <th>50706</th>\n",
       "      <td>Andorra</td>\n",
       "      <td>1995</td>\n",
       "      <td>82.60</td>\n",
       "    </tr>\n",
       "  </tbody>\n",
       "</table>\n",
       "<p>208 rows × 3 columns</p>\n",
       "</div>"
      ],
      "text/plain": [
       "                        country  year  life expectancy\n",
       "50886                    Rwanda  1995            43.80\n",
       "50734                   Burundi  1995            44.50\n",
       "50740  Central African Republic  1995            46.70\n",
       "50956                    Zambia  1995            46.90\n",
       "50834                    Malawi  1995            46.90\n",
       "...                         ...   ...              ...\n",
       "50798          Hong Kong, China  1995            78.72\n",
       "50918                    Sweden  1995            78.90\n",
       "50800                   Iceland  1995            78.90\n",
       "50810                     Japan  1995            79.70\n",
       "50706                   Andorra  1995            82.60\n",
       "\n",
       "[208 rows x 3 columns]"
      ]
     },
     "execution_count": 19,
     "metadata": {},
     "output_type": "execute_result"
    }
   ],
   "source": [
    "life_1995 = life_df[life_df['year'] == 1995]\n",
    "life_1995 = life_1995.sort_values(by='life expectancy', ascending=True)\n",
    "life_1995"
   ]
  },
  {
   "cell_type": "code",
   "execution_count": 21,
   "id": "8b53f62b",
   "metadata": {},
   "outputs": [
    {
     "data": {
      "text/plain": [
       "70.0"
      ]
     },
     "execution_count": 21,
     "metadata": {},
     "output_type": "execute_result"
    }
   ],
   "source": [
    "median_life_1995 = life_1995['life expectancy'].median()\n",
    "median_life_1995"
   ]
  },
  {
   "cell_type": "markdown",
   "id": "f61b4e5f",
   "metadata": {},
   "source": [
    "**5. calculate the standard deviation**"
   ]
  },
  {
   "cell_type": "code",
   "execution_count": 23,
   "id": "3978ce96",
   "metadata": {},
   "outputs": [
    {
     "data": {
      "text/plain": [
       "11.89557179977114"
      ]
     },
     "execution_count": 23,
     "metadata": {},
     "output_type": "execute_result"
    }
   ],
   "source": [
    "std_life_all = life_df['life expectancy'].std()\n",
    "std_life_all"
   ]
  },
  {
   "cell_type": "markdown",
   "id": "cab8ab89",
   "metadata": {},
   "source": [
    "**6. find the highest life expectancy**"
   ]
  },
  {
   "cell_type": "code",
   "execution_count": 26,
   "id": "df080e6e",
   "metadata": {},
   "outputs": [
    {
     "data": {
      "text/plain": [
       "84.8"
      ]
     },
     "execution_count": 26,
     "metadata": {},
     "output_type": "execute_result"
    }
   ],
   "source": [
    "max_life_all = life_df['life expectancy'].max()\n",
    "max_life_all"
   ]
  },
  {
   "cell_type": "markdown",
   "id": "403ebc95",
   "metadata": {},
   "source": [
    "**7. find the country and year for the highest life expectancy**"
   ]
  },
  {
   "cell_type": "code",
   "execution_count": 27,
   "id": "21448dc8",
   "metadata": {},
   "outputs": [
    {
     "data": {
      "text/html": [
       "<div>\n",
       "<style scoped>\n",
       "    .dataframe tbody tr th:only-of-type {\n",
       "        vertical-align: middle;\n",
       "    }\n",
       "\n",
       "    .dataframe tbody tr th {\n",
       "        vertical-align: top;\n",
       "    }\n",
       "\n",
       "    .dataframe thead th {\n",
       "        text-align: right;\n",
       "    }\n",
       "</style>\n",
       "<table border=\"1\" class=\"dataframe\">\n",
       "  <thead>\n",
       "    <tr style=\"text-align: right;\">\n",
       "      <th></th>\n",
       "      <th>country</th>\n",
       "      <th>year</th>\n",
       "      <th>life expectancy</th>\n",
       "    </tr>\n",
       "  </thead>\n",
       "  <tbody>\n",
       "    <tr>\n",
       "      <th>55386</th>\n",
       "      <td>Andorra</td>\n",
       "      <td>2013</td>\n",
       "      <td>84.8</td>\n",
       "    </tr>\n",
       "    <tr>\n",
       "      <th>55646</th>\n",
       "      <td>Andorra</td>\n",
       "      <td>2014</td>\n",
       "      <td>84.8</td>\n",
       "    </tr>\n",
       "    <tr>\n",
       "      <th>55906</th>\n",
       "      <td>Andorra</td>\n",
       "      <td>2015</td>\n",
       "      <td>84.8</td>\n",
       "    </tr>\n",
       "    <tr>\n",
       "      <th>56166</th>\n",
       "      <td>Andorra</td>\n",
       "      <td>2016</td>\n",
       "      <td>84.8</td>\n",
       "    </tr>\n",
       "  </tbody>\n",
       "</table>\n",
       "</div>"
      ],
      "text/plain": [
       "       country  year  life expectancy\n",
       "55386  Andorra  2013             84.8\n",
       "55646  Andorra  2014             84.8\n",
       "55906  Andorra  2015             84.8\n",
       "56166  Andorra  2016             84.8"
      ]
     },
     "execution_count": 27,
     "metadata": {},
     "output_type": "execute_result"
    }
   ],
   "source": [
    "life_df[life_df['life expectancy']==84.8]"
   ]
  },
  {
   "cell_type": "markdown",
   "id": "a999c6bc",
   "metadata": {},
   "source": [
    "**8. find the lowest life expectancy**"
   ]
  },
  {
   "cell_type": "code",
   "execution_count": 29,
   "id": "1f3876d5",
   "metadata": {},
   "outputs": [
    {
     "data": {
      "text/plain": [
       "13.2"
      ]
     },
     "execution_count": 29,
     "metadata": {},
     "output_type": "execute_result"
    }
   ],
   "source": [
    "min_life_all = life_df['life expectancy'].min()\n",
    "min_life_all"
   ]
  },
  {
   "cell_type": "markdown",
   "id": "ad722c44",
   "metadata": {},
   "source": [
    "**9. find the country and year was the lowest life expectancy**"
   ]
  },
  {
   "cell_type": "code",
   "execution_count": 30,
   "id": "219e17f8",
   "metadata": {},
   "outputs": [
    {
     "data": {
      "text/html": [
       "<div>\n",
       "<style scoped>\n",
       "    .dataframe tbody tr th:only-of-type {\n",
       "        vertical-align: middle;\n",
       "    }\n",
       "\n",
       "    .dataframe tbody tr th {\n",
       "        vertical-align: top;\n",
       "    }\n",
       "\n",
       "    .dataframe thead th {\n",
       "        text-align: right;\n",
       "    }\n",
       "</style>\n",
       "<table border=\"1\" class=\"dataframe\">\n",
       "  <thead>\n",
       "    <tr style=\"text-align: right;\">\n",
       "      <th></th>\n",
       "      <th>country</th>\n",
       "      <th>year</th>\n",
       "      <th>life expectancy</th>\n",
       "    </tr>\n",
       "  </thead>\n",
       "  <tbody>\n",
       "    <tr>\n",
       "      <th>50626</th>\n",
       "      <td>Rwanda</td>\n",
       "      <td>1994</td>\n",
       "      <td>13.2</td>\n",
       "    </tr>\n",
       "  </tbody>\n",
       "</table>\n",
       "</div>"
      ],
      "text/plain": [
       "      country  year  life expectancy\n",
       "50626  Rwanda  1994             13.2"
      ]
     },
     "execution_count": 30,
     "metadata": {},
     "output_type": "execute_result"
    }
   ],
   "source": [
    "life_df[life_df['life expectancy']==13.2]"
   ]
  },
  {
   "cell_type": "markdown",
   "id": "8d214cdc",
   "metadata": {},
   "source": [
    "**10. find the 90% quantile of the life expectancy**"
   ]
  },
  {
   "cell_type": "code",
   "execution_count": 32,
   "id": "8494814b",
   "metadata": {},
   "outputs": [
    {
     "data": {
      "text/plain": [
       "76.4"
      ]
     },
     "execution_count": 32,
     "metadata": {},
     "output_type": "execute_result"
    }
   ],
   "source": [
    "q90_life_all = life_df['life expectancy'].quantile(0.9)\n",
    "q90_life_all"
   ]
  },
  {
   "cell_type": "markdown",
   "id": "7b137e01",
   "metadata": {},
   "source": [
    "**11. calculate min, max, mean and possibly other descriptors with a single line**"
   ]
  },
  {
   "cell_type": "code",
   "execution_count": 33,
   "id": "d6bfa24d",
   "metadata": {},
   "outputs": [
    {
     "data": {
      "text/html": [
       "<div>\n",
       "<style scoped>\n",
       "    .dataframe tbody tr th:only-of-type {\n",
       "        vertical-align: middle;\n",
       "    }\n",
       "\n",
       "    .dataframe tbody tr th {\n",
       "        vertical-align: top;\n",
       "    }\n",
       "\n",
       "    .dataframe thead th {\n",
       "        text-align: right;\n",
       "    }\n",
       "</style>\n",
       "<table border=\"1\" class=\"dataframe\">\n",
       "  <thead>\n",
       "    <tr style=\"text-align: right;\">\n",
       "      <th></th>\n",
       "      <th>year</th>\n",
       "      <th>life expectancy</th>\n",
       "    </tr>\n",
       "  </thead>\n",
       "  <tbody>\n",
       "    <tr>\n",
       "      <th>count</th>\n",
       "      <td>13707.000000</td>\n",
       "      <td>13707.000000</td>\n",
       "    </tr>\n",
       "    <tr>\n",
       "      <th>mean</th>\n",
       "      <td>1983.251550</td>\n",
       "      <td>62.988833</td>\n",
       "    </tr>\n",
       "    <tr>\n",
       "      <th>std</th>\n",
       "      <td>19.364466</td>\n",
       "      <td>11.895572</td>\n",
       "    </tr>\n",
       "    <tr>\n",
       "      <th>min</th>\n",
       "      <td>1950.000000</td>\n",
       "      <td>13.200000</td>\n",
       "    </tr>\n",
       "    <tr>\n",
       "      <th>25%</th>\n",
       "      <td>1966.000000</td>\n",
       "      <td>54.815000</td>\n",
       "    </tr>\n",
       "    <tr>\n",
       "      <th>50%</th>\n",
       "      <td>1983.000000</td>\n",
       "      <td>65.570000</td>\n",
       "    </tr>\n",
       "    <tr>\n",
       "      <th>75%</th>\n",
       "      <td>2000.000000</td>\n",
       "      <td>72.230000</td>\n",
       "    </tr>\n",
       "    <tr>\n",
       "      <th>max</th>\n",
       "      <td>2016.000000</td>\n",
       "      <td>84.800000</td>\n",
       "    </tr>\n",
       "  </tbody>\n",
       "</table>\n",
       "</div>"
      ],
      "text/plain": [
       "               year  life expectancy\n",
       "count  13707.000000     13707.000000\n",
       "mean    1983.251550        62.988833\n",
       "std       19.364466        11.895572\n",
       "min     1950.000000        13.200000\n",
       "25%     1966.000000        54.815000\n",
       "50%     1983.000000        65.570000\n",
       "75%     2000.000000        72.230000\n",
       "max     2016.000000        84.800000"
      ]
     },
     "execution_count": 33,
     "metadata": {},
     "output_type": "execute_result"
    }
   ],
   "source": [
    "life_df.describe()"
   ]
  },
  {
   "cell_type": "markdown",
   "id": "63b5117d",
   "metadata": {},
   "source": [
    "## SUMMARY"
   ]
  },
  {
   "cell_type": "code",
   "execution_count": 48,
   "id": "7e1dfc0b",
   "metadata": {},
   "outputs": [
    {
     "name": "stdout",
     "output_type": "stream",
     "text": [
      "mean life expectancy = 62.99\n",
      "mean life expectancy for the year 2000 = 68.08\n",
      "median for 1995 = 70.0\n",
      "standard deviation = 11.89557179977114\n",
      "highest life expectancy = 84.8\n",
      "...Country and year = Andorra, 2013-16\n",
      "lowest life expectancy = 13.2\n",
      "... Country and year = Rwanda, 1994\n",
      "the 90% quantile = 76.4\n",
      "the min, max, mean and possibly other descriptors with a single line = , 'life_df.describe()\n"
     ]
    }
   ],
   "source": [
    "print(f'mean life expectancy = {mean_life_all}\\n'\n",
    "      f'mean life expectancy for the year 2000 = {mean_life_2000}\\n'\n",
    "      f'median for 1995 = {median_life_1995}\\n'\n",
    "      f'standard deviation = {std_life_all}\\n'\n",
    "      f'highest life expectancy = {max_life_all}\\n'\n",
    "      f'...Country and year = Andorra, 2013-16\\nlowest life expectancy = {min_life_all}\\n'\n",
    "      f'... Country and year = Rwanda, 1994\\nthe 90% quantile = {q90_life_all}\\n'\n",
    "      \"the min, max, mean and possibly other descriptors with a single line = , 'life_df.describe()\")"
   ]
  },
  {
   "cell_type": "code",
   "execution_count": null,
   "id": "58dee3ec",
   "metadata": {},
   "outputs": [],
   "source": []
  }
 ],
 "metadata": {
  "kernelspec": {
   "display_name": "Python 3 (ipykernel)",
   "language": "python",
   "name": "python3"
  },
  "language_info": {
   "codemirror_mode": {
    "name": "ipython",
    "version": 3
   },
   "file_extension": ".py",
   "mimetype": "text/x-python",
   "name": "python",
   "nbconvert_exporter": "python",
   "pygments_lexer": "ipython3",
   "version": "3.11.3"
  }
 },
 "nbformat": 4,
 "nbformat_minor": 5
}
