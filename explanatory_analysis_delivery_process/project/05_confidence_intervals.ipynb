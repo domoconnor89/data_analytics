{
 "cells": [
  {
   "cell_type": "markdown",
   "id": "ddb71666",
   "metadata": {},
   "source": [
    "# <ins>Confidence Intervals<ins> \n",
    "\n",
    "\n",
    "For the muesli order data set, calculate the 95% confidence intervals for the mean of the profit feature using bootstrapping. Create a notebook in which following questions shall be solved:\n",
    "\n",
    "1. Initialize empty list called `sample_means`\n",
    "2. Create a `for loop` that will loop 10,000 times\n",
    "3. In each iteration using the pandas method `.sample()` sample 100 profits with replacement\n",
    "4. Also in that same iteration take the mean of these 100 samples and then append it to the `sample_means` list\n",
    "5. Using `sns.displot` plot the distribution of the `sample_means` list\n",
    "6. Convert `sample_means` list to **pandas** `Series`\n",
    "7. Using pandas `.quantile()` calculate the upper (0.975) and lower (0.025) limits of the confidence interval of the `sample_means` Series\n",
    "\n",
    "\n",
    "### <ins>Bonus<ins>\n",
    "\n",
    "8. Calculate using the `z-value` formula\n",
    "9. Compare to the results of the bootstrapping method"
   ]
  },
  {
   "cell_type": "code",
   "execution_count": 1,
   "id": "4be750bc",
   "metadata": {},
   "outputs": [],
   "source": [
    "import numpy as np\n",
    "import matplotlib.pyplot as plt\n",
    "import seaborn as sns\n",
    "import pandas as pd"
   ]
  },
  {
   "cell_type": "code",
   "execution_count": 2,
   "id": "496ce1a6",
   "metadata": {},
   "outputs": [
    {
     "data": {
      "text/html": [
       "<div>\n",
       "<style scoped>\n",
       "    .dataframe tbody tr th:only-of-type {\n",
       "        vertical-align: middle;\n",
       "    }\n",
       "\n",
       "    .dataframe tbody tr th {\n",
       "        vertical-align: top;\n",
       "    }\n",
       "\n",
       "    .dataframe thead th {\n",
       "        text-align: right;\n",
       "    }\n",
       "</style>\n",
       "<table border=\"1\" class=\"dataframe\">\n",
       "  <thead>\n",
       "    <tr style=\"text-align: right;\">\n",
       "      <th></th>\n",
       "      <th>order_id</th>\n",
       "      <th>order_date</th>\n",
       "      <th>ship_mode</th>\n",
       "      <th>processing_mode</th>\n",
       "      <th>rdy2ship_date</th>\n",
       "      <th>pickup_date</th>\n",
       "      <th>customer_id</th>\n",
       "      <th>customer_name</th>\n",
       "      <th>on_truck_scan_date</th>\n",
       "      <th>arrival_scan_date</th>\n",
       "      <th>...</th>\n",
       "      <th>categories</th>\n",
       "      <th>sub_categories</th>\n",
       "      <th>product_ids</th>\n",
       "      <th>quantity_ttl</th>\n",
       "      <th>sales_ttl</th>\n",
       "      <th>discount_ttl</th>\n",
       "      <th>profit_ttl</th>\n",
       "      <th>order_to_truck_time</th>\n",
       "      <th>processing_time</th>\n",
       "      <th>waiting_time</th>\n",
       "    </tr>\n",
       "  </thead>\n",
       "  <tbody>\n",
       "    <tr>\n",
       "      <th>0</th>\n",
       "      <td>CA-2019-121755</td>\n",
       "      <td>2019-01-16</td>\n",
       "      <td>Second Class</td>\n",
       "      <td>Standard Processing</td>\n",
       "      <td>NaT</td>\n",
       "      <td>NaT</td>\n",
       "      <td>EH-13945</td>\n",
       "      <td>Eric Hoffmann</td>\n",
       "      <td>2019-01-23</td>\n",
       "      <td>NaT</td>\n",
       "      <td>...</td>\n",
       "      <td>Special Projects Muesil, Power Muesli</td>\n",
       "      <td>Gluten Free, Super Fibre Boost</td>\n",
       "      <td>TEC-AC-10003027, OFF-BI-10001634</td>\n",
       "      <td>5</td>\n",
       "      <td>102.218</td>\n",
       "      <td>0.2</td>\n",
       "      <td>15.9965</td>\n",
       "      <td>7.0</td>\n",
       "      <td>NaN</td>\n",
       "      <td>NaN</td>\n",
       "    </tr>\n",
       "    <tr>\n",
       "      <th>1</th>\n",
       "      <td>CA-2019-118255</td>\n",
       "      <td>2019-03-11</td>\n",
       "      <td>First Class</td>\n",
       "      <td>Express</td>\n",
       "      <td>NaT</td>\n",
       "      <td>NaT</td>\n",
       "      <td>ON-18715</td>\n",
       "      <td>Odella Nelson</td>\n",
       "      <td>2019-03-13</td>\n",
       "      <td>NaT</td>\n",
       "      <td>...</td>\n",
       "      <td>Special Projects Muesil, Power Muesli</td>\n",
       "      <td>Gluten Free, Super Fibre Boost</td>\n",
       "      <td>TEC-AC-10000171, OFF-BI-10003291</td>\n",
       "      <td>4</td>\n",
       "      <td>63.440</td>\n",
       "      <td>0.0</td>\n",
       "      <td>27.9776</td>\n",
       "      <td>2.0</td>\n",
       "      <td>NaN</td>\n",
       "      <td>NaN</td>\n",
       "    </tr>\n",
       "    <tr>\n",
       "      <th>2</th>\n",
       "      <td>CA-2019-169194</td>\n",
       "      <td>2019-06-20</td>\n",
       "      <td>Standard Class</td>\n",
       "      <td>Standard Processing</td>\n",
       "      <td>NaT</td>\n",
       "      <td>NaT</td>\n",
       "      <td>LH-16900</td>\n",
       "      <td>Lena Hernandez</td>\n",
       "      <td>2019-06-26</td>\n",
       "      <td>NaT</td>\n",
       "      <td>...</td>\n",
       "      <td>Special Projects Muesil, Special Projects Muesil</td>\n",
       "      <td>Gluten Free, Only Oats</td>\n",
       "      <td>TEC-AC-10002167, TEC-PH-10003988</td>\n",
       "      <td>5</td>\n",
       "      <td>66.800</td>\n",
       "      <td>0.0</td>\n",
       "      <td>11.0540</td>\n",
       "      <td>6.0</td>\n",
       "      <td>NaN</td>\n",
       "      <td>NaN</td>\n",
       "    </tr>\n",
       "    <tr>\n",
       "      <th>3</th>\n",
       "      <td>CA-2019-111682</td>\n",
       "      <td>2019-06-17</td>\n",
       "      <td>First Class</td>\n",
       "      <td>Express</td>\n",
       "      <td>NaT</td>\n",
       "      <td>NaT</td>\n",
       "      <td>TB-21055</td>\n",
       "      <td>Ted Butterfield</td>\n",
       "      <td>2019-06-19</td>\n",
       "      <td>NaT</td>\n",
       "      <td>...</td>\n",
       "      <td>Special Projects Muesil, Power Muesli, Power M...</td>\n",
       "      <td>Gluten Free, Nuts and more, Nuts and more, Ste...</td>\n",
       "      <td>TEC-AC-10002167, OFF-PA-10001569, OFF-PA-10000...</td>\n",
       "      <td>25</td>\n",
       "      <td>655.090</td>\n",
       "      <td>0.3</td>\n",
       "      <td>102.2808</td>\n",
       "      <td>2.0</td>\n",
       "      <td>NaN</td>\n",
       "      <td>NaN</td>\n",
       "    </tr>\n",
       "    <tr>\n",
       "      <th>4</th>\n",
       "      <td>CA-2018-135545</td>\n",
       "      <td>2018-11-24</td>\n",
       "      <td>Standard Class</td>\n",
       "      <td>NaN</td>\n",
       "      <td>NaT</td>\n",
       "      <td>NaT</td>\n",
       "      <td>KM-16720</td>\n",
       "      <td>Kunst Miller</td>\n",
       "      <td>NaT</td>\n",
       "      <td>NaT</td>\n",
       "      <td>...</td>\n",
       "      <td>Special Projects Muesil, Power Muesli, Power M...</td>\n",
       "      <td>Gluten Free, Nuts and more, Super Fibre Boost,...</td>\n",
       "      <td>TEC-AC-10004633, OFF-PA-10003892, OFF-BI-10001...</td>\n",
       "      <td>15</td>\n",
       "      <td>266.294</td>\n",
       "      <td>0.2</td>\n",
       "      <td>106.8083</td>\n",
       "      <td>NaN</td>\n",
       "      <td>NaN</td>\n",
       "      <td>NaN</td>\n",
       "    </tr>\n",
       "  </tbody>\n",
       "</table>\n",
       "<p>5 rows × 26 columns</p>\n",
       "</div>"
      ],
      "text/plain": [
       "         order_id order_date       ship_mode      processing_mode  \\\n",
       "0  CA-2019-121755 2019-01-16    Second Class  Standard Processing   \n",
       "1  CA-2019-118255 2019-03-11     First Class              Express   \n",
       "2  CA-2019-169194 2019-06-20  Standard Class  Standard Processing   \n",
       "3  CA-2019-111682 2019-06-17     First Class              Express   \n",
       "4  CA-2018-135545 2018-11-24  Standard Class                  NaN   \n",
       "\n",
       "  rdy2ship_date pickup_date customer_id    customer_name on_truck_scan_date  \\\n",
       "0           NaT         NaT    EH-13945    Eric Hoffmann         2019-01-23   \n",
       "1           NaT         NaT    ON-18715    Odella Nelson         2019-03-13   \n",
       "2           NaT         NaT    LH-16900   Lena Hernandez         2019-06-26   \n",
       "3           NaT         NaT    TB-21055  Ted Butterfield         2019-06-19   \n",
       "4           NaT         NaT    KM-16720     Kunst Miller                NaT   \n",
       "\n",
       "  arrival_scan_date  ...                                         categories  \\\n",
       "0               NaT  ...              Special Projects Muesil, Power Muesli   \n",
       "1               NaT  ...              Special Projects Muesil, Power Muesli   \n",
       "2               NaT  ...   Special Projects Muesil, Special Projects Muesil   \n",
       "3               NaT  ...  Special Projects Muesil, Power Muesli, Power M...   \n",
       "4               NaT  ...  Special Projects Muesil, Power Muesli, Power M...   \n",
       "\n",
       "                                      sub_categories  \\\n",
       "0                     Gluten Free, Super Fibre Boost   \n",
       "1                     Gluten Free, Super Fibre Boost   \n",
       "2                             Gluten Free, Only Oats   \n",
       "3  Gluten Free, Nuts and more, Nuts and more, Ste...   \n",
       "4  Gluten Free, Nuts and more, Super Fibre Boost,...   \n",
       "\n",
       "                                         product_ids quantity_ttl  sales_ttl  \\\n",
       "0                   TEC-AC-10003027, OFF-BI-10001634            5    102.218   \n",
       "1                   TEC-AC-10000171, OFF-BI-10003291            4     63.440   \n",
       "2                   TEC-AC-10002167, TEC-PH-10003988            5     66.800   \n",
       "3  TEC-AC-10002167, OFF-PA-10001569, OFF-PA-10000...           25    655.090   \n",
       "4  TEC-AC-10004633, OFF-PA-10003892, OFF-BI-10001...           15    266.294   \n",
       "\n",
       "  discount_ttl profit_ttl order_to_truck_time processing_time  waiting_time  \n",
       "0          0.2    15.9965                 7.0             NaN           NaN  \n",
       "1          0.0    27.9776                 2.0             NaN           NaN  \n",
       "2          0.0    11.0540                 6.0             NaN           NaN  \n",
       "3          0.3   102.2808                 2.0             NaN           NaN  \n",
       "4          0.2   106.8083                 NaN             NaN           NaN  \n",
       "\n",
       "[5 rows x 26 columns]"
      ]
     },
     "execution_count": 2,
     "metadata": {},
     "output_type": "execute_result"
    }
   ],
   "source": [
    "df = pd.read_csv('./merged_agg_muesli.csv',\n",
    "                        parse_dates=['order_date', 'rdy2ship_date', 'pickup_date','on_truck_scan_date', 'arrival_scan_date'],\n",
    "                        dayfirst=True)\n",
    "\n",
    "df.head()"
   ]
  },
  {
   "cell_type": "markdown",
   "id": "ef01f052",
   "metadata": {},
   "source": [
    "## 1. Initialize empty list called sample_means"
   ]
  },
  {
   "cell_type": "code",
   "execution_count": 3,
   "id": "d19a7914",
   "metadata": {},
   "outputs": [],
   "source": [
    "sample_means = []"
   ]
  },
  {
   "cell_type": "markdown",
   "id": "eeee91c4",
   "metadata": {},
   "source": [
    "## 2. Create a for loop that will loop 10,000 times\n",
    "\n",
    "```python\n",
    "for i in range(10_000):\n",
    "````\n"
   ]
  },
  {
   "cell_type": "markdown",
   "id": "b0e5453e",
   "metadata": {},
   "source": [
    "## 3. In each iteration using the pandas method .sample() sample 100 profits with replacement"
   ]
  },
  {
   "cell_type": "code",
   "execution_count": 4,
   "id": "05021227",
   "metadata": {},
   "outputs": [],
   "source": [
    "# create and save a new DF of 100 samples from the origianl DF...\n",
    "#... otherwise we will create a new/different each iteration \n",
    "\n",
    "df_prof = df[df['profit_ttl'].notnull()]\n",
    "\n",
    "profit_sample = df_prof['profit_ttl'].sample(100)"
   ]
  },
  {
   "cell_type": "markdown",
   "id": "0c3df258",
   "metadata": {},
   "source": [
    "```python\n",
    "for i in range(10_000):\n",
    "    bootstrap_samp = profit_sample(frac=1, replace=True)\n",
    "```"
   ]
  },
  {
   "cell_type": "markdown",
   "id": "3a0e47c1",
   "metadata": {},
   "source": [
    "## 4. Also in that same iteration take the mean of these 100 samples and then append it to the sample_means list\n",
    "\n",
    "```python\n",
    "\n",
    "sample_means = []\n",
    "\n",
    "for i in range(10_000):\n",
    "    bootstrap_samp = profit_sample.sample(frac=1, replace=True)\n",
    "    sample_means.append(bootstrap_samp.mean())   \n",
    "    \n",
    "````\n"
   ]
  },
  {
   "cell_type": "code",
   "execution_count": 5,
   "id": "71850a6b",
   "metadata": {},
   "outputs": [],
   "source": [
    "sample_means = []\n",
    "\n",
    "for i in range(10_000):\n",
    "    bootstrap_samp = profit_sample.sample(frac=1, replace=True)\n",
    "    sample_means.append(bootstrap_samp.mean())"
   ]
  },
  {
   "cell_type": "code",
   "execution_count": 6,
   "id": "3631c96f",
   "metadata": {},
   "outputs": [],
   "source": [
    "# 5.Using sns.displot plot the distribution of the sample_means list"
   ]
  },
  {
   "cell_type": "code",
   "execution_count": 7,
   "id": "e098a9b0",
   "metadata": {},
   "outputs": [
    {
     "data": {
      "image/png": "[encoded data removed]",
      "text/plain": [
       "<Figure size 500x500 with 1 Axes>"
      ]
     },
     "metadata": {},
     "output_type": "display_data"
    }
   ],
   "source": [
    "sns.displot(sample_means, kde=True, stat = 'probability', color='darkcyan', alpha=0.2);"
   ]
  },
  {
   "cell_type": "markdown",
   "id": "a1b8a61b",
   "metadata": {},
   "source": [
    "## 6. Convert sample_means list to pandas Series"
   ]
  },
  {
   "cell_type": "code",
   "execution_count": 8,
   "id": "32c62098",
   "metadata": {},
   "outputs": [],
   "source": [
    "series_means = pd.Series(sample_means)"
   ]
  },
  {
   "cell_type": "code",
   "execution_count": 9,
   "id": "e60b528f",
   "metadata": {},
   "outputs": [],
   "source": [
    "# 7.Using pandas .quantile() calculate the upper (0.975) and lower (0.025) limits of the confidence interval...\n",
    "#... of the sample_means Series"
   ]
  },
  {
   "cell_type": "code",
   "execution_count": 10,
   "id": "26851aaf",
   "metadata": {},
   "outputs": [
    {
     "data": {
      "text/plain": [
       "(0.975, 0.025)"
      ]
     },
     "execution_count": 10,
     "metadata": {},
     "output_type": "execute_result"
    }
   ],
   "source": [
    "clvl = 0.95\n",
    "lower_quantile = round(((1-clvl)/2),3)  \n",
    "upper_quantile = clvl + ((1-clvl)/2)\n",
    "\n",
    "upper_quantile, lower_quantile"
   ]
  },
  {
   "cell_type": "code",
   "execution_count": 11,
   "id": "b807215d",
   "metadata": {},
   "outputs": [],
   "source": [
    "# series_means = pd.Series(sample_means)\n",
    "\n",
    "lower = series_means.quantile(lower_quantile)\n",
    "\n",
    "upper = series_means.quantile(upper_quantile)"
   ]
  },
  {
   "cell_type": "code",
   "execution_count": 12,
   "id": "1de7bd5d",
   "metadata": {},
   "outputs": [
    {
     "data": {
      "text/plain": [
       "(42.0524661, 113.97956524999996)"
      ]
     },
     "execution_count": 12,
     "metadata": {},
     "output_type": "execute_result"
    }
   ],
   "source": [
    "lower, upper"
   ]
  },
  {
   "cell_type": "code",
   "execution_count": 13,
   "id": "636adb7c",
   "metadata": {},
   "outputs": [
    {
     "data": {
      "text/plain": [
       "75.3702554526"
      ]
     },
     "execution_count": 13,
     "metadata": {},
     "output_type": "execute_result"
    }
   ],
   "source": [
    "bootstrap_means = series_means.mean()\n",
    "bootstrap_means"
   ]
  },
  {
   "cell_type": "code",
   "execution_count": 14,
   "id": "c670da47",
   "metadata": {},
   "outputs": [],
   "source": [
    "# lower = series_means.quantile(lower_quantile)\n",
    "# upper = series_means.quantile(upper_quantile)\n",
    "\n",
    "bootstrap_dict= {\n",
    "    'min': round((profit_sample.min()),3),\n",
    "    'lower' : lower.round(3),\n",
    "    'mean' : bootstrap_means.round(3),\n",
    "    'upper' : upper.round(3),\n",
    "    'max' : round((profit_sample.max()),3)\n",
    "    }"
   ]
  },
  {
   "cell_type": "code",
   "execution_count": 15,
   "id": "23dc5f4b",
   "metadata": {},
   "outputs": [
    {
     "data": {
      "text/html": [
       "<div>\n",
       "<style scoped>\n",
       "    .dataframe tbody tr th:only-of-type {\n",
       "        vertical-align: middle;\n",
       "    }\n",
       "\n",
       "    .dataframe tbody tr th {\n",
       "        vertical-align: top;\n",
       "    }\n",
       "\n",
       "    .dataframe thead th {\n",
       "        text-align: right;\n",
       "    }\n",
       "</style>\n",
       "<table border=\"1\" class=\"dataframe\">\n",
       "  <thead>\n",
       "    <tr style=\"text-align: right;\">\n",
       "      <th></th>\n",
       "      <th>min</th>\n",
       "      <th>lower</th>\n",
       "      <th>mean</th>\n",
       "      <th>upper</th>\n",
       "      <th>max</th>\n",
       "    </tr>\n",
       "  </thead>\n",
       "  <tbody>\n",
       "    <tr>\n",
       "      <th>bootstrap</th>\n",
       "      <td>-258.595</td>\n",
       "      <td>42.052</td>\n",
       "      <td>75.37</td>\n",
       "      <td>113.98</td>\n",
       "      <td>1177.386</td>\n",
       "    </tr>\n",
       "  </tbody>\n",
       "</table>\n",
       "</div>"
      ],
      "text/plain": [
       "               min   lower   mean   upper       max\n",
       "bootstrap -258.595  42.052  75.37  113.98  1177.386"
      ]
     },
     "execution_count": 15,
     "metadata": {},
     "output_type": "execute_result"
    }
   ],
   "source": [
    "pd.DataFrame([bootstrap_dict], index=['bootstrap'])"
   ]
  },
  {
   "cell_type": "markdown",
   "id": "04d337ab",
   "metadata": {},
   "source": [
    "## 8. Calculate using the z-value formula"
   ]
  },
  {
   "cell_type": "code",
   "execution_count": 16,
   "id": "ccec7da9",
   "metadata": {},
   "outputs": [
    {
     "data": {
      "text/plain": [
       "(75.846, 185.586)"
      ]
     },
     "execution_count": 16,
     "metadata": {},
     "output_type": "execute_result"
    }
   ],
   "source": [
    "prof_samp_mean = round((profit_sample.mean()),3)\n",
    "prof_samp_std = round((profit_sample.std()),3)\n",
    "\n",
    "prof_samp_mean, prof_samp_std"
   ]
  },
  {
   "cell_type": "code",
   "execution_count": 17,
   "id": "5669ea42",
   "metadata": {},
   "outputs": [],
   "source": [
    "# Confidence level (clvl) = 0.95, then z = 1.96\n",
    "\n",
    "z = 1.96\n",
    "n = len(profit_sample)\n",
    "\n",
    "# mean + (z-value * std) / SquareRoot of number of values\n",
    "lower_limit_eq = (prof_samp_mean - ((z*prof_samp_std)/np.sqrt(n))).round(3)\n",
    "upper_limit_eq = (prof_samp_mean + ((z*prof_samp_std)/np.sqrt(n))).round(3)"
   ]
  },
  {
   "cell_type": "code",
   "execution_count": 18,
   "id": "d205e4cc",
   "metadata": {},
   "outputs": [
    {
     "data": {
      "text/plain": [
       "(39.471, 112.221)"
      ]
     },
     "execution_count": 18,
     "metadata": {},
     "output_type": "execute_result"
    }
   ],
   "source": [
    "lower_limit_eq, upper_limit_eq"
   ]
  },
  {
   "cell_type": "code",
   "execution_count": 19,
   "id": "65093551",
   "metadata": {},
   "outputs": [
    {
     "data": {
      "text/plain": [
       "100"
      ]
     },
     "execution_count": 19,
     "metadata": {},
     "output_type": "execute_result"
    }
   ],
   "source": [
    "n"
   ]
  },
  {
   "cell_type": "code",
   "execution_count": 20,
   "id": "9e7a446d",
   "metadata": {},
   "outputs": [],
   "source": [
    "# 9.Compare to the results of the bootstrapping method"
   ]
  },
  {
   "cell_type": "code",
   "execution_count": 21,
   "id": "17c673b7",
   "metadata": {},
   "outputs": [
    {
     "data": {
      "text/html": [
       "<div>\n",
       "<style scoped>\n",
       "    .dataframe tbody tr th:only-of-type {\n",
       "        vertical-align: middle;\n",
       "    }\n",
       "\n",
       "    .dataframe tbody tr th {\n",
       "        vertical-align: top;\n",
       "    }\n",
       "\n",
       "    .dataframe thead th {\n",
       "        text-align: right;\n",
       "    }\n",
       "</style>\n",
       "<table border=\"1\" class=\"dataframe\">\n",
       "  <thead>\n",
       "    <tr style=\"text-align: right;\">\n",
       "      <th></th>\n",
       "      <th>min</th>\n",
       "      <th>lower</th>\n",
       "      <th>mean</th>\n",
       "      <th>upper</th>\n",
       "      <th>max</th>\n",
       "    </tr>\n",
       "  </thead>\n",
       "  <tbody>\n",
       "    <tr>\n",
       "      <th>bootstrap</th>\n",
       "      <td>-258.595</td>\n",
       "      <td>42.052</td>\n",
       "      <td>75.370</td>\n",
       "      <td>113.980</td>\n",
       "      <td>1177.386</td>\n",
       "    </tr>\n",
       "    <tr>\n",
       "      <th>equation</th>\n",
       "      <td>-258.595</td>\n",
       "      <td>39.471</td>\n",
       "      <td>75.846</td>\n",
       "      <td>112.221</td>\n",
       "      <td>1177.386</td>\n",
       "    </tr>\n",
       "  </tbody>\n",
       "</table>\n",
       "</div>"
      ],
      "text/plain": [
       "               min   lower    mean    upper       max\n",
       "bootstrap -258.595  42.052  75.370  113.980  1177.386\n",
       "equation  -258.595  39.471  75.846  112.221  1177.386"
      ]
     },
     "execution_count": 21,
     "metadata": {},
     "output_type": "execute_result"
    }
   ],
   "source": [
    "z_dict= {\n",
    "    'min': round((profit_sample.min()),3),\n",
    "    'lower' : lower_limit_eq.round(3),\n",
    "    'mean': prof_samp_mean,\n",
    "    'upper' : upper_limit_eq.round(3),\n",
    "    'max' : round((profit_sample.max()),3)\n",
    "    }\n",
    "df_compare = pd.DataFrame([bootstrap_dict, z_dict], index=['bootstrap', 'equation'])\n",
    "df_compare"
   ]
  },
  {
   "cell_type": "code",
   "execution_count": null,
   "id": "283c5dbf",
   "metadata": {},
   "outputs": [],
   "source": []
  },
  {
   "cell_type": "code",
   "execution_count": 27,
   "id": "82d36a44",
   "metadata": {
    "scrolled": false
   },
   "outputs": [
    {
     "data": {
      "image/png": "[encoded data removed]",
      "text/plain": [
       "<Figure size 1400x600 with 1 Axes>"
      ]
     },
     "metadata": {},
     "output_type": "display_data"
    }
   ],
   "source": [
    "# post-lecture add-on: comparing the lower and upper limits (bootstrap vs equation) in our histogram\n",
    "\n",
    "plt.figure(figsize=(14,6))\n",
    "\n",
    "# Bootstrapped Means\n",
    "sns.histplot(profit_sample, kde=True, bins=30)\n",
    "\n",
    "# line and value annotation for the mean of bootstrapped means\n",
    "plt.axvline(x= prof_samp_mean, color='fuchsia')\n",
    "plt.text(prof_samp_mean-5, 40, f'mean of means = {prof_samp_mean.round(3)}', color='fuchsia', rotation = 0)\n",
    "\n",
    "# lines and value annotations for lower/upper limits  from the bootstrapping method\n",
    "plt.axvline(lower.round(3), color='r')\n",
    "plt.axvline(upper.round(3), color='r')\n",
    "plt.text(lower-300, 30, f'bootstrap lower = {lower.round(3)}', color='r')\n",
    "plt.text(upper+10, 30, f'bootstrap upper = {upper.round(3)}', color='r')\n",
    "\n",
    "# lines and value annotations for lower/upper limits calculated with the equation\n",
    "plt.axvline(lower_limit_eq.round(3), color='g')\n",
    "plt.axvline(upper_limit_eq.round(3), color='g')\n",
    "plt.text(lower_limit_eq-300, 25, f'equation lower = {lower_limit_eq.round(3)}', color='g')\n",
    "plt.text(upper_limit_eq+10, 25, f'equation upper = {upper_limit_eq.round(3)}', color='g')\n",
    "\n",
    "sns.despine();\n",
    "plt.title('Distribution of Bootstrapped Sample Means', pad=20);"
   ]
  },
  {
   "cell_type": "code",
   "execution_count": null,
   "id": "f4c91f96",
   "metadata": {},
   "outputs": [],
   "source": []
  }
 ],
 "metadata": {
  "kernelspec": {
   "display_name": "Python 3 (ipykernel)",
   "language": "python",
   "name": "python3"
  },
  "language_info": {
   "codemirror_mode": {
    "name": "ipython",
    "version": 3
   },
   "file_extension": ".py",
   "mimetype": "text/x-python",
   "name": "python",
   "nbconvert_exporter": "python",
   "pygments_lexer": "ipython3",
   "version": "3.11.3"
  }
 },
 "nbformat": 4,
 "nbformat_minor": 5
}
